{
 "cells": [
  {
   "cell_type": "markdown",
   "id": "3b87ef03",
   "metadata": {},
   "source": [
    "# DELIVERY ITEM DATASET\n",
    "Using the above dataset to evaluate the different linear regression model to predict the delivery time. "
   ]
  },
  {
   "cell_type": "markdown",
   "id": "862d5061",
   "metadata": {},
   "source": [
    "## BUSINESS OBJECTIVE\n",
    "* Maximize Delivery on time\n",
    "* Minimize Delay\n",
    "* Maximize service quality. "
   ]
  },
  {
   "cell_type": "markdown",
   "id": "13ec6d84",
   "metadata": {},
   "source": [
    "## CONSTRAINTS\n",
    "* Calamaties.\n",
    "* Logistic problems. \n",
    "* Inefficency. "
   ]
  },
  {
   "cell_type": "markdown",
   "id": "070c9b64",
   "metadata": {},
   "source": [
    "## DATA DICTIONARY"
   ]
  },
  {
   "cell_type": "markdown",
   "id": "1a47d442",
   "metadata": {},
   "source": [
    "| **slno** |      **Name of Feature**     | **Description**                                                          | **Type** | **Relevance** |\n",
    "|:--------:|:----------------------------|:--------------------------------------------------------------------------|:--------:|:-------------:|\n",
    "| 1        | Delivery time     | The delivery time of the product.                      | Ratio    | Relevant      |\n",
    "| 2        | Sorting time | The sorting time of the product.  | Ratio    | Relevant      |"
   ]
  },
  {
   "cell_type": "markdown",
   "id": "46e5d637",
   "metadata": {},
   "source": [
    "Importing the required libraries."
   ]
  },
  {
   "cell_type": "code",
   "execution_count": 1,
   "id": "17e87c30",
   "metadata": {},
   "outputs": [],
   "source": [
    "import pandas as pd\n",
    "import numpy as np\n",
    "import matplotlib.pyplot as plt\n",
    "import seaborn as sns\n",
    "from scipy import stats\n",
    "from termcolor import colored\n",
    "from sklearn.model_selection import train_test_split"
   ]
  },
  {
   "cell_type": "markdown",
   "id": "e26adb47",
   "metadata": {},
   "source": [
    "Loading the dataset using the pandas library and confirming the dataset has been loaded properly using the 'head' function"
   ]
  },
  {
   "cell_type": "code",
   "execution_count": 2,
   "id": "3fd16244",
   "metadata": {},
   "outputs": [
    {
     "data": {
      "text/html": [
       "<div>\n",
       "<style scoped>\n",
       "    .dataframe tbody tr th:only-of-type {\n",
       "        vertical-align: middle;\n",
       "    }\n",
       "\n",
       "    .dataframe tbody tr th {\n",
       "        vertical-align: top;\n",
       "    }\n",
       "\n",
       "    .dataframe thead th {\n",
       "        text-align: right;\n",
       "    }\n",
       "</style>\n",
       "<table border=\"1\" class=\"dataframe\">\n",
       "  <thead>\n",
       "    <tr style=\"text-align: right;\">\n",
       "      <th></th>\n",
       "      <th>Delivery Time</th>\n",
       "      <th>Sorting Time</th>\n",
       "    </tr>\n",
       "  </thead>\n",
       "  <tbody>\n",
       "    <tr>\n",
       "      <th>0</th>\n",
       "      <td>21.00</td>\n",
       "      <td>10</td>\n",
       "    </tr>\n",
       "    <tr>\n",
       "      <th>1</th>\n",
       "      <td>13.50</td>\n",
       "      <td>4</td>\n",
       "    </tr>\n",
       "    <tr>\n",
       "      <th>2</th>\n",
       "      <td>19.75</td>\n",
       "      <td>6</td>\n",
       "    </tr>\n",
       "    <tr>\n",
       "      <th>3</th>\n",
       "      <td>24.00</td>\n",
       "      <td>9</td>\n",
       "    </tr>\n",
       "    <tr>\n",
       "      <th>4</th>\n",
       "      <td>29.00</td>\n",
       "      <td>10</td>\n",
       "    </tr>\n",
       "  </tbody>\n",
       "</table>\n",
       "</div>"
      ],
      "text/plain": [
       "   Delivery Time  Sorting Time\n",
       "0          21.00            10\n",
       "1          13.50             4\n",
       "2          19.75             6\n",
       "3          24.00             9\n",
       "4          29.00            10"
      ]
     },
     "execution_count": 2,
     "metadata": {},
     "output_type": "execute_result"
    }
   ],
   "source": [
    "df0 = pd.read_csv(r\"D:\\360Digitmg\\ASSIGNMENTS\\Ass21\\delivery_time.csv\")\n",
    "df=df0.copy()\n",
    "df.head()"
   ]
  },
  {
   "cell_type": "markdown",
   "id": "6b969727",
   "metadata": {},
   "source": [
    "### EXPLORATORY DATA ANALYSIS & FEATURE ENGINEERING"
   ]
  },
  {
   "cell_type": "markdown",
   "id": "89606ccd",
   "metadata": {},
   "source": [
    "The below three lines give a general idea about the dataset like the shape, type and non null values."
   ]
  },
  {
   "cell_type": "code",
   "execution_count": 3,
   "id": "46c129c5",
   "metadata": {},
   "outputs": [
    {
     "data": {
      "text/plain": [
       "(21, 2)"
      ]
     },
     "execution_count": 3,
     "metadata": {},
     "output_type": "execute_result"
    }
   ],
   "source": [
    "df.shape"
   ]
  },
  {
   "cell_type": "code",
   "execution_count": 4,
   "id": "16c1f67c",
   "metadata": {},
   "outputs": [
    {
     "data": {
      "text/plain": [
       "Delivery Time    float64\n",
       "Sorting Time       int64\n",
       "dtype: object"
      ]
     },
     "execution_count": 4,
     "metadata": {},
     "output_type": "execute_result"
    }
   ],
   "source": [
    "df.dtypes"
   ]
  },
  {
   "cell_type": "code",
   "execution_count": 5,
   "id": "414ae339",
   "metadata": {},
   "outputs": [
    {
     "name": "stdout",
     "output_type": "stream",
     "text": [
      "<class 'pandas.core.frame.DataFrame'>\n",
      "RangeIndex: 21 entries, 0 to 20\n",
      "Data columns (total 2 columns):\n",
      " #   Column         Non-Null Count  Dtype  \n",
      "---  ------         --------------  -----  \n",
      " 0   Delivery Time  21 non-null     float64\n",
      " 1   Sorting Time   21 non-null     int64  \n",
      "dtypes: float64(1), int64(1)\n",
      "memory usage: 464.0 bytes\n"
     ]
    }
   ],
   "source": [
    "df.info()"
   ]
  },
  {
   "cell_type": "markdown",
   "id": "78ee999b",
   "metadata": {},
   "source": [
    "The describe function gives the count, min, max, mean, standard deviation and quantile values of the dataset."
   ]
  },
  {
   "cell_type": "code",
   "execution_count": 6,
   "id": "12c467cc",
   "metadata": {},
   "outputs": [
    {
     "data": {
      "text/html": [
       "<div>\n",
       "<style scoped>\n",
       "    .dataframe tbody tr th:only-of-type {\n",
       "        vertical-align: middle;\n",
       "    }\n",
       "\n",
       "    .dataframe tbody tr th {\n",
       "        vertical-align: top;\n",
       "    }\n",
       "\n",
       "    .dataframe thead th {\n",
       "        text-align: right;\n",
       "    }\n",
       "</style>\n",
       "<table border=\"1\" class=\"dataframe\">\n",
       "  <thead>\n",
       "    <tr style=\"text-align: right;\">\n",
       "      <th></th>\n",
       "      <th>Delivery Time</th>\n",
       "      <th>Sorting Time</th>\n",
       "    </tr>\n",
       "  </thead>\n",
       "  <tbody>\n",
       "    <tr>\n",
       "      <th>count</th>\n",
       "      <td>21.000000</td>\n",
       "      <td>21.000000</td>\n",
       "    </tr>\n",
       "    <tr>\n",
       "      <th>mean</th>\n",
       "      <td>16.790952</td>\n",
       "      <td>6.190476</td>\n",
       "    </tr>\n",
       "    <tr>\n",
       "      <th>std</th>\n",
       "      <td>5.074901</td>\n",
       "      <td>2.542028</td>\n",
       "    </tr>\n",
       "    <tr>\n",
       "      <th>min</th>\n",
       "      <td>8.000000</td>\n",
       "      <td>2.000000</td>\n",
       "    </tr>\n",
       "    <tr>\n",
       "      <th>25%</th>\n",
       "      <td>13.500000</td>\n",
       "      <td>4.000000</td>\n",
       "    </tr>\n",
       "    <tr>\n",
       "      <th>50%</th>\n",
       "      <td>17.830000</td>\n",
       "      <td>6.000000</td>\n",
       "    </tr>\n",
       "    <tr>\n",
       "      <th>75%</th>\n",
       "      <td>19.750000</td>\n",
       "      <td>8.000000</td>\n",
       "    </tr>\n",
       "    <tr>\n",
       "      <th>max</th>\n",
       "      <td>29.000000</td>\n",
       "      <td>10.000000</td>\n",
       "    </tr>\n",
       "  </tbody>\n",
       "</table>\n",
       "</div>"
      ],
      "text/plain": [
       "       Delivery Time  Sorting Time\n",
       "count      21.000000     21.000000\n",
       "mean       16.790952      6.190476\n",
       "std         5.074901      2.542028\n",
       "min         8.000000      2.000000\n",
       "25%        13.500000      4.000000\n",
       "50%        17.830000      6.000000\n",
       "75%        19.750000      8.000000\n",
       "max        29.000000     10.000000"
      ]
     },
     "execution_count": 6,
     "metadata": {},
     "output_type": "execute_result"
    }
   ],
   "source": [
    "df.describe()"
   ]
  },
  {
   "cell_type": "markdown",
   "id": "f7717389",
   "metadata": {},
   "source": [
    "Checking the Number of Duplicates in the Dataset."
   ]
  },
  {
   "cell_type": "code",
   "execution_count": 7,
   "id": "7e5d1006",
   "metadata": {},
   "outputs": [
    {
     "name": "stdout",
     "output_type": "stream",
     "text": [
      "\u001b[1m\u001b[34m Number of Duplicate values: \u001b[0m 0\n"
     ]
    }
   ],
   "source": [
    "duplicate_values=df.duplicated(subset=None,keep='first').sum()\n",
    "print(colored(' Number of Duplicate values: ','blue',attrs=['bold']),duplicate_values)"
   ]
  },
  {
   "cell_type": "markdown",
   "id": "596b1b85",
   "metadata": {},
   "source": [
    "Checking the Number and Percentage of Missing Values in the Dataset."
   ]
  },
  {
   "cell_type": "code",
   "execution_count": 8,
   "id": "72d872c0",
   "metadata": {},
   "outputs": [
    {
     "name": "stdout",
     "output_type": "stream",
     "text": [
      "\u001b[1m\u001b[34mNumber of Missing Values\n",
      "\n",
      "\u001b[0m Delivery Time    0\n",
      "Sorting Time     0\n",
      "dtype: int64\n"
     ]
    }
   ],
   "source": [
    "missing=df.isna().sum().sort_values(ascending=False)\n",
    "print(colored(\"Number of Missing Values\\n\\n\",'blue',attrs=['bold']),missing)"
   ]
  },
  {
   "cell_type": "code",
   "execution_count": 9,
   "id": "422f0bc7",
   "metadata": {},
   "outputs": [
    {
     "name": "stdout",
     "output_type": "stream",
     "text": [
      "\u001b[1m\u001b[34mNumber of Unique Values:\n",
      "\n",
      "\u001b[0m Delivery Time    21\n",
      "Sorting Time      9\n",
      "dtype: int64\n"
     ]
    }
   ],
   "source": [
    "print(colored('Number of Unique Values:\\n\\n','blue',attrs=['bold']),df.nunique())"
   ]
  },
  {
   "cell_type": "markdown",
   "id": "f658e768",
   "metadata": {},
   "source": [
    "### First Moment Business Decision or Measures of Central Tendency.\n",
    "* It gives the mean, median and mode values of the dataset.\n",
    "* Mean is the average of the data and it easily gets influenced by the outliers.\n",
    "* Median is the middle most value of the dataset.\n",
    "* Mode is the most repeated value of the dataset.\n",
    "* If the mean, median & mode are same then the data has normal distribution otherwise the distribution is not normal."
   ]
  },
  {
   "cell_type": "code",
   "execution_count": 10,
   "id": "c8ffae12",
   "metadata": {},
   "outputs": [
    {
     "data": {
      "text/plain": [
       "Delivery Time    16.790952\n",
       "Sorting Time      6.190476\n",
       "dtype: float64"
      ]
     },
     "execution_count": 10,
     "metadata": {},
     "output_type": "execute_result"
    }
   ],
   "source": [
    "df.mean()"
   ]
  },
  {
   "cell_type": "code",
   "execution_count": 11,
   "id": "457e7aa8",
   "metadata": {},
   "outputs": [
    {
     "data": {
      "text/plain": [
       "Delivery Time    17.83\n",
       "Sorting Time      6.00\n",
       "dtype: float64"
      ]
     },
     "execution_count": 11,
     "metadata": {},
     "output_type": "execute_result"
    }
   ],
   "source": [
    "df.median()"
   ]
  },
  {
   "cell_type": "code",
   "execution_count": 12,
   "id": "b828d378",
   "metadata": {},
   "outputs": [
    {
     "name": "stderr",
     "output_type": "stream",
     "text": [
      "C:\\Users\\lenny\\AppData\\Local\\Temp\\ipykernel_22424\\4235401754.py:1: FutureWarning: Unlike other reduction functions (e.g. `skew`, `kurtosis`), the default behavior of `mode` typically preserves the axis it acts along. In SciPy 1.11.0, this behavior will change: the default value of `keepdims` will become False, the `axis` over which the statistic is taken will be eliminated, and the value None will no longer be accepted. Set `keepdims` to True or False to avoid this warning.\n",
      "  stats.mode(df)\n"
     ]
    },
    {
     "data": {
      "text/plain": [
       "ModeResult(mode=array([[8., 7.]]), count=array([[1, 4]]))"
      ]
     },
     "execution_count": 12,
     "metadata": {},
     "output_type": "execute_result"
    }
   ],
   "source": [
    "stats.mode(df)"
   ]
  },
  {
   "cell_type": "markdown",
   "id": "ff80d2c1",
   "metadata": {},
   "source": [
    "### Second Moment Business Decision or Measures of Dispersion\n",
    "* It contains Variance, Standard Deviation & Range.\n",
    "* It gives a general idea about the spread of data in the dataset.\n",
    "* Variance is the average squared distance of each data point from the mean.\n",
    "* Standard deviation is the root of the variance.\n",
    "* Range is the difference between the max and min data point of the dataset."
   ]
  },
  {
   "cell_type": "code",
   "execution_count": 13,
   "id": "437c14a9",
   "metadata": {},
   "outputs": [
    {
     "data": {
      "text/plain": [
       "Delivery Time    25.754619\n",
       "Sorting Time      6.461905\n",
       "dtype: float64"
      ]
     },
     "execution_count": 13,
     "metadata": {},
     "output_type": "execute_result"
    }
   ],
   "source": [
    "df.var()"
   ]
  },
  {
   "cell_type": "code",
   "execution_count": 14,
   "id": "f2adb8c6",
   "metadata": {},
   "outputs": [
    {
     "data": {
      "text/plain": [
       "Delivery Time    5.074901\n",
       "Sorting Time     2.542028\n",
       "dtype: float64"
      ]
     },
     "execution_count": 14,
     "metadata": {},
     "output_type": "execute_result"
    }
   ],
   "source": [
    "df.std()"
   ]
  },
  {
   "cell_type": "markdown",
   "id": "28a243e8",
   "metadata": {},
   "source": [
    "### THIRD MOMENT BUSINESS DECISION OR SKEWNESS\n",
    "* Skewness gives the measure of asymmetry in a data.\n",
    "* The types of skewness are as follows:\n",
    "    * Negative skewness or left skewed.\n",
    "    * Positive skewness or right skewed.\n",
    "    * If skewness = 0 then it is normally distributed."
   ]
  },
  {
   "cell_type": "code",
   "execution_count": 15,
   "id": "4a418d49",
   "metadata": {},
   "outputs": [
    {
     "data": {
      "text/plain": [
       "Delivery Time    0.352390\n",
       "Sorting Time     0.047115\n",
       "dtype: float64"
      ]
     },
     "execution_count": 15,
     "metadata": {},
     "output_type": "execute_result"
    }
   ],
   "source": [
    "df.skew()"
   ]
  },
  {
   "cell_type": "markdown",
   "id": "66e9277b",
   "metadata": {},
   "source": [
    "### FOURTH MOMENT BUSINESS DECISION OR KURTOSIS\n",
    "* Kurtosis is the peakedness of the distribution.\n",
    "* Negative kurtosis implies a wider peak and thinner tails.\n",
    "* Positive kurtosis implies a narrow peak and wider tails."
   ]
  },
  {
   "cell_type": "code",
   "execution_count": 16,
   "id": "488baf39",
   "metadata": {
    "scrolled": true
   },
   "outputs": [
    {
     "data": {
      "text/plain": [
       "Delivery Time    0.317960\n",
       "Sorting Time    -1.148455\n",
       "dtype: float64"
      ]
     },
     "execution_count": 16,
     "metadata": {},
     "output_type": "execute_result"
    }
   ],
   "source": [
    "df.kurt()"
   ]
  },
  {
   "cell_type": "markdown",
   "id": "55e7aebe",
   "metadata": {},
   "source": [
    "### GRAPHICAL REPRESENTATION"
   ]
  },
  {
   "cell_type": "markdown",
   "id": "7f7befb7",
   "metadata": {},
   "source": [
    "Plotting histograms of each variable."
   ]
  },
  {
   "cell_type": "code",
   "execution_count": 17,
   "id": "e440e9fa",
   "metadata": {},
   "outputs": [
    {
     "name": "stderr",
     "output_type": "stream",
     "text": [
      "C:\\Users\\lenny\\AppData\\Local\\Temp\\ipykernel_22424\\522995607.py:3: UserWarning: To output multiple subplots, the figure containing the passed axes is being cleared.\n",
      "  df.hist(ax=ax)\n"
     ]
    },
    {
     "data": {
      "text/plain": [
       "<function matplotlib.pyplot.show(close=None, block=None)>"
      ]
     },
     "execution_count": 17,
     "metadata": {},
     "output_type": "execute_result"
    },
    {
     "data": {
      "image/png": "[encoded data removed]",
      "text/plain": [
       "<Figure size 1080x576 with 2 Axes>"
      ]
     },
     "metadata": {
      "needs_background": "light"
     },
     "output_type": "display_data"
    }
   ],
   "source": [
    "fig=plt.figure(figsize=(15,8))\n",
    "ax=fig.gca()\n",
    "df.hist(ax=ax)\n",
    "plt.show"
   ]
  },
  {
   "cell_type": "code",
   "execution_count": 18,
   "id": "1e37118b",
   "metadata": {},
   "outputs": [
    {
     "name": "stderr",
     "output_type": "stream",
     "text": [
      "C:\\Users\\lenny\\anaconda3\\lib\\site-packages\\seaborn\\_decorators.py:36: FutureWarning: Pass the following variables as keyword args: x, y. From version 0.12, the only valid positional argument will be `data`, and passing other arguments without an explicit keyword will result in an error or misinterpretation.\n",
      "  warnings.warn(\n"
     ]
    },
    {
     "data": {
      "image/png": "[encoded data removed]",
      "text/plain": [
       "<Figure size 1080x576 with 1 Axes>"
      ]
     },
     "metadata": {
      "needs_background": "light"
     },
     "output_type": "display_data"
    }
   ],
   "source": [
    "plt.figure(figsize=(15,8))\n",
    "sns.scatterplot(df['Delivery Time'],df['Sorting Time'])\n",
    "plt.title(\"Bivariate Analysis using Scatterplot\")\n",
    "plt.show()"
   ]
  },
  {
   "cell_type": "markdown",
   "id": "728e8a4d",
   "metadata": {},
   "source": [
    "Plotting boxplots of each variable."
   ]
  },
  {
   "cell_type": "code",
   "execution_count": 19,
   "id": "06dd1769",
   "metadata": {},
   "outputs": [
    {
     "data": {
      "text/plain": [
       "Index(['Delivery Time', 'Sorting Time'], dtype='object')"
      ]
     },
     "execution_count": 19,
     "metadata": {},
     "output_type": "execute_result"
    }
   ],
   "source": [
    "df.columns"
   ]
  },
  {
   "cell_type": "code",
   "execution_count": 20,
   "id": "21a9db01",
   "metadata": {},
   "outputs": [
    {
     "name": "stderr",
     "output_type": "stream",
     "text": [
      "C:\\Users\\lenny\\anaconda3\\lib\\site-packages\\seaborn\\_decorators.py:36: FutureWarning: Pass the following variable as a keyword arg: x. From version 0.12, the only valid positional argument will be `data`, and passing other arguments without an explicit keyword will result in an error or misinterpretation.\n",
      "  warnings.warn(\n"
     ]
    },
    {
     "data": {
      "text/plain": [
       "<AxesSubplot:xlabel='Delivery Time'>"
      ]
     },
     "execution_count": 20,
     "metadata": {},
     "output_type": "execute_result"
    },
    {
     "data": {
      "image/png": "[encoded data removed]",
      "text/plain": [
       "<Figure size 432x288 with 1 Axes>"
      ]
     },
     "metadata": {
      "needs_background": "light"
     },
     "output_type": "display_data"
    }
   ],
   "source": [
    "sns.boxplot(df['Delivery Time'])"
   ]
  },
  {
   "cell_type": "code",
   "execution_count": 21,
   "id": "0471ff5f",
   "metadata": {
    "scrolled": true
   },
   "outputs": [
    {
     "name": "stderr",
     "output_type": "stream",
     "text": [
      "C:\\Users\\lenny\\anaconda3\\lib\\site-packages\\seaborn\\_decorators.py:36: FutureWarning: Pass the following variable as a keyword arg: x. From version 0.12, the only valid positional argument will be `data`, and passing other arguments without an explicit keyword will result in an error or misinterpretation.\n",
      "  warnings.warn(\n"
     ]
    },
    {
     "data": {
      "text/plain": [
       "<AxesSubplot:xlabel='Sorting Time'>"
      ]
     },
     "execution_count": 21,
     "metadata": {},
     "output_type": "execute_result"
    },
    {
     "data": {
      "image/png": "[encoded data removed]",
      "text/plain": [
       "<Figure size 432x288 with 1 Axes>"
      ]
     },
     "metadata": {
      "needs_background": "light"
     },
     "output_type": "display_data"
    }
   ],
   "source": [
    "sns.boxplot(df['Sorting Time'])"
   ]
  },
  {
   "cell_type": "markdown",
   "id": "ed11551a",
   "metadata": {},
   "source": [
    "from the boxplots it is evident that there are no outliers in both the variables. "
   ]
  },
  {
   "cell_type": "markdown",
   "id": "1258845a",
   "metadata": {},
   "source": [
    "__CORRELATION CHART__"
   ]
  },
  {
   "cell_type": "code",
   "execution_count": 22,
   "id": "c7e00a65",
   "metadata": {},
   "outputs": [
    {
     "data": {
      "text/plain": [
       "<AxesSubplot:>"
      ]
     },
     "execution_count": 22,
     "metadata": {},
     "output_type": "execute_result"
    },
    {
     "data": {
      "image/png": "[encoded data removed]",
      "text/plain": [
       "<Figure size 720x576 with 2 Axes>"
      ]
     },
     "metadata": {
      "needs_background": "light"
     },
     "output_type": "display_data"
    }
   ],
   "source": [
    "plt.figure(figsize=(10,8))\n",
    "sns.heatmap(df.corr(),annot=True)"
   ]
  },
  {
   "cell_type": "markdown",
   "id": "ac3f771f",
   "metadata": {},
   "source": [
    "from the correlation chart it is clear that the Sorting time has a strong positive correlation with Delivery time."
   ]
  },
  {
   "cell_type": "code",
   "execution_count": 23,
   "id": "4ba499e5",
   "metadata": {},
   "outputs": [
    {
     "data": {
      "text/plain": [
       "10.655809523809525"
      ]
     },
     "execution_count": 23,
     "metadata": {},
     "output_type": "execute_result"
    }
   ],
   "source": [
    "cov_output = np.cov(df['Delivery Time'], df['Sorting Time'])[0, 1]\n",
    "cov_output"
   ]
  },
  {
   "cell_type": "markdown",
   "id": "b904ea3d",
   "metadata": {},
   "source": [
    "A positive covariance indicates that the two variables tend to move together and with the same sign, a negative covariance indicates that the two variables tend to move in the opposite direction.<br>\n",
    "__From the covariance value we can infer that the variables move in the same direction.__"
   ]
  },
  {
   "cell_type": "markdown",
   "id": "2b7cb5a8",
   "metadata": {},
   "source": [
    "### EVALUATING DIFFERENT  MODELS FOR  MODEL BUILDING"
   ]
  },
  {
   "cell_type": "markdown",
   "id": "d3f334e3",
   "metadata": {},
   "source": [
    "Importing the library required for evaluating the models. "
   ]
  },
  {
   "cell_type": "code",
   "execution_count": 24,
   "id": "dae39481",
   "metadata": {},
   "outputs": [],
   "source": [
    "import statsmodels.formula.api as smf"
   ]
  },
  {
   "cell_type": "markdown",
   "id": "5ba45a9f",
   "metadata": {},
   "source": [
    "__Simple Linear Regression__"
   ]
  },
  {
   "cell_type": "markdown",
   "id": "54f2a1c5",
   "metadata": {},
   "source": [
    "Fitting the model"
   ]
  },
  {
   "cell_type": "code",
   "execution_count": 25,
   "id": "9bd7ce52",
   "metadata": {},
   "outputs": [
    {
     "data": {
      "text/html": [
       "<table class=\"simpletable\">\n",
       "<caption>OLS Regression Results</caption>\n",
       "<tr>\n",
       "  <th>Dep. Variable:</th>    <td>df['Delivery Time']</td> <th>  R-squared:         </th> <td>   0.682</td>\n",
       "</tr>\n",
       "<tr>\n",
       "  <th>Model:</th>                    <td>OLS</td>         <th>  Adj. R-squared:    </th> <td>   0.666</td>\n",
       "</tr>\n",
       "<tr>\n",
       "  <th>Method:</th>              <td>Least Squares</td>    <th>  F-statistic:       </th> <td>   40.80</td>\n",
       "</tr>\n",
       "<tr>\n",
       "  <th>Date:</th>              <td>Fri, 04 Nov 2022</td>   <th>  Prob (F-statistic):</th> <td>3.98e-06</td>\n",
       "</tr>\n",
       "<tr>\n",
       "  <th>Time:</th>                  <td>14:20:32</td>       <th>  Log-Likelihood:    </th> <td> -51.357</td>\n",
       "</tr>\n",
       "<tr>\n",
       "  <th>No. Observations:</th>       <td>    21</td>        <th>  AIC:               </th> <td>   106.7</td>\n",
       "</tr>\n",
       "<tr>\n",
       "  <th>Df Residuals:</th>           <td>    19</td>        <th>  BIC:               </th> <td>   108.8</td>\n",
       "</tr>\n",
       "<tr>\n",
       "  <th>Df Model:</th>               <td>     1</td>        <th>                     </th>     <td> </td>   \n",
       "</tr>\n",
       "<tr>\n",
       "  <th>Covariance Type:</th>       <td>nonrobust</td>      <th>                     </th>     <td> </td>   \n",
       "</tr>\n",
       "</table>\n",
       "<table class=\"simpletable\">\n",
       "<tr>\n",
       "           <td></td>             <th>coef</th>     <th>std err</th>      <th>t</th>      <th>P>|t|</th>  <th>[0.025</th>    <th>0.975]</th>  \n",
       "</tr>\n",
       "<tr>\n",
       "  <th>Intercept</th>          <td>    6.5827</td> <td>    1.722</td> <td>    3.823</td> <td> 0.001</td> <td>    2.979</td> <td>   10.186</td>\n",
       "</tr>\n",
       "<tr>\n",
       "  <th>df['Sorting Time']</th> <td>    1.6490</td> <td>    0.258</td> <td>    6.387</td> <td> 0.000</td> <td>    1.109</td> <td>    2.189</td>\n",
       "</tr>\n",
       "</table>\n",
       "<table class=\"simpletable\">\n",
       "<tr>\n",
       "  <th>Omnibus:</th>       <td> 3.649</td> <th>  Durbin-Watson:     </th> <td>   1.248</td>\n",
       "</tr>\n",
       "<tr>\n",
       "  <th>Prob(Omnibus):</th> <td> 0.161</td> <th>  Jarque-Bera (JB):  </th> <td>   2.086</td>\n",
       "</tr>\n",
       "<tr>\n",
       "  <th>Skew:</th>          <td> 0.750</td> <th>  Prob(JB):          </th> <td>   0.352</td>\n",
       "</tr>\n",
       "<tr>\n",
       "  <th>Kurtosis:</th>      <td> 3.367</td> <th>  Cond. No.          </th> <td>    18.3</td>\n",
       "</tr>\n",
       "</table><br/><br/>Notes:<br/>[1] Standard Errors assume that the covariance matrix of the errors is correctly specified."
      ],
      "text/plain": [
       "<class 'statsmodels.iolib.summary.Summary'>\n",
       "\"\"\"\n",
       "                             OLS Regression Results                            \n",
       "===============================================================================\n",
       "Dep. Variable:     df['Delivery Time']   R-squared:                       0.682\n",
       "Model:                             OLS   Adj. R-squared:                  0.666\n",
       "Method:                  Least Squares   F-statistic:                     40.80\n",
       "Date:                 Fri, 04 Nov 2022   Prob (F-statistic):           3.98e-06\n",
       "Time:                         14:20:32   Log-Likelihood:                -51.357\n",
       "No. Observations:                   21   AIC:                             106.7\n",
       "Df Residuals:                       19   BIC:                             108.8\n",
       "Df Model:                            1                                         \n",
       "Covariance Type:             nonrobust                                         \n",
       "======================================================================================\n",
       "                         coef    std err          t      P>|t|      [0.025      0.975]\n",
       "--------------------------------------------------------------------------------------\n",
       "Intercept              6.5827      1.722      3.823      0.001       2.979      10.186\n",
       "df['Sorting Time']     1.6490      0.258      6.387      0.000       1.109       2.189\n",
       "==============================================================================\n",
       "Omnibus:                        3.649   Durbin-Watson:                   1.248\n",
       "Prob(Omnibus):                  0.161   Jarque-Bera (JB):                2.086\n",
       "Skew:                           0.750   Prob(JB):                        0.352\n",
       "Kurtosis:                       3.367   Cond. No.                         18.3\n",
       "==============================================================================\n",
       "\n",
       "Notes:\n",
       "[1] Standard Errors assume that the covariance matrix of the errors is correctly specified.\n",
       "\"\"\""
      ]
     },
     "execution_count": 25,
     "metadata": {},
     "output_type": "execute_result"
    }
   ],
   "source": [
    "model1 = smf.ols(\"df['Delivery Time'] ~ df['Sorting Time']\", data = df).fit()\n",
    "model1.summary()"
   ]
  },
  {
   "cell_type": "markdown",
   "id": "64710828",
   "metadata": {},
   "source": [
    "Visualization to see how well the model fit the data."
   ]
  },
  {
   "cell_type": "code",
   "execution_count": 26,
   "id": "aad19556",
   "metadata": {},
   "outputs": [
    {
     "data": {
      "image/png": "[encoded data removed]",
      "text/plain": [
       "<Figure size 432x288 with 1 Axes>"
      ]
     },
     "metadata": {
      "needs_background": "light"
     },
     "output_type": "display_data"
    }
   ],
   "source": [
    "pred1 = model1.predict(pd.DataFrame(df['Sorting Time']))\n",
    "\n",
    "# Regression Line\n",
    "plt.scatter(df['Sorting Time'], df['Delivery Time'])\n",
    "plt.plot(df['Sorting Time'], pred1, \"r\")\n",
    "plt.legend(['Predicted line', 'Observed data'])\n",
    "plt.show()"
   ]
  },
  {
   "cell_type": "markdown",
   "id": "c590c1ee",
   "metadata": {},
   "source": [
    "Error Calculation"
   ]
  },
  {
   "cell_type": "code",
   "execution_count": 27,
   "id": "6850ff82",
   "metadata": {},
   "outputs": [
    {
     "data": {
      "text/plain": [
       "2.791650327061766"
      ]
     },
     "execution_count": 27,
     "metadata": {},
     "output_type": "execute_result"
    }
   ],
   "source": [
    "res1 = df['Delivery Time'] - pred1\n",
    "res_sqr1 = res1 * res1\n",
    "mse1 = np.mean(res_sqr1)\n",
    "rmse1 = np.sqrt(mse1)\n",
    "rmse1"
   ]
  },
  {
   "cell_type": "markdown",
   "id": "172945b4",
   "metadata": {},
   "source": [
    "__Model building on Transformed Data__<br>\n",
    "* __Log Transformation__"
   ]
  },
  {
   "cell_type": "markdown",
   "id": "dceb34f1",
   "metadata": {},
   "source": [
    "Plotting the scatter plot to understand the correlation and regression line between the transformed variables. "
   ]
  },
  {
   "cell_type": "code",
   "execution_count": 28,
   "id": "15709ddd",
   "metadata": {},
   "outputs": [
    {
     "data": {
      "text/plain": [
       "array([[1.        , 0.83393253],\n",
       "       [0.83393253, 1.        ]])"
      ]
     },
     "execution_count": 28,
     "metadata": {},
     "output_type": "execute_result"
    },
    {
     "data": {
      "image/png": "[encoded data removed]",
      "text/plain": [
       "<Figure size 432x288 with 1 Axes>"
      ]
     },
     "metadata": {
      "needs_background": "light"
     },
     "output_type": "display_data"
    }
   ],
   "source": [
    "plt.scatter(x = np.log(df['Sorting Time']), y = df['Delivery Time'], color = 'brown')\n",
    "np.corrcoef(np.log(df['Sorting Time']), df['Delivery Time']) #correlation"
   ]
  },
  {
   "cell_type": "markdown",
   "id": "46e0fcab",
   "metadata": {},
   "source": [
    "Fitting the model on the regression line"
   ]
  },
  {
   "cell_type": "code",
   "execution_count": 29,
   "id": "a86fd90a",
   "metadata": {},
   "outputs": [
    {
     "data": {
      "text/html": [
       "<table class=\"simpletable\">\n",
       "<caption>OLS Regression Results</caption>\n",
       "<tr>\n",
       "  <th>Dep. Variable:</th>    <td>df['Delivery Time']</td> <th>  R-squared:         </th> <td>   0.695</td>\n",
       "</tr>\n",
       "<tr>\n",
       "  <th>Model:</th>                    <td>OLS</td>         <th>  Adj. R-squared:    </th> <td>   0.679</td>\n",
       "</tr>\n",
       "<tr>\n",
       "  <th>Method:</th>              <td>Least Squares</td>    <th>  F-statistic:       </th> <td>   43.39</td>\n",
       "</tr>\n",
       "<tr>\n",
       "  <th>Date:</th>              <td>Fri, 04 Nov 2022</td>   <th>  Prob (F-statistic):</th> <td>2.64e-06</td>\n",
       "</tr>\n",
       "<tr>\n",
       "  <th>Time:</th>                  <td>14:32:49</td>       <th>  Log-Likelihood:    </th> <td> -50.912</td>\n",
       "</tr>\n",
       "<tr>\n",
       "  <th>No. Observations:</th>       <td>    21</td>        <th>  AIC:               </th> <td>   105.8</td>\n",
       "</tr>\n",
       "<tr>\n",
       "  <th>Df Residuals:</th>           <td>    19</td>        <th>  BIC:               </th> <td>   107.9</td>\n",
       "</tr>\n",
       "<tr>\n",
       "  <th>Df Model:</th>               <td>     1</td>        <th>                     </th>     <td> </td>   \n",
       "</tr>\n",
       "<tr>\n",
       "  <th>Covariance Type:</th>       <td>nonrobust</td>      <th>                     </th>     <td> </td>   \n",
       "</tr>\n",
       "</table>\n",
       "<table class=\"simpletable\">\n",
       "<tr>\n",
       "               <td></td>                 <th>coef</th>     <th>std err</th>      <th>t</th>      <th>P>|t|</th>  <th>[0.025</th>    <th>0.975]</th>  \n",
       "</tr>\n",
       "<tr>\n",
       "  <th>Intercept</th>                  <td>    1.1597</td> <td>    2.455</td> <td>    0.472</td> <td> 0.642</td> <td>   -3.978</td> <td>    6.297</td>\n",
       "</tr>\n",
       "<tr>\n",
       "  <th>np.log(df['Sorting Time'])</th> <td>    9.0434</td> <td>    1.373</td> <td>    6.587</td> <td> 0.000</td> <td>    6.170</td> <td>   11.917</td>\n",
       "</tr>\n",
       "</table>\n",
       "<table class=\"simpletable\">\n",
       "<tr>\n",
       "  <th>Omnibus:</th>       <td> 5.552</td> <th>  Durbin-Watson:     </th> <td>   1.427</td>\n",
       "</tr>\n",
       "<tr>\n",
       "  <th>Prob(Omnibus):</th> <td> 0.062</td> <th>  Jarque-Bera (JB):  </th> <td>   3.481</td>\n",
       "</tr>\n",
       "<tr>\n",
       "  <th>Skew:</th>          <td> 0.946</td> <th>  Prob(JB):          </th> <td>   0.175</td>\n",
       "</tr>\n",
       "<tr>\n",
       "  <th>Kurtosis:</th>      <td> 3.628</td> <th>  Cond. No.          </th> <td>    9.08</td>\n",
       "</tr>\n",
       "</table><br/><br/>Notes:<br/>[1] Standard Errors assume that the covariance matrix of the errors is correctly specified."
      ],
      "text/plain": [
       "<class 'statsmodels.iolib.summary.Summary'>\n",
       "\"\"\"\n",
       "                             OLS Regression Results                            \n",
       "===============================================================================\n",
       "Dep. Variable:     df['Delivery Time']   R-squared:                       0.695\n",
       "Model:                             OLS   Adj. R-squared:                  0.679\n",
       "Method:                  Least Squares   F-statistic:                     43.39\n",
       "Date:                 Fri, 04 Nov 2022   Prob (F-statistic):           2.64e-06\n",
       "Time:                         14:32:49   Log-Likelihood:                -50.912\n",
       "No. Observations:                   21   AIC:                             105.8\n",
       "Df Residuals:                       19   BIC:                             107.9\n",
       "Df Model:                            1                                         \n",
       "Covariance Type:             nonrobust                                         \n",
       "==============================================================================================\n",
       "                                 coef    std err          t      P>|t|      [0.025      0.975]\n",
       "----------------------------------------------------------------------------------------------\n",
       "Intercept                      1.1597      2.455      0.472      0.642      -3.978       6.297\n",
       "np.log(df['Sorting Time'])     9.0434      1.373      6.587      0.000       6.170      11.917\n",
       "==============================================================================\n",
       "Omnibus:                        5.552   Durbin-Watson:                   1.427\n",
       "Prob(Omnibus):                  0.062   Jarque-Bera (JB):                3.481\n",
       "Skew:                           0.946   Prob(JB):                        0.175\n",
       "Kurtosis:                       3.628   Cond. No.                         9.08\n",
       "==============================================================================\n",
       "\n",
       "Notes:\n",
       "[1] Standard Errors assume that the covariance matrix of the errors is correctly specified.\n",
       "\"\"\""
      ]
     },
     "execution_count": 29,
     "metadata": {},
     "output_type": "execute_result"
    }
   ],
   "source": [
    "model2 = smf.ols(\"df['Delivery Time'] ~ np.log(df['Sorting Time'])\", data = df).fit()\n",
    "model2.summary()"
   ]
  },
  {
   "cell_type": "markdown",
   "id": "3fc98584",
   "metadata": {},
   "source": [
    "Visualization to see how well the model fit the data. "
   ]
  },
  {
   "cell_type": "code",
   "execution_count": 30,
   "id": "fcbf0ccf",
   "metadata": {},
   "outputs": [
    {
     "data": {
      "image/png": "[encoded data removed]",
      "text/plain": [
       "<Figure size 432x288 with 1 Axes>"
      ]
     },
     "metadata": {
      "needs_background": "light"
     },
     "output_type": "display_data"
    }
   ],
   "source": [
    "pred2 = model2.predict(pd.DataFrame(df['Sorting Time']))\n",
    "\n",
    "# Regression Line\n",
    "plt.scatter(np.log(df['Sorting Time']), df['Delivery Time'])\n",
    "plt.plot(np.log(df['Sorting Time']), pred2, \"r\")\n",
    "plt.legend(['Predicted line', 'Observed data'])\n",
    "plt.show()"
   ]
  },
  {
   "cell_type": "markdown",
   "id": "152e62e5",
   "metadata": {},
   "source": [
    "Error calculation"
   ]
  },
  {
   "cell_type": "code",
   "execution_count": 31,
   "id": "1dc6aaf6",
   "metadata": {},
   "outputs": [
    {
     "data": {
      "text/plain": [
       "2.7331714766820663"
      ]
     },
     "execution_count": 31,
     "metadata": {},
     "output_type": "execute_result"
    }
   ],
   "source": [
    "res2 = df['Delivery Time'] - pred2\n",
    "res_sqr2 = res2 * res2\n",
    "mse2 = np.mean(res_sqr2)\n",
    "rmse2 = np.sqrt(mse2)\n",
    "rmse2"
   ]
  },
  {
   "cell_type": "markdown",
   "id": "7a7deccd",
   "metadata": {},
   "source": [
    "* __Exponential transformation__"
   ]
  },
  {
   "cell_type": "markdown",
   "id": "a91fe39f",
   "metadata": {},
   "source": [
    "Plotting the scatter plot to understand the correlation between the transformed variables."
   ]
  },
  {
   "cell_type": "code",
   "execution_count": 32,
   "id": "1ff30cdc",
   "metadata": {},
   "outputs": [
    {
     "data": {
      "text/plain": [
       "array([[1.        , 0.84317726],\n",
       "       [0.84317726, 1.        ]])"
      ]
     },
     "execution_count": 32,
     "metadata": {},
     "output_type": "execute_result"
    },
    {
     "data": {
      "image/png": "[encoded data removed]",
      "text/plain": [
       "<Figure size 432x288 with 1 Axes>"
      ]
     },
     "metadata": {
      "needs_background": "light"
     },
     "output_type": "display_data"
    }
   ],
   "source": [
    "plt.scatter(x = df['Sorting Time'], y = np.log(df['Delivery Time']), color = 'orange')\n",
    "np.corrcoef(df['Sorting Time'], np.log(df['Delivery Time'])) #correlation"
   ]
  },
  {
   "cell_type": "markdown",
   "id": "7c4c2b90",
   "metadata": {},
   "source": [
    "Fitting the model on the regression line"
   ]
  },
  {
   "cell_type": "code",
   "execution_count": 33,
   "id": "b6909b70",
   "metadata": {},
   "outputs": [
    {
     "data": {
      "text/html": [
       "<table class=\"simpletable\">\n",
       "<caption>OLS Regression Results</caption>\n",
       "<tr>\n",
       "  <th>Dep. Variable:</th>    <td>np.log(df['Delivery Time'])</td> <th>  R-squared:         </th> <td>   0.711</td>\n",
       "</tr>\n",
       "<tr>\n",
       "  <th>Model:</th>                        <td>OLS</td>             <th>  Adj. R-squared:    </th> <td>   0.696</td>\n",
       "</tr>\n",
       "<tr>\n",
       "  <th>Method:</th>                  <td>Least Squares</td>        <th>  F-statistic:       </th> <td>   46.73</td>\n",
       "</tr>\n",
       "<tr>\n",
       "  <th>Date:</th>                  <td>Fri, 04 Nov 2022</td>       <th>  Prob (F-statistic):</th> <td>1.59e-06</td>\n",
       "</tr>\n",
       "<tr>\n",
       "  <th>Time:</th>                      <td>14:40:32</td>           <th>  Log-Likelihood:    </th> <td>  7.7920</td>\n",
       "</tr>\n",
       "<tr>\n",
       "  <th>No. Observations:</th>           <td>    21</td>            <th>  AIC:               </th> <td>  -11.58</td>\n",
       "</tr>\n",
       "<tr>\n",
       "  <th>Df Residuals:</th>               <td>    19</td>            <th>  BIC:               </th> <td>  -9.495</td>\n",
       "</tr>\n",
       "<tr>\n",
       "  <th>Df Model:</th>                   <td>     1</td>            <th>                     </th>     <td> </td>   \n",
       "</tr>\n",
       "<tr>\n",
       "  <th>Covariance Type:</th>           <td>nonrobust</td>          <th>                     </th>     <td> </td>   \n",
       "</tr>\n",
       "</table>\n",
       "<table class=\"simpletable\">\n",
       "<tr>\n",
       "           <td></td>             <th>coef</th>     <th>std err</th>      <th>t</th>      <th>P>|t|</th>  <th>[0.025</th>    <th>0.975]</th>  \n",
       "</tr>\n",
       "<tr>\n",
       "  <th>Intercept</th>          <td>    2.1214</td> <td>    0.103</td> <td>   20.601</td> <td> 0.000</td> <td>    1.906</td> <td>    2.337</td>\n",
       "</tr>\n",
       "<tr>\n",
       "  <th>df['Sorting Time']</th> <td>    0.1056</td> <td>    0.015</td> <td>    6.836</td> <td> 0.000</td> <td>    0.073</td> <td>    0.138</td>\n",
       "</tr>\n",
       "</table>\n",
       "<table class=\"simpletable\">\n",
       "<tr>\n",
       "  <th>Omnibus:</th>       <td> 1.238</td> <th>  Durbin-Watson:     </th> <td>   1.325</td>\n",
       "</tr>\n",
       "<tr>\n",
       "  <th>Prob(Omnibus):</th> <td> 0.538</td> <th>  Jarque-Bera (JB):  </th> <td>   0.544</td>\n",
       "</tr>\n",
       "<tr>\n",
       "  <th>Skew:</th>          <td> 0.393</td> <th>  Prob(JB):          </th> <td>   0.762</td>\n",
       "</tr>\n",
       "<tr>\n",
       "  <th>Kurtosis:</th>      <td> 3.067</td> <th>  Cond. No.          </th> <td>    18.3</td>\n",
       "</tr>\n",
       "</table><br/><br/>Notes:<br/>[1] Standard Errors assume that the covariance matrix of the errors is correctly specified."
      ],
      "text/plain": [
       "<class 'statsmodels.iolib.summary.Summary'>\n",
       "\"\"\"\n",
       "                                 OLS Regression Results                                \n",
       "=======================================================================================\n",
       "Dep. Variable:     np.log(df['Delivery Time'])   R-squared:                       0.711\n",
       "Model:                                     OLS   Adj. R-squared:                  0.696\n",
       "Method:                          Least Squares   F-statistic:                     46.73\n",
       "Date:                         Fri, 04 Nov 2022   Prob (F-statistic):           1.59e-06\n",
       "Time:                                 14:40:32   Log-Likelihood:                 7.7920\n",
       "No. Observations:                           21   AIC:                            -11.58\n",
       "Df Residuals:                               19   BIC:                            -9.495\n",
       "Df Model:                                    1                                         \n",
       "Covariance Type:                     nonrobust                                         \n",
       "======================================================================================\n",
       "                         coef    std err          t      P>|t|      [0.025      0.975]\n",
       "--------------------------------------------------------------------------------------\n",
       "Intercept              2.1214      0.103     20.601      0.000       1.906       2.337\n",
       "df['Sorting Time']     0.1056      0.015      6.836      0.000       0.073       0.138\n",
       "==============================================================================\n",
       "Omnibus:                        1.238   Durbin-Watson:                   1.325\n",
       "Prob(Omnibus):                  0.538   Jarque-Bera (JB):                0.544\n",
       "Skew:                           0.393   Prob(JB):                        0.762\n",
       "Kurtosis:                       3.067   Cond. No.                         18.3\n",
       "==============================================================================\n",
       "\n",
       "Notes:\n",
       "[1] Standard Errors assume that the covariance matrix of the errors is correctly specified.\n",
       "\"\"\""
      ]
     },
     "execution_count": 33,
     "metadata": {},
     "output_type": "execute_result"
    }
   ],
   "source": [
    "model3 = smf.ols(\"np.log(df['Delivery Time']) ~ df['Sorting Time']\", data = df).fit()\n",
    "model3.summary()"
   ]
  },
  {
   "cell_type": "code",
   "execution_count": 34,
   "id": "8acc39e5",
   "metadata": {},
   "outputs": [],
   "source": [
    "pred3 = model3.predict(pd.DataFrame(df['Sorting Time']))\n",
    "pred3_at = np.exp(pred3)"
   ]
  },
  {
   "cell_type": "markdown",
   "id": "7df92320",
   "metadata": {},
   "source": [
    "Visualization to see how well the model fit the data."
   ]
  },
  {
   "cell_type": "code",
   "execution_count": 35,
   "id": "4d0fe16c",
   "metadata": {},
   "outputs": [
    {
     "data": {
      "image/png": "[encoded data removed]",
      "text/plain": [
       "<Figure size 432x288 with 1 Axes>"
      ]
     },
     "metadata": {
      "needs_background": "light"
     },
     "output_type": "display_data"
    }
   ],
   "source": [
    "# Regression Line\n",
    "plt.scatter(df['Sorting Time'], np.log(df['Delivery Time']))\n",
    "plt.plot(df['Sorting Time'], pred3, \"r\")\n",
    "plt.legend(['Predicted line', 'Observed data'])\n",
    "plt.show()"
   ]
  },
  {
   "cell_type": "markdown",
   "id": "3dc2f01f",
   "metadata": {},
   "source": [
    "Error calculation"
   ]
  },
  {
   "cell_type": "code",
   "execution_count": 36,
   "id": "846a5ce7",
   "metadata": {},
   "outputs": [
    {
     "data": {
      "text/plain": [
       "2.940250323056201"
      ]
     },
     "execution_count": 36,
     "metadata": {},
     "output_type": "execute_result"
    }
   ],
   "source": [
    "res3 = df['Delivery Time'] - pred3_at\n",
    "res_sqr3 = res3 * res3\n",
    "mse3 = np.mean(res_sqr3)\n",
    "rmse3 = np.sqrt(mse3)\n",
    "rmse3"
   ]
  },
  {
   "cell_type": "markdown",
   "id": "a38e9e66",
   "metadata": {},
   "source": [
    "* __Polynomial transformation__"
   ]
  },
  {
   "cell_type": "markdown",
   "id": "10e2baf5",
   "metadata": {},
   "source": [
    "Fitting the model on the regression line"
   ]
  },
  {
   "cell_type": "code",
   "execution_count": 37,
   "id": "2733b293",
   "metadata": {},
   "outputs": [
    {
     "data": {
      "text/html": [
       "<table class=\"simpletable\">\n",
       "<caption>OLS Regression Results</caption>\n",
       "<tr>\n",
       "  <th>Dep. Variable:</th>    <td>np.log(df['Delivery Time'])</td> <th>  R-squared:         </th> <td>   0.765</td>\n",
       "</tr>\n",
       "<tr>\n",
       "  <th>Model:</th>                        <td>OLS</td>             <th>  Adj. R-squared:    </th> <td>   0.739</td>\n",
       "</tr>\n",
       "<tr>\n",
       "  <th>Method:</th>                  <td>Least Squares</td>        <th>  F-statistic:       </th> <td>   29.28</td>\n",
       "</tr>\n",
       "<tr>\n",
       "  <th>Date:</th>                  <td>Fri, 04 Nov 2022</td>       <th>  Prob (F-statistic):</th> <td>2.20e-06</td>\n",
       "</tr>\n",
       "<tr>\n",
       "  <th>Time:</th>                      <td>14:40:56</td>           <th>  Log-Likelihood:    </th> <td>  9.9597</td>\n",
       "</tr>\n",
       "<tr>\n",
       "  <th>No. Observations:</th>           <td>    21</td>            <th>  AIC:               </th> <td>  -13.92</td>\n",
       "</tr>\n",
       "<tr>\n",
       "  <th>Df Residuals:</th>               <td>    18</td>            <th>  BIC:               </th> <td>  -10.79</td>\n",
       "</tr>\n",
       "<tr>\n",
       "  <th>Df Model:</th>                   <td>     2</td>            <th>                     </th>     <td> </td>   \n",
       "</tr>\n",
       "<tr>\n",
       "  <th>Covariance Type:</th>           <td>nonrobust</td>          <th>                     </th>     <td> </td>   \n",
       "</tr>\n",
       "</table>\n",
       "<table class=\"simpletable\">\n",
       "<tr>\n",
       "                       <td></td>                         <th>coef</th>     <th>std err</th>      <th>t</th>      <th>P>|t|</th>  <th>[0.025</th>    <th>0.975]</th>  \n",
       "</tr>\n",
       "<tr>\n",
       "  <th>Intercept</th>                                  <td>    1.6997</td> <td>    0.228</td> <td>    7.441</td> <td> 0.000</td> <td>    1.220</td> <td>    2.180</td>\n",
       "</tr>\n",
       "<tr>\n",
       "  <th>df['Sorting Time']</th>                         <td>    0.2659</td> <td>    0.080</td> <td>    3.315</td> <td> 0.004</td> <td>    0.097</td> <td>    0.434</td>\n",
       "</tr>\n",
       "<tr>\n",
       "  <th>I(df['Sorting Time'] * df['Sorting Time'])</th> <td>   -0.0128</td> <td>    0.006</td> <td>   -2.032</td> <td> 0.057</td> <td>   -0.026</td> <td>    0.000</td>\n",
       "</tr>\n",
       "</table>\n",
       "<table class=\"simpletable\">\n",
       "<tr>\n",
       "  <th>Omnibus:</th>       <td> 2.548</td> <th>  Durbin-Watson:     </th> <td>   1.369</td>\n",
       "</tr>\n",
       "<tr>\n",
       "  <th>Prob(Omnibus):</th> <td> 0.280</td> <th>  Jarque-Bera (JB):  </th> <td>   1.777</td>\n",
       "</tr>\n",
       "<tr>\n",
       "  <th>Skew:</th>          <td> 0.708</td> <th>  Prob(JB):          </th> <td>   0.411</td>\n",
       "</tr>\n",
       "<tr>\n",
       "  <th>Kurtosis:</th>      <td> 2.846</td> <th>  Cond. No.          </th> <td>    373.</td>\n",
       "</tr>\n",
       "</table><br/><br/>Notes:<br/>[1] Standard Errors assume that the covariance matrix of the errors is correctly specified."
      ],
      "text/plain": [
       "<class 'statsmodels.iolib.summary.Summary'>\n",
       "\"\"\"\n",
       "                                 OLS Regression Results                                \n",
       "=======================================================================================\n",
       "Dep. Variable:     np.log(df['Delivery Time'])   R-squared:                       0.765\n",
       "Model:                                     OLS   Adj. R-squared:                  0.739\n",
       "Method:                          Least Squares   F-statistic:                     29.28\n",
       "Date:                         Fri, 04 Nov 2022   Prob (F-statistic):           2.20e-06\n",
       "Time:                                 14:40:56   Log-Likelihood:                 9.9597\n",
       "No. Observations:                           21   AIC:                            -13.92\n",
       "Df Residuals:                               18   BIC:                            -10.79\n",
       "Df Model:                                    2                                         \n",
       "Covariance Type:                     nonrobust                                         \n",
       "==============================================================================================================\n",
       "                                                 coef    std err          t      P>|t|      [0.025      0.975]\n",
       "--------------------------------------------------------------------------------------------------------------\n",
       "Intercept                                      1.6997      0.228      7.441      0.000       1.220       2.180\n",
       "df['Sorting Time']                             0.2659      0.080      3.315      0.004       0.097       0.434\n",
       "I(df['Sorting Time'] * df['Sorting Time'])    -0.0128      0.006     -2.032      0.057      -0.026       0.000\n",
       "==============================================================================\n",
       "Omnibus:                        2.548   Durbin-Watson:                   1.369\n",
       "Prob(Omnibus):                  0.280   Jarque-Bera (JB):                1.777\n",
       "Skew:                           0.708   Prob(JB):                        0.411\n",
       "Kurtosis:                       2.846   Cond. No.                         373.\n",
       "==============================================================================\n",
       "\n",
       "Notes:\n",
       "[1] Standard Errors assume that the covariance matrix of the errors is correctly specified.\n",
       "\"\"\""
      ]
     },
     "execution_count": 37,
     "metadata": {},
     "output_type": "execute_result"
    }
   ],
   "source": [
    "model4 = smf.ols(\"np.log(df['Delivery Time']) ~ df['Sorting Time'] + I(df['Sorting Time']*df['Sorting Time'])\", data = df).fit()\n",
    "model4.summary()"
   ]
  },
  {
   "cell_type": "code",
   "execution_count": 38,
   "id": "dd0e4918",
   "metadata": {},
   "outputs": [],
   "source": [
    "pred4 = model4.predict(pd.DataFrame(df))\n",
    "pred4_at = np.exp(pred4)"
   ]
  },
  {
   "cell_type": "markdown",
   "id": "0f1b245f",
   "metadata": {},
   "source": [
    "Visualization to see how well the model fit the data."
   ]
  },
  {
   "cell_type": "code",
   "execution_count": 39,
   "id": "2f4395ba",
   "metadata": {},
   "outputs": [
    {
     "data": {
      "image/png": "[encoded data removed]",
      "text/plain": [
       "<Figure size 432x288 with 1 Axes>"
      ]
     },
     "metadata": {
      "needs_background": "light"
     },
     "output_type": "display_data"
    }
   ],
   "source": [
    "# Regression line\n",
    "from sklearn.preprocessing import PolynomialFeatures\n",
    "poly_reg = PolynomialFeatures(degree = 2)\n",
    "X = df.iloc[:, 1:2].values\n",
    "X_poly = poly_reg.fit_transform(X)\n",
    "# y = wcat.iloc[:, 1].values\n",
    "\n",
    "\n",
    "plt.scatter(df['Sorting Time'], np.log(df['Delivery Time']))\n",
    "plt.plot(X, pred4, color = 'red')\n",
    "plt.legend(['Predicted line', 'Observed data'])\n",
    "plt.show()"
   ]
  },
  {
   "cell_type": "markdown",
   "id": "a4a3cca4",
   "metadata": {},
   "source": [
    "Error calculation"
   ]
  },
  {
   "cell_type": "code",
   "execution_count": 40,
   "id": "92dbbe82",
   "metadata": {},
   "outputs": [
    {
     "data": {
      "text/plain": [
       "2.7990419887409277"
      ]
     },
     "execution_count": 40,
     "metadata": {},
     "output_type": "execute_result"
    }
   ],
   "source": [
    "res4 = df['Delivery Time']- pred4_at\n",
    "res_sqr4 = res4 * res4\n",
    "mse4 = np.mean(res_sqr4)\n",
    "rmse4 = np.sqrt(mse4)\n",
    "rmse4"
   ]
  },
  {
   "cell_type": "markdown",
   "id": "5cb2c143",
   "metadata": {},
   "source": [
    "__Log Transformation on both the variables__"
   ]
  },
  {
   "cell_type": "markdown",
   "id": "0b9d3b0c",
   "metadata": {},
   "source": [
    "Plotting the scatter plot to understand the correlation between the transformed variables."
   ]
  },
  {
   "cell_type": "code",
   "execution_count": 48,
   "id": "d1050fa6",
   "metadata": {},
   "outputs": [
    {
     "data": {
      "text/plain": [
       "array([[1.        , 0.87872712],\n",
       "       [0.87872712, 1.        ]])"
      ]
     },
     "execution_count": 48,
     "metadata": {},
     "output_type": "execute_result"
    },
    {
     "data": {
      "image/png": "[encoded data removed]",
      "text/plain": [
       "<Figure size 432x288 with 1 Axes>"
      ]
     },
     "metadata": {
      "needs_background": "light"
     },
     "output_type": "display_data"
    }
   ],
   "source": [
    "plt.scatter(x = np.log(df['Sorting Time']), y = np.log(df['Delivery Time']), color = 'orange')\n",
    "np.corrcoef(np.log(df['Sorting Time']), np.log(df['Delivery Time'])) #correlation"
   ]
  },
  {
   "cell_type": "markdown",
   "id": "0008a4b2",
   "metadata": {},
   "source": [
    "Fitting the model"
   ]
  },
  {
   "cell_type": "code",
   "execution_count": 49,
   "id": "dc1b9193",
   "metadata": {},
   "outputs": [
    {
     "data": {
      "text/html": [
       "<table class=\"simpletable\">\n",
       "<caption>OLS Regression Results</caption>\n",
       "<tr>\n",
       "  <th>Dep. Variable:</th>    <td>np.log(df['Delivery Time'])</td> <th>  R-squared:         </th> <td>   0.772</td>\n",
       "</tr>\n",
       "<tr>\n",
       "  <th>Model:</th>                        <td>OLS</td>             <th>  Adj. R-squared:    </th> <td>   0.760</td>\n",
       "</tr>\n",
       "<tr>\n",
       "  <th>Method:</th>                  <td>Least Squares</td>        <th>  F-statistic:       </th> <td>   64.39</td>\n",
       "</tr>\n",
       "<tr>\n",
       "  <th>Date:</th>                  <td>Sat, 05 Nov 2022</td>       <th>  Prob (F-statistic):</th> <td>1.60e-07</td>\n",
       "</tr>\n",
       "<tr>\n",
       "  <th>Time:</th>                      <td>00:03:39</td>           <th>  Log-Likelihood:    </th> <td>  10.291</td>\n",
       "</tr>\n",
       "<tr>\n",
       "  <th>No. Observations:</th>           <td>    21</td>            <th>  AIC:               </th> <td>  -16.58</td>\n",
       "</tr>\n",
       "<tr>\n",
       "  <th>Df Residuals:</th>               <td>    19</td>            <th>  BIC:               </th> <td>  -14.49</td>\n",
       "</tr>\n",
       "<tr>\n",
       "  <th>Df Model:</th>                   <td>     1</td>            <th>                     </th>     <td> </td>   \n",
       "</tr>\n",
       "<tr>\n",
       "  <th>Covariance Type:</th>           <td>nonrobust</td>          <th>                     </th>     <td> </td>   \n",
       "</tr>\n",
       "</table>\n",
       "<table class=\"simpletable\">\n",
       "<tr>\n",
       "               <td></td>                 <th>coef</th>     <th>std err</th>      <th>t</th>      <th>P>|t|</th>  <th>[0.025</th>    <th>0.975]</th>  \n",
       "</tr>\n",
       "<tr>\n",
       "  <th>Intercept</th>                  <td>    1.7420</td> <td>    0.133</td> <td>   13.086</td> <td> 0.000</td> <td>    1.463</td> <td>    2.021</td>\n",
       "</tr>\n",
       "<tr>\n",
       "  <th>np.log(df['Sorting Time'])</th> <td>    0.5975</td> <td>    0.074</td> <td>    8.024</td> <td> 0.000</td> <td>    0.442</td> <td>    0.753</td>\n",
       "</tr>\n",
       "</table>\n",
       "<table class=\"simpletable\">\n",
       "<tr>\n",
       "  <th>Omnibus:</th>       <td> 1.871</td> <th>  Durbin-Watson:     </th> <td>   1.322</td>\n",
       "</tr>\n",
       "<tr>\n",
       "  <th>Prob(Omnibus):</th> <td> 0.392</td> <th>  Jarque-Bera (JB):  </th> <td>   1.170</td>\n",
       "</tr>\n",
       "<tr>\n",
       "  <th>Skew:</th>          <td> 0.577</td> <th>  Prob(JB):          </th> <td>   0.557</td>\n",
       "</tr>\n",
       "<tr>\n",
       "  <th>Kurtosis:</th>      <td> 2.916</td> <th>  Cond. No.          </th> <td>    9.08</td>\n",
       "</tr>\n",
       "</table><br/><br/>Notes:<br/>[1] Standard Errors assume that the covariance matrix of the errors is correctly specified."
      ],
      "text/plain": [
       "<class 'statsmodels.iolib.summary.Summary'>\n",
       "\"\"\"\n",
       "                                 OLS Regression Results                                \n",
       "=======================================================================================\n",
       "Dep. Variable:     np.log(df['Delivery Time'])   R-squared:                       0.772\n",
       "Model:                                     OLS   Adj. R-squared:                  0.760\n",
       "Method:                          Least Squares   F-statistic:                     64.39\n",
       "Date:                         Sat, 05 Nov 2022   Prob (F-statistic):           1.60e-07\n",
       "Time:                                 00:03:39   Log-Likelihood:                 10.291\n",
       "No. Observations:                           21   AIC:                            -16.58\n",
       "Df Residuals:                               19   BIC:                            -14.49\n",
       "Df Model:                                    1                                         \n",
       "Covariance Type:                     nonrobust                                         \n",
       "==============================================================================================\n",
       "                                 coef    std err          t      P>|t|      [0.025      0.975]\n",
       "----------------------------------------------------------------------------------------------\n",
       "Intercept                      1.7420      0.133     13.086      0.000       1.463       2.021\n",
       "np.log(df['Sorting Time'])     0.5975      0.074      8.024      0.000       0.442       0.753\n",
       "==============================================================================\n",
       "Omnibus:                        1.871   Durbin-Watson:                   1.322\n",
       "Prob(Omnibus):                  0.392   Jarque-Bera (JB):                1.170\n",
       "Skew:                           0.577   Prob(JB):                        0.557\n",
       "Kurtosis:                       2.916   Cond. No.                         9.08\n",
       "==============================================================================\n",
       "\n",
       "Notes:\n",
       "[1] Standard Errors assume that the covariance matrix of the errors is correctly specified.\n",
       "\"\"\""
      ]
     },
     "execution_count": 49,
     "metadata": {},
     "output_type": "execute_result"
    }
   ],
   "source": [
    "model5 = smf.ols(\"np.log(df['Delivery Time']) ~ np.log(df['Sorting Time'])\", data = df).fit()\n",
    "model5.summary()"
   ]
  },
  {
   "cell_type": "code",
   "execution_count": 50,
   "id": "68a3aca6",
   "metadata": {},
   "outputs": [],
   "source": [
    "pred5 = model5.predict(pd.DataFrame(df['Sorting Time']))\n",
    "pred5_at = np.exp(pred5)"
   ]
  },
  {
   "cell_type": "markdown",
   "id": "48d3c4ba",
   "metadata": {},
   "source": [
    "Visualization to see how well the model fit the data."
   ]
  },
  {
   "cell_type": "code",
   "execution_count": 51,
   "id": "71885781",
   "metadata": {},
   "outputs": [
    {
     "data": {
      "image/png": "[encoded data removed]",
      "text/plain": [
       "<Figure size 432x288 with 1 Axes>"
      ]
     },
     "metadata": {
      "needs_background": "light"
     },
     "output_type": "display_data"
    }
   ],
   "source": [
    "# Regression Line\n",
    "plt.scatter(np.log(df['Sorting Time']), np.log(df['Delivery Time']))\n",
    "plt.plot(np.log(df['Sorting Time']), pred5, \"r\")\n",
    "plt.legend(['Predicted line', 'Observed data'])\n",
    "plt.show()"
   ]
  },
  {
   "cell_type": "markdown",
   "id": "ff483634",
   "metadata": {},
   "source": [
    "Error Calculation"
   ]
  },
  {
   "cell_type": "code",
   "execution_count": 52,
   "id": "20121c05",
   "metadata": {},
   "outputs": [
    {
     "data": {
      "text/plain": [
       "2.74582889761455"
      ]
     },
     "execution_count": 52,
     "metadata": {},
     "output_type": "execute_result"
    }
   ],
   "source": [
    "res5 = df['Delivery Time'] - pred5_at\n",
    "res_sqr5 = res5 * res5\n",
    "mse5 = np.mean(res_sqr5)\n",
    "rmse5 = np.sqrt(mse5)\n",
    "rmse5"
   ]
  },
  {
   "cell_type": "markdown",
   "id": "b5b42fb6",
   "metadata": {},
   "source": [
    "                   ** COMPARING THE IMPORTANT VALUES FOR ALL THE DIFFERENT MODELS TO SELECT THE BEST MODEL **"
   ]
  },
  {
   "cell_type": "markdown",
   "id": "d2be49bf",
   "metadata": {},
   "source": [
    "|               **OUTPUT**               |               **INPUT**              | **R VALUE** | **R^2 VALUE** | **RMSE VALUE** |\n",
    "|:--------------------------------------:|:------------------------------------:|:------------|:-------------:|:--------------:|\n",
    "|Delivery Time                           |Sorting Time                        | 0.83        | 0.682         | 2.79         |\n",
    "|Delivery Time                           |log(Sorting Time)                   | 0.834       | 0.695         | 2.73         |\n",
    "|log(Delivery Time)                      |Sorting Time                        | 0.843       | 0.711         | 2.94         |\n",
    "|log(Delivery Time)                      |Sorting Time,Sorting Time^2         |             | 0.765         | 2.799       |\n",
    "|log(Delivery Time)                      |log(Sorting Time)                   |  0.878         | 0.772       | 2.74       |"
   ]
  },
  {
   "cell_type": "markdown",
   "id": "c98aad06",
   "metadata": {},
   "source": [
    "#### CONCLUSION\n",
    "From all the different models the last two models had a better  R-square value but the rmse values are almost the same for all the models the last model has a better correlation value.<br>\n",
    "__So from the above information the last model is the best.__"
   ]
  },
  {
   "cell_type": "code",
   "execution_count": null,
   "id": "2d81691f",
   "metadata": {},
   "outputs": [],
   "source": []
  }
 ],
 "metadata": {
  "kernelspec": {
   "display_name": "Python 3 (ipykernel)",
   "language": "python",
   "name": "python3"
  },
  "language_info": {
   "codemirror_mode": {
    "name": "ipython",
    "version": 3
   },
   "file_extension": ".py",
   "mimetype": "text/x-python",
   "name": "python",
   "nbconvert_exporter": "python",
   "pygments_lexer": "ipython3",
   "version": "3.9.12"
  }
 },
 "nbformat": 4,
 "nbformat_minor": 5
}
