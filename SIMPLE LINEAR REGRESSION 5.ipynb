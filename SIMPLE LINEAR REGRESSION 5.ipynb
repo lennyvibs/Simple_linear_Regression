{
 "cells": [
  {
   "cell_type": "markdown",
   "id": "3b87ef03",
   "metadata": {},
   "source": [
    "# SAT GPA DATASET\n",
    "Using the above dataset to evaluate the different linear regression model to predict the GPA. "
   ]
  },
  {
   "cell_type": "markdown",
   "id": "862d5061",
   "metadata": {},
   "source": [
    "## BUSINESS OBJECTIVE\n",
    "* Maximize intake\n",
    "* Minimize loss\n",
    "* Maximize placements\n",
    "* Maximize trust. \n",
    "* Maximize Quality. "
   ]
  },
  {
   "cell_type": "markdown",
   "id": "13ec6d84",
   "metadata": {},
   "source": [
    "## CONSTRAINTS\n",
    "* Location .\n",
    "* Calamaties. "
   ]
  },
  {
   "cell_type": "markdown",
   "id": "070c9b64",
   "metadata": {},
   "source": [
    "## DATA DICTIONARY"
   ]
  },
  {
   "cell_type": "markdown",
   "id": "1a47d442",
   "metadata": {},
   "source": [
    "| **slno** |      **Name of Feature**     | **Description**                                                          | **Type** | **Relevance** |\n",
    "|:--------:|:----------------------------|:--------------------------------------------------------------------------|:--------:|:-------------:|\n",
    "| 1        | YearsExperience    | The Years of experience of the employee                     | Ratio    | Relevant      |\n",
    "| 2        | Salary | The salary of the employee based on the years of experience.  | Ratio    | Relevant      |"
   ]
  },
  {
   "cell_type": "markdown",
   "id": "46e5d637",
   "metadata": {},
   "source": [
    "Importing the required libraries."
   ]
  },
  {
   "cell_type": "code",
   "execution_count": 1,
   "id": "17e87c30",
   "metadata": {},
   "outputs": [],
   "source": [
    "import pandas as pd\n",
    "import numpy as np\n",
    "import matplotlib.pyplot as plt\n",
    "import seaborn as sns\n",
    "from scipy import stats\n",
    "from termcolor import colored\n",
    "from sklearn.model_selection import train_test_split"
   ]
  },
  {
   "cell_type": "markdown",
   "id": "e26adb47",
   "metadata": {},
   "source": [
    "Loading the dataset using the pandas library and confirming the dataset has been loaded properly using the 'head' function"
   ]
  },
  {
   "cell_type": "code",
   "execution_count": 2,
   "id": "3fd16244",
   "metadata": {},
   "outputs": [
    {
     "data": {
      "text/html": [
       "<div>\n",
       "<style scoped>\n",
       "    .dataframe tbody tr th:only-of-type {\n",
       "        vertical-align: middle;\n",
       "    }\n",
       "\n",
       "    .dataframe tbody tr th {\n",
       "        vertical-align: top;\n",
       "    }\n",
       "\n",
       "    .dataframe thead th {\n",
       "        text-align: right;\n",
       "    }\n",
       "</style>\n",
       "<table border=\"1\" class=\"dataframe\">\n",
       "  <thead>\n",
       "    <tr style=\"text-align: right;\">\n",
       "      <th></th>\n",
       "      <th>SAT_Scores</th>\n",
       "      <th>GPA</th>\n",
       "    </tr>\n",
       "  </thead>\n",
       "  <tbody>\n",
       "    <tr>\n",
       "      <th>0</th>\n",
       "      <td>206</td>\n",
       "      <td>2.3</td>\n",
       "    </tr>\n",
       "    <tr>\n",
       "      <th>1</th>\n",
       "      <td>214</td>\n",
       "      <td>2.4</td>\n",
       "    </tr>\n",
       "    <tr>\n",
       "      <th>2</th>\n",
       "      <td>717</td>\n",
       "      <td>3.5</td>\n",
       "    </tr>\n",
       "    <tr>\n",
       "      <th>3</th>\n",
       "      <td>580</td>\n",
       "      <td>2.8</td>\n",
       "    </tr>\n",
       "    <tr>\n",
       "      <th>4</th>\n",
       "      <td>404</td>\n",
       "      <td>2.6</td>\n",
       "    </tr>\n",
       "  </tbody>\n",
       "</table>\n",
       "</div>"
      ],
      "text/plain": [
       "   SAT_Scores  GPA\n",
       "0         206  2.3\n",
       "1         214  2.4\n",
       "2         717  3.5\n",
       "3         580  2.8\n",
       "4         404  2.6"
      ]
     },
     "execution_count": 2,
     "metadata": {},
     "output_type": "execute_result"
    }
   ],
   "source": [
    "df0 = pd.read_csv(r\"D:\\360Digitmg\\ASSIGNMENTS\\Ass21\\SAT_GPA.csv\")\n",
    "df=df0.copy()\n",
    "df.head()"
   ]
  },
  {
   "cell_type": "markdown",
   "id": "6b969727",
   "metadata": {},
   "source": [
    "### EXPLORATORY DATA ANALYSIS & FEATURE ENGINEERING"
   ]
  },
  {
   "cell_type": "markdown",
   "id": "89606ccd",
   "metadata": {},
   "source": [
    "The below three lines give a general idea about the dataset like the shape, type and non null values."
   ]
  },
  {
   "cell_type": "code",
   "execution_count": 3,
   "id": "46c129c5",
   "metadata": {},
   "outputs": [
    {
     "data": {
      "text/plain": [
       "(200, 2)"
      ]
     },
     "execution_count": 3,
     "metadata": {},
     "output_type": "execute_result"
    }
   ],
   "source": [
    "df.shape"
   ]
  },
  {
   "cell_type": "code",
   "execution_count": 4,
   "id": "16c1f67c",
   "metadata": {},
   "outputs": [
    {
     "data": {
      "text/plain": [
       "SAT_Scores      int64\n",
       "GPA           float64\n",
       "dtype: object"
      ]
     },
     "execution_count": 4,
     "metadata": {},
     "output_type": "execute_result"
    }
   ],
   "source": [
    "df.dtypes"
   ]
  },
  {
   "cell_type": "code",
   "execution_count": 5,
   "id": "414ae339",
   "metadata": {},
   "outputs": [
    {
     "name": "stdout",
     "output_type": "stream",
     "text": [
      "<class 'pandas.core.frame.DataFrame'>\n",
      "RangeIndex: 200 entries, 0 to 199\n",
      "Data columns (total 2 columns):\n",
      " #   Column      Non-Null Count  Dtype  \n",
      "---  ------      --------------  -----  \n",
      " 0   SAT_Scores  200 non-null    int64  \n",
      " 1   GPA         200 non-null    float64\n",
      "dtypes: float64(1), int64(1)\n",
      "memory usage: 3.2 KB\n"
     ]
    }
   ],
   "source": [
    "df.info()"
   ]
  },
  {
   "cell_type": "markdown",
   "id": "78ee999b",
   "metadata": {},
   "source": [
    "The describe function gives the count, min, max, mean, standard deviation and quantile values of the dataset."
   ]
  },
  {
   "cell_type": "code",
   "execution_count": 6,
   "id": "12c467cc",
   "metadata": {},
   "outputs": [
    {
     "data": {
      "text/html": [
       "<div>\n",
       "<style scoped>\n",
       "    .dataframe tbody tr th:only-of-type {\n",
       "        vertical-align: middle;\n",
       "    }\n",
       "\n",
       "    .dataframe tbody tr th {\n",
       "        vertical-align: top;\n",
       "    }\n",
       "\n",
       "    .dataframe thead th {\n",
       "        text-align: right;\n",
       "    }\n",
       "</style>\n",
       "<table border=\"1\" class=\"dataframe\">\n",
       "  <thead>\n",
       "    <tr style=\"text-align: right;\">\n",
       "      <th></th>\n",
       "      <th>SAT_Scores</th>\n",
       "      <th>GPA</th>\n",
       "    </tr>\n",
       "  </thead>\n",
       "  <tbody>\n",
       "    <tr>\n",
       "      <th>count</th>\n",
       "      <td>200.000000</td>\n",
       "      <td>200.000000</td>\n",
       "    </tr>\n",
       "    <tr>\n",
       "      <th>mean</th>\n",
       "      <td>491.810000</td>\n",
       "      <td>2.849500</td>\n",
       "    </tr>\n",
       "    <tr>\n",
       "      <th>std</th>\n",
       "      <td>174.893834</td>\n",
       "      <td>0.541076</td>\n",
       "    </tr>\n",
       "    <tr>\n",
       "      <th>min</th>\n",
       "      <td>202.000000</td>\n",
       "      <td>2.000000</td>\n",
       "    </tr>\n",
       "    <tr>\n",
       "      <th>25%</th>\n",
       "      <td>349.750000</td>\n",
       "      <td>2.400000</td>\n",
       "    </tr>\n",
       "    <tr>\n",
       "      <th>50%</th>\n",
       "      <td>480.500000</td>\n",
       "      <td>2.800000</td>\n",
       "    </tr>\n",
       "    <tr>\n",
       "      <th>75%</th>\n",
       "      <td>641.500000</td>\n",
       "      <td>3.400000</td>\n",
       "    </tr>\n",
       "    <tr>\n",
       "      <th>max</th>\n",
       "      <td>797.000000</td>\n",
       "      <td>3.900000</td>\n",
       "    </tr>\n",
       "  </tbody>\n",
       "</table>\n",
       "</div>"
      ],
      "text/plain": [
       "       SAT_Scores         GPA\n",
       "count  200.000000  200.000000\n",
       "mean   491.810000    2.849500\n",
       "std    174.893834    0.541076\n",
       "min    202.000000    2.000000\n",
       "25%    349.750000    2.400000\n",
       "50%    480.500000    2.800000\n",
       "75%    641.500000    3.400000\n",
       "max    797.000000    3.900000"
      ]
     },
     "execution_count": 6,
     "metadata": {},
     "output_type": "execute_result"
    }
   ],
   "source": [
    "df.describe()"
   ]
  },
  {
   "cell_type": "markdown",
   "id": "f7717389",
   "metadata": {},
   "source": [
    "Checking the Number of Duplicates in the Dataset."
   ]
  },
  {
   "cell_type": "code",
   "execution_count": 9,
   "id": "7e5d1006",
   "metadata": {},
   "outputs": [
    {
     "name": "stdout",
     "output_type": "stream",
     "text": [
      "\u001b[1m\u001b[34m Number of Duplicate values: \u001b[0m 0\n"
     ]
    }
   ],
   "source": [
    "duplicate_values=df.duplicated(subset=None,keep='first').sum()\n",
    "print(colored(' Number of Duplicate values: ','blue',attrs=['bold']),duplicate_values)"
   ]
  },
  {
   "cell_type": "markdown",
   "id": "4b60a2c4",
   "metadata": {},
   "source": [
    "Removing the duplicate values. "
   ]
  },
  {
   "cell_type": "code",
   "execution_count": 8,
   "id": "0f12d0ef",
   "metadata": {},
   "outputs": [],
   "source": [
    "df.drop_duplicates(keep='first',inplace=True)"
   ]
  },
  {
   "cell_type": "markdown",
   "id": "596b1b85",
   "metadata": {},
   "source": [
    "Checking the Number and Percentage of Missing Values in the Dataset."
   ]
  },
  {
   "cell_type": "code",
   "execution_count": 10,
   "id": "72d872c0",
   "metadata": {},
   "outputs": [
    {
     "name": "stdout",
     "output_type": "stream",
     "text": [
      "\u001b[1m\u001b[34mNumber of Missing Values\n",
      "\n",
      "\u001b[0m SAT_Scores    0\n",
      "GPA           0\n",
      "dtype: int64\n"
     ]
    }
   ],
   "source": [
    "missing=df.isna().sum().sort_values(ascending=False)\n",
    "print(colored(\"Number of Missing Values\\n\\n\",'blue',attrs=['bold']),missing)"
   ]
  },
  {
   "cell_type": "code",
   "execution_count": 11,
   "id": "422f0bc7",
   "metadata": {},
   "outputs": [
    {
     "name": "stdout",
     "output_type": "stream",
     "text": [
      "\u001b[1m\u001b[34mNumber of Unique Values:\n",
      "\n",
      "\u001b[0m SAT_Scores    174\n",
      "GPA            20\n",
      "dtype: int64\n"
     ]
    }
   ],
   "source": [
    "print(colored('Number of Unique Values:\\n\\n','blue',attrs=['bold']),df.nunique())"
   ]
  },
  {
   "cell_type": "markdown",
   "id": "f658e768",
   "metadata": {},
   "source": [
    "### First Moment Business Decision or Measures of Central Tendency.\n",
    "* It gives the mean, median and mode values of the dataset.\n",
    "* Mean is the average of the data and it easily gets influenced by the outliers.\n",
    "* Median is the middle most value of the dataset.\n",
    "* Mode is the most repeated value of the dataset.\n",
    "* If the mean, median & mode are same then the data has normal distribution otherwise the distribution is not normal."
   ]
  },
  {
   "cell_type": "code",
   "execution_count": 12,
   "id": "c8ffae12",
   "metadata": {},
   "outputs": [
    {
     "data": {
      "text/plain": [
       "SAT_Scores    493.843434\n",
       "GPA             2.846970\n",
       "dtype: float64"
      ]
     },
     "execution_count": 12,
     "metadata": {},
     "output_type": "execute_result"
    }
   ],
   "source": [
    "df.mean()"
   ]
  },
  {
   "cell_type": "code",
   "execution_count": 13,
   "id": "457e7aa8",
   "metadata": {},
   "outputs": [
    {
     "data": {
      "text/plain": [
       "SAT_Scores    481.5\n",
       "GPA             2.8\n",
       "dtype: float64"
      ]
     },
     "execution_count": 13,
     "metadata": {},
     "output_type": "execute_result"
    }
   ],
   "source": [
    "df.median()"
   ]
  },
  {
   "cell_type": "code",
   "execution_count": 14,
   "id": "b828d378",
   "metadata": {},
   "outputs": [
    {
     "name": "stderr",
     "output_type": "stream",
     "text": [
      "C:\\Users\\lenny\\AppData\\Local\\Temp\\ipykernel_20832\\4235401754.py:1: FutureWarning: Unlike other reduction functions (e.g. `skew`, `kurtosis`), the default behavior of `mode` typically preserves the axis it acts along. In SciPy 1.11.0, this behavior will change: the default value of `keepdims` will become False, the `axis` over which the statistic is taken will be eliminated, and the value None will no longer be accepted. Set `keepdims` to True or False to avoid this warning.\n",
      "  stats.mode(df)\n"
     ]
    },
    {
     "data": {
      "text/plain": [
       "ModeResult(mode=array([[233. ,   2.5]]), count=array([[ 3, 18]]))"
      ]
     },
     "execution_count": 14,
     "metadata": {},
     "output_type": "execute_result"
    }
   ],
   "source": [
    "stats.mode(df)"
   ]
  },
  {
   "cell_type": "markdown",
   "id": "ff80d2c1",
   "metadata": {},
   "source": [
    "### Second Moment Business Decision or Measures of Dispersion\n",
    "* It contains Variance, Standard Deviation & Range.\n",
    "* It gives a general idea about the spread of data in the dataset.\n",
    "* Variance is the average squared distance of each data point from the mean.\n",
    "* Standard deviation is the root of the variance.\n",
    "* Range is the difference between the max and min data point of the dataset."
   ]
  },
  {
   "cell_type": "code",
   "execution_count": 15,
   "id": "437c14a9",
   "metadata": {},
   "outputs": [
    {
     "data": {
      "text/plain": [
       "SAT_Scores    30423.391606\n",
       "GPA               0.290118\n",
       "dtype: float64"
      ]
     },
     "execution_count": 15,
     "metadata": {},
     "output_type": "execute_result"
    }
   ],
   "source": [
    "df.var()"
   ]
  },
  {
   "cell_type": "code",
   "execution_count": 16,
   "id": "f2adb8c6",
   "metadata": {},
   "outputs": [
    {
     "data": {
      "text/plain": [
       "SAT_Scores    174.423025\n",
       "GPA             0.538626\n",
       "dtype: float64"
      ]
     },
     "execution_count": 16,
     "metadata": {},
     "output_type": "execute_result"
    }
   ],
   "source": [
    "df.std()"
   ]
  },
  {
   "cell_type": "markdown",
   "id": "28a243e8",
   "metadata": {},
   "source": [
    "### THIRD MOMENT BUSINESS DECISION OR SKEWNESS\n",
    "* Skewness gives the measure of asymmetry in a data.\n",
    "* The types of skewness are as follows:\n",
    "    * Negative skewness or left skewed.\n",
    "    * Positive skewness or right skewed.\n",
    "    * If skewness = 0 then it is normally distributed."
   ]
  },
  {
   "cell_type": "code",
   "execution_count": 17,
   "id": "4a418d49",
   "metadata": {},
   "outputs": [
    {
     "data": {
      "text/plain": [
       "SAT_Scores    0.044921\n",
       "GPA           0.308109\n",
       "dtype: float64"
      ]
     },
     "execution_count": 17,
     "metadata": {},
     "output_type": "execute_result"
    }
   ],
   "source": [
    "df.skew()"
   ]
  },
  {
   "cell_type": "markdown",
   "id": "66e9277b",
   "metadata": {},
   "source": [
    "### FOURTH MOMENT BUSINESS DECISION OR KURTOSIS\n",
    "* Kurtosis is the peakedness of the distribution.\n",
    "* Negative kurtosis implies a wider peak and thinner tails.\n",
    "* Positive kurtosis implies a narrow peak and wider tails."
   ]
  },
  {
   "cell_type": "code",
   "execution_count": 18,
   "id": "488baf39",
   "metadata": {
    "scrolled": true
   },
   "outputs": [
    {
     "data": {
      "text/plain": [
       "SAT_Scores   -1.223676\n",
       "GPA          -1.030458\n",
       "dtype: float64"
      ]
     },
     "execution_count": 18,
     "metadata": {},
     "output_type": "execute_result"
    }
   ],
   "source": [
    "df.kurt()"
   ]
  },
  {
   "cell_type": "markdown",
   "id": "55e7aebe",
   "metadata": {},
   "source": [
    "### GRAPHICAL REPRESENTATION"
   ]
  },
  {
   "cell_type": "markdown",
   "id": "7f7befb7",
   "metadata": {},
   "source": [
    "Plotting histograms of each variable."
   ]
  },
  {
   "cell_type": "code",
   "execution_count": 19,
   "id": "e440e9fa",
   "metadata": {},
   "outputs": [
    {
     "name": "stderr",
     "output_type": "stream",
     "text": [
      "C:\\Users\\lenny\\AppData\\Local\\Temp\\ipykernel_20832\\522995607.py:3: UserWarning: To output multiple subplots, the figure containing the passed axes is being cleared.\n",
      "  df.hist(ax=ax)\n"
     ]
    },
    {
     "data": {
      "text/plain": [
       "<function matplotlib.pyplot.show(close=None, block=None)>"
      ]
     },
     "execution_count": 19,
     "metadata": {},
     "output_type": "execute_result"
    },
    {
     "data": {
      "image/png": "[encoded data removed]",
      "text/plain": [
       "<Figure size 1080x576 with 2 Axes>"
      ]
     },
     "metadata": {
      "needs_background": "light"
     },
     "output_type": "display_data"
    }
   ],
   "source": [
    "fig=plt.figure(figsize=(15,8))\n",
    "ax=fig.gca()\n",
    "df.hist(ax=ax)\n",
    "plt.show"
   ]
  },
  {
   "cell_type": "code",
   "execution_count": 20,
   "id": "1e37118b",
   "metadata": {},
   "outputs": [
    {
     "name": "stderr",
     "output_type": "stream",
     "text": [
      "C:\\Users\\lenny\\anaconda3\\lib\\site-packages\\seaborn\\_decorators.py:36: FutureWarning: Pass the following variables as keyword args: x, y. From version 0.12, the only valid positional argument will be `data`, and passing other arguments without an explicit keyword will result in an error or misinterpretation.\n",
      "  warnings.warn(\n"
     ]
    },
    {
     "data": {
      "image/png": "[encoded data removed]",
      "text/plain": [
       "<Figure size 1080x576 with 1 Axes>"
      ]
     },
     "metadata": {
      "needs_background": "light"
     },
     "output_type": "display_data"
    }
   ],
   "source": [
    "plt.figure(figsize=(15,8))\n",
    "sns.scatterplot(df['SAT_Scores'],df['GPA'])\n",
    "plt.title(\"Bivariate Analysis using Scatterplot\")\n",
    "plt.show()"
   ]
  },
  {
   "cell_type": "markdown",
   "id": "728e8a4d",
   "metadata": {},
   "source": [
    "Plotting boxplots of each variable."
   ]
  },
  {
   "cell_type": "code",
   "execution_count": 21,
   "id": "06dd1769",
   "metadata": {},
   "outputs": [
    {
     "data": {
      "text/plain": [
       "Index(['SAT_Scores', 'GPA'], dtype='object')"
      ]
     },
     "execution_count": 21,
     "metadata": {},
     "output_type": "execute_result"
    }
   ],
   "source": [
    "df.columns"
   ]
  },
  {
   "cell_type": "code",
   "execution_count": 22,
   "id": "21a9db01",
   "metadata": {},
   "outputs": [
    {
     "name": "stderr",
     "output_type": "stream",
     "text": [
      "C:\\Users\\lenny\\anaconda3\\lib\\site-packages\\seaborn\\_decorators.py:36: FutureWarning: Pass the following variable as a keyword arg: x. From version 0.12, the only valid positional argument will be `data`, and passing other arguments without an explicit keyword will result in an error or misinterpretation.\n",
      "  warnings.warn(\n"
     ]
    },
    {
     "data": {
      "text/plain": [
       "<AxesSubplot:xlabel='SAT_Scores'>"
      ]
     },
     "execution_count": 22,
     "metadata": {},
     "output_type": "execute_result"
    },
    {
     "data": {
      "image/png": "[encoded data removed]",
      "text/plain": [
       "<Figure size 432x288 with 1 Axes>"
      ]
     },
     "metadata": {
      "needs_background": "light"
     },
     "output_type": "display_data"
    }
   ],
   "source": [
    "sns.boxplot(df['SAT_Scores'])"
   ]
  },
  {
   "cell_type": "code",
   "execution_count": 23,
   "id": "0471ff5f",
   "metadata": {
    "scrolled": true
   },
   "outputs": [
    {
     "name": "stderr",
     "output_type": "stream",
     "text": [
      "C:\\Users\\lenny\\anaconda3\\lib\\site-packages\\seaborn\\_decorators.py:36: FutureWarning: Pass the following variable as a keyword arg: x. From version 0.12, the only valid positional argument will be `data`, and passing other arguments without an explicit keyword will result in an error or misinterpretation.\n",
      "  warnings.warn(\n"
     ]
    },
    {
     "data": {
      "text/plain": [
       "<AxesSubplot:xlabel='GPA'>"
      ]
     },
     "execution_count": 23,
     "metadata": {},
     "output_type": "execute_result"
    },
    {
     "data": {
      "image/png": "[encoded data removed]",
      "text/plain": [
       "<Figure size 432x288 with 1 Axes>"
      ]
     },
     "metadata": {
      "needs_background": "light"
     },
     "output_type": "display_data"
    }
   ],
   "source": [
    "sns.boxplot(df['GPA'])"
   ]
  },
  {
   "cell_type": "markdown",
   "id": "ed11551a",
   "metadata": {},
   "source": [
    "from the boxplots it is evident that there are no outliers in both the variables. "
   ]
  },
  {
   "cell_type": "markdown",
   "id": "1258845a",
   "metadata": {},
   "source": [
    "__CORRELATION CHART__"
   ]
  },
  {
   "cell_type": "code",
   "execution_count": 24,
   "id": "c7e00a65",
   "metadata": {},
   "outputs": [
    {
     "data": {
      "text/plain": [
       "<AxesSubplot:>"
      ]
     },
     "execution_count": 24,
     "metadata": {},
     "output_type": "execute_result"
    },
    {
     "data": {
      "image/png": "[encoded data removed]",
      "text/plain": [
       "<Figure size 720x576 with 2 Axes>"
      ]
     },
     "metadata": {
      "needs_background": "light"
     },
     "output_type": "display_data"
    }
   ],
   "source": [
    "plt.figure(figsize=(10,8))\n",
    "sns.heatmap(df.corr(),annot=True)"
   ]
  },
  {
   "cell_type": "markdown",
   "id": "ac3f771f",
   "metadata": {},
   "source": [
    "from the correlation chart it is clear that the YearsExperience has a very strong positive correlation with Salary."
   ]
  },
  {
   "cell_type": "code",
   "execution_count": 26,
   "id": "4ba499e5",
   "metadata": {},
   "outputs": [
    {
     "data": {
      "text/plain": [
       "28.033279495462235"
      ]
     },
     "execution_count": 26,
     "metadata": {},
     "output_type": "execute_result"
    }
   ],
   "source": [
    "cov_output = np.cov(df['SAT_Scores'], df['GPA'])[0, 1]\n",
    "cov_output"
   ]
  },
  {
   "cell_type": "markdown",
   "id": "b904ea3d",
   "metadata": {},
   "source": [
    "A positive covariance indicates that the two variables tend to move together and with the same sign, a negative covariance indicates that the two variables tend to move in the opposite direction.<br>\n",
    "__From the covariance value we can infer that the variables move in the same direction.__"
   ]
  },
  {
   "cell_type": "markdown",
   "id": "2b7cb5a8",
   "metadata": {},
   "source": [
    "### EVALUATING DIFFERENT  MODELS FOR  MODEL BUILDING"
   ]
  },
  {
   "cell_type": "markdown",
   "id": "d3f334e3",
   "metadata": {},
   "source": [
    "Importing the library required for evaluating the models. "
   ]
  },
  {
   "cell_type": "code",
   "execution_count": 27,
   "id": "dae39481",
   "metadata": {},
   "outputs": [],
   "source": [
    "import statsmodels.formula.api as smf"
   ]
  },
  {
   "cell_type": "markdown",
   "id": "5ba45a9f",
   "metadata": {},
   "source": [
    "__Simple Linear Regression__"
   ]
  },
  {
   "cell_type": "markdown",
   "id": "54f2a1c5",
   "metadata": {},
   "source": [
    "Fitting the model"
   ]
  },
  {
   "cell_type": "code",
   "execution_count": 28,
   "id": "9bd7ce52",
   "metadata": {},
   "outputs": [
    {
     "data": {
      "text/html": [
       "<table class=\"simpletable\">\n",
       "<caption>OLS Regression Results</caption>\n",
       "<tr>\n",
       "  <th>Dep. Variable:</th>        <td>df['GPA']</td>    <th>  R-squared:         </th> <td>   0.089</td>\n",
       "</tr>\n",
       "<tr>\n",
       "  <th>Model:</th>                   <td>OLS</td>       <th>  Adj. R-squared:    </th> <td>   0.084</td>\n",
       "</tr>\n",
       "<tr>\n",
       "  <th>Method:</th>             <td>Least Squares</td>  <th>  F-statistic:       </th> <td>   19.16</td>\n",
       "</tr>\n",
       "<tr>\n",
       "  <th>Date:</th>             <td>Sat, 05 Nov 2022</td> <th>  Prob (F-statistic):</th> <td>1.96e-05</td>\n",
       "</tr>\n",
       "<tr>\n",
       "  <th>Time:</th>                 <td>12:07:48</td>     <th>  Log-Likelihood:    </th> <td> -148.71</td>\n",
       "</tr>\n",
       "<tr>\n",
       "  <th>No. Observations:</th>      <td>   198</td>      <th>  AIC:               </th> <td>   301.4</td>\n",
       "</tr>\n",
       "<tr>\n",
       "  <th>Df Residuals:</th>          <td>   196</td>      <th>  BIC:               </th> <td>   308.0</td>\n",
       "</tr>\n",
       "<tr>\n",
       "  <th>Df Model:</th>              <td>     1</td>      <th>                     </th>     <td> </td>   \n",
       "</tr>\n",
       "<tr>\n",
       "  <th>Covariance Type:</th>      <td>nonrobust</td>    <th>                     </th>     <td> </td>   \n",
       "</tr>\n",
       "</table>\n",
       "<table class=\"simpletable\">\n",
       "<tr>\n",
       "          <td></td>            <th>coef</th>     <th>std err</th>      <th>t</th>      <th>P>|t|</th>  <th>[0.025</th>    <th>0.975]</th>  \n",
       "</tr>\n",
       "<tr>\n",
       "  <th>Intercept</th>        <td>    2.3919</td> <td>    0.110</td> <td>   21.699</td> <td> 0.000</td> <td>    2.175</td> <td>    2.609</td>\n",
       "</tr>\n",
       "<tr>\n",
       "  <th>df['SAT_Scores']</th> <td>    0.0009</td> <td>    0.000</td> <td>    4.377</td> <td> 0.000</td> <td>    0.001</td> <td>    0.001</td>\n",
       "</tr>\n",
       "</table>\n",
       "<table class=\"simpletable\">\n",
       "<tr>\n",
       "  <th>Omnibus:</th>       <td>11.942</td> <th>  Durbin-Watson:     </th> <td>   1.352</td>\n",
       "</tr>\n",
       "<tr>\n",
       "  <th>Prob(Omnibus):</th> <td> 0.003</td> <th>  Jarque-Bera (JB):  </th> <td>   7.209</td>\n",
       "</tr>\n",
       "<tr>\n",
       "  <th>Skew:</th>          <td> 0.307</td> <th>  Prob(JB):          </th> <td>  0.0272</td>\n",
       "</tr>\n",
       "<tr>\n",
       "  <th>Kurtosis:</th>      <td> 2.295</td> <th>  Cond. No.          </th> <td>1.58e+03</td>\n",
       "</tr>\n",
       "</table><br/><br/>Notes:<br/>[1] Standard Errors assume that the covariance matrix of the errors is correctly specified.<br/>[2] The condition number is large, 1.58e+03. This might indicate that there are<br/>strong multicollinearity or other numerical problems."
      ],
      "text/plain": [
       "<class 'statsmodels.iolib.summary.Summary'>\n",
       "\"\"\"\n",
       "                            OLS Regression Results                            \n",
       "==============================================================================\n",
       "Dep. Variable:              df['GPA']   R-squared:                       0.089\n",
       "Model:                            OLS   Adj. R-squared:                  0.084\n",
       "Method:                 Least Squares   F-statistic:                     19.16\n",
       "Date:                Sat, 05 Nov 2022   Prob (F-statistic):           1.96e-05\n",
       "Time:                        12:07:48   Log-Likelihood:                -148.71\n",
       "No. Observations:                 198   AIC:                             301.4\n",
       "Df Residuals:                     196   BIC:                             308.0\n",
       "Df Model:                           1                                         \n",
       "Covariance Type:            nonrobust                                         \n",
       "====================================================================================\n",
       "                       coef    std err          t      P>|t|      [0.025      0.975]\n",
       "------------------------------------------------------------------------------------\n",
       "Intercept            2.3919      0.110     21.699      0.000       2.175       2.609\n",
       "df['SAT_Scores']     0.0009      0.000      4.377      0.000       0.001       0.001\n",
       "==============================================================================\n",
       "Omnibus:                       11.942   Durbin-Watson:                   1.352\n",
       "Prob(Omnibus):                  0.003   Jarque-Bera (JB):                7.209\n",
       "Skew:                           0.307   Prob(JB):                       0.0272\n",
       "Kurtosis:                       2.295   Cond. No.                     1.58e+03\n",
       "==============================================================================\n",
       "\n",
       "Notes:\n",
       "[1] Standard Errors assume that the covariance matrix of the errors is correctly specified.\n",
       "[2] The condition number is large, 1.58e+03. This might indicate that there are\n",
       "strong multicollinearity or other numerical problems.\n",
       "\"\"\""
      ]
     },
     "execution_count": 28,
     "metadata": {},
     "output_type": "execute_result"
    }
   ],
   "source": [
    "model1 = smf.ols(\"df['GPA'] ~ df['SAT_Scores']\", data = df).fit()\n",
    "model1.summary()"
   ]
  },
  {
   "cell_type": "markdown",
   "id": "64710828",
   "metadata": {},
   "source": [
    "Visualization to see how well the model fit the data."
   ]
  },
  {
   "cell_type": "code",
   "execution_count": 29,
   "id": "aad19556",
   "metadata": {},
   "outputs": [
    {
     "data": {
      "image/png": "[encoded data removed]",
      "text/plain": [
       "<Figure size 432x288 with 1 Axes>"
      ]
     },
     "metadata": {
      "needs_background": "light"
     },
     "output_type": "display_data"
    }
   ],
   "source": [
    "pred1 = model1.predict(pd.DataFrame(df['SAT_Scores']))\n",
    "\n",
    "# Regression Line\n",
    "plt.scatter(df['SAT_Scores'], df['GPA'])\n",
    "plt.plot(df['SAT_Scores'], pred1, \"r\")\n",
    "plt.legend(['Predicted line', 'Observed data'])\n",
    "plt.show()"
   ]
  },
  {
   "cell_type": "markdown",
   "id": "c590c1ee",
   "metadata": {},
   "source": [
    "Error Calculation"
   ]
  },
  {
   "cell_type": "code",
   "execution_count": 30,
   "id": "6850ff82",
   "metadata": {},
   "outputs": [
    {
     "data": {
      "text/plain": [
       "0.5127884107057589"
      ]
     },
     "execution_count": 30,
     "metadata": {},
     "output_type": "execute_result"
    }
   ],
   "source": [
    "res1 = df['GPA'] - pred1\n",
    "res_sqr1 = res1 * res1\n",
    "mse1 = np.mean(res_sqr1)\n",
    "rmse1 = np.sqrt(mse1)\n",
    "rmse1"
   ]
  },
  {
   "cell_type": "markdown",
   "id": "172945b4",
   "metadata": {},
   "source": [
    "__Model building on Transformed Data__<br>\n",
    "* __Log Transformation__"
   ]
  },
  {
   "cell_type": "markdown",
   "id": "dceb34f1",
   "metadata": {},
   "source": [
    "Plotting the scatter plot to understand the correlation and regression line between the transformed variables. "
   ]
  },
  {
   "cell_type": "code",
   "execution_count": 31,
   "id": "15709ddd",
   "metadata": {},
   "outputs": [
    {
     "data": {
      "text/plain": [
       "array([[1.        , 0.28026929],\n",
       "       [0.28026929, 1.        ]])"
      ]
     },
     "execution_count": 31,
     "metadata": {},
     "output_type": "execute_result"
    },
    {
     "data": {
      "image/png": "[encoded data removed]",
      "text/plain": [
       "<Figure size 432x288 with 1 Axes>"
      ]
     },
     "metadata": {
      "needs_background": "light"
     },
     "output_type": "display_data"
    }
   ],
   "source": [
    "plt.scatter(x = np.log(df['SAT_Scores']), y = df['GPA'], color = 'brown')\n",
    "np.corrcoef(np.log(df['SAT_Scores']), df['GPA']) #correlation"
   ]
  },
  {
   "cell_type": "markdown",
   "id": "46e0fcab",
   "metadata": {},
   "source": [
    "Fitting the model on the regression line"
   ]
  },
  {
   "cell_type": "code",
   "execution_count": 32,
   "id": "a86fd90a",
   "metadata": {},
   "outputs": [
    {
     "data": {
      "text/html": [
       "<table class=\"simpletable\">\n",
       "<caption>OLS Regression Results</caption>\n",
       "<tr>\n",
       "  <th>Dep. Variable:</th>        <td>df['GPA']</td>    <th>  R-squared:         </th> <td>   0.079</td>\n",
       "</tr>\n",
       "<tr>\n",
       "  <th>Model:</th>                   <td>OLS</td>       <th>  Adj. R-squared:    </th> <td>   0.074</td>\n",
       "</tr>\n",
       "<tr>\n",
       "  <th>Method:</th>             <td>Least Squares</td>  <th>  F-statistic:       </th> <td>   16.71</td>\n",
       "</tr>\n",
       "<tr>\n",
       "  <th>Date:</th>             <td>Sat, 05 Nov 2022</td> <th>  Prob (F-statistic):</th> <td>6.36e-05</td>\n",
       "</tr>\n",
       "<tr>\n",
       "  <th>Time:</th>                 <td>12:08:19</td>     <th>  Log-Likelihood:    </th> <td> -149.84</td>\n",
       "</tr>\n",
       "<tr>\n",
       "  <th>No. Observations:</th>      <td>   198</td>      <th>  AIC:               </th> <td>   303.7</td>\n",
       "</tr>\n",
       "<tr>\n",
       "  <th>Df Residuals:</th>          <td>   196</td>      <th>  BIC:               </th> <td>   310.3</td>\n",
       "</tr>\n",
       "<tr>\n",
       "  <th>Df Model:</th>              <td>     1</td>      <th>                     </th>     <td> </td>   \n",
       "</tr>\n",
       "<tr>\n",
       "  <th>Covariance Type:</th>      <td>nonrobust</td>    <th>                     </th>     <td> </td>   \n",
       "</tr>\n",
       "</table>\n",
       "<table class=\"simpletable\">\n",
       "<tr>\n",
       "              <td></td>                <th>coef</th>     <th>std err</th>      <th>t</th>      <th>P>|t|</th>  <th>[0.025</th>    <th>0.975]</th>  \n",
       "</tr>\n",
       "<tr>\n",
       "  <th>Intercept</th>                <td>    0.4508</td> <td>    0.587</td> <td>    0.767</td> <td> 0.444</td> <td>   -0.708</td> <td>    1.609</td>\n",
       "</tr>\n",
       "<tr>\n",
       "  <th>np.log(df['SAT_Scores'])</th> <td>    0.3907</td> <td>    0.096</td> <td>    4.088</td> <td> 0.000</td> <td>    0.202</td> <td>    0.579</td>\n",
       "</tr>\n",
       "</table>\n",
       "<table class=\"simpletable\">\n",
       "<tr>\n",
       "  <th>Omnibus:</th>       <td>15.351</td> <th>  Durbin-Watson:     </th> <td>   1.360</td>\n",
       "</tr>\n",
       "<tr>\n",
       "  <th>Prob(Omnibus):</th> <td> 0.000</td> <th>  Jarque-Bera (JB):  </th> <td>   8.165</td>\n",
       "</tr>\n",
       "<tr>\n",
       "  <th>Skew:</th>          <td> 0.313</td> <th>  Prob(JB):          </th> <td>  0.0169</td>\n",
       "</tr>\n",
       "<tr>\n",
       "  <th>Kurtosis:</th>      <td> 2.227</td> <th>  Cond. No.          </th> <td>    101.</td>\n",
       "</tr>\n",
       "</table><br/><br/>Notes:<br/>[1] Standard Errors assume that the covariance matrix of the errors is correctly specified."
      ],
      "text/plain": [
       "<class 'statsmodels.iolib.summary.Summary'>\n",
       "\"\"\"\n",
       "                            OLS Regression Results                            \n",
       "==============================================================================\n",
       "Dep. Variable:              df['GPA']   R-squared:                       0.079\n",
       "Model:                            OLS   Adj. R-squared:                  0.074\n",
       "Method:                 Least Squares   F-statistic:                     16.71\n",
       "Date:                Sat, 05 Nov 2022   Prob (F-statistic):           6.36e-05\n",
       "Time:                        12:08:19   Log-Likelihood:                -149.84\n",
       "No. Observations:                 198   AIC:                             303.7\n",
       "Df Residuals:                     196   BIC:                             310.3\n",
       "Df Model:                           1                                         \n",
       "Covariance Type:            nonrobust                                         \n",
       "============================================================================================\n",
       "                               coef    std err          t      P>|t|      [0.025      0.975]\n",
       "--------------------------------------------------------------------------------------------\n",
       "Intercept                    0.4508      0.587      0.767      0.444      -0.708       1.609\n",
       "np.log(df['SAT_Scores'])     0.3907      0.096      4.088      0.000       0.202       0.579\n",
       "==============================================================================\n",
       "Omnibus:                       15.351   Durbin-Watson:                   1.360\n",
       "Prob(Omnibus):                  0.000   Jarque-Bera (JB):                8.165\n",
       "Skew:                           0.313   Prob(JB):                       0.0169\n",
       "Kurtosis:                       2.227   Cond. No.                         101.\n",
       "==============================================================================\n",
       "\n",
       "Notes:\n",
       "[1] Standard Errors assume that the covariance matrix of the errors is correctly specified.\n",
       "\"\"\""
      ]
     },
     "execution_count": 32,
     "metadata": {},
     "output_type": "execute_result"
    }
   ],
   "source": [
    "model2 = smf.ols(\"df['GPA'] ~ np.log(df['SAT_Scores'])\", data = df).fit()\n",
    "model2.summary()"
   ]
  },
  {
   "cell_type": "markdown",
   "id": "3fc98584",
   "metadata": {},
   "source": [
    "Visualization to see how well the model fit the data. "
   ]
  },
  {
   "cell_type": "code",
   "execution_count": 33,
   "id": "fcbf0ccf",
   "metadata": {},
   "outputs": [
    {
     "data": {
      "image/png": "[encoded data removed]",
      "text/plain": [
       "<Figure size 432x288 with 1 Axes>"
      ]
     },
     "metadata": {
      "needs_background": "light"
     },
     "output_type": "display_data"
    }
   ],
   "source": [
    "pred2 = model2.predict(pd.DataFrame(df['SAT_Scores']))\n",
    "\n",
    "# Regression Line\n",
    "plt.scatter(np.log(df['SAT_Scores']), df['GPA'])\n",
    "plt.plot(np.log(df['SAT_Scores']), pred2, \"r\")\n",
    "plt.legend(['Predicted line', 'Observed data'])\n",
    "plt.show()"
   ]
  },
  {
   "cell_type": "markdown",
   "id": "152e62e5",
   "metadata": {},
   "source": [
    "Error calculation"
   ]
  },
  {
   "cell_type": "code",
   "execution_count": 34,
   "id": "1dc6aaf6",
   "metadata": {},
   "outputs": [
    {
     "data": {
      "text/plain": [
       "0.5157310661416383"
      ]
     },
     "execution_count": 34,
     "metadata": {},
     "output_type": "execute_result"
    }
   ],
   "source": [
    "res2 = df['GPA'] - pred2\n",
    "res_sqr2 = res2 * res2\n",
    "mse2 = np.mean(res_sqr2)\n",
    "rmse2 = np.sqrt(mse2)\n",
    "rmse2"
   ]
  },
  {
   "cell_type": "markdown",
   "id": "7a7deccd",
   "metadata": {},
   "source": [
    "* __Exponential transformation__"
   ]
  },
  {
   "cell_type": "markdown",
   "id": "a91fe39f",
   "metadata": {},
   "source": [
    "Plotting the scatter plot to understand the correlation between the transformed variables."
   ]
  },
  {
   "cell_type": "code",
   "execution_count": 35,
   "id": "1ff30cdc",
   "metadata": {},
   "outputs": [
    {
     "data": {
      "text/plain": [
       "array([[1.        , 0.29817783],\n",
       "       [0.29817783, 1.        ]])"
      ]
     },
     "execution_count": 35,
     "metadata": {},
     "output_type": "execute_result"
    },
    {
     "data": {
      "image/png": "[encoded data removed]",
      "text/plain": [
       "<Figure size 432x288 with 1 Axes>"
      ]
     },
     "metadata": {
      "needs_background": "light"
     },
     "output_type": "display_data"
    }
   ],
   "source": [
    "plt.scatter(x = df['SAT_Scores'], y = np.log(df['GPA']), color = 'orange')\n",
    "np.corrcoef(df['SAT_Scores'], np.log(df['GPA'])) #correlation"
   ]
  },
  {
   "cell_type": "markdown",
   "id": "7c4c2b90",
   "metadata": {},
   "source": [
    "Fitting the model on the regression line"
   ]
  },
  {
   "cell_type": "code",
   "execution_count": 36,
   "id": "b6909b70",
   "metadata": {},
   "outputs": [
    {
     "data": {
      "text/html": [
       "<table class=\"simpletable\">\n",
       "<caption>OLS Regression Results</caption>\n",
       "<tr>\n",
       "  <th>Dep. Variable:</th>    <td>np.log(df['GPA'])</td> <th>  R-squared:         </th> <td>   0.089</td>\n",
       "</tr>\n",
       "<tr>\n",
       "  <th>Model:</th>                   <td>OLS</td>        <th>  Adj. R-squared:    </th> <td>   0.084</td>\n",
       "</tr>\n",
       "<tr>\n",
       "  <th>Method:</th>             <td>Least Squares</td>   <th>  F-statistic:       </th> <td>   19.13</td>\n",
       "</tr>\n",
       "<tr>\n",
       "  <th>Date:</th>             <td>Sat, 05 Nov 2022</td>  <th>  Prob (F-statistic):</th> <td>1.98e-05</td>\n",
       "</tr>\n",
       "<tr>\n",
       "  <th>Time:</th>                 <td>12:08:36</td>      <th>  Log-Likelihood:    </th> <td>  58.937</td>\n",
       "</tr>\n",
       "<tr>\n",
       "  <th>No. Observations:</th>      <td>   198</td>       <th>  AIC:               </th> <td>  -113.9</td>\n",
       "</tr>\n",
       "<tr>\n",
       "  <th>Df Residuals:</th>          <td>   196</td>       <th>  BIC:               </th> <td>  -107.3</td>\n",
       "</tr>\n",
       "<tr>\n",
       "  <th>Df Model:</th>              <td>     1</td>       <th>                     </th>     <td> </td>   \n",
       "</tr>\n",
       "<tr>\n",
       "  <th>Covariance Type:</th>      <td>nonrobust</td>     <th>                     </th>     <td> </td>   \n",
       "</tr>\n",
       "</table>\n",
       "<table class=\"simpletable\">\n",
       "<tr>\n",
       "          <td></td>            <th>coef</th>     <th>std err</th>      <th>t</th>      <th>P>|t|</th>  <th>[0.025</th>    <th>0.975]</th>  \n",
       "</tr>\n",
       "<tr>\n",
       "  <th>Intercept</th>        <td>    0.8692</td> <td>    0.039</td> <td>   22.505</td> <td> 0.000</td> <td>    0.793</td> <td>    0.945</td>\n",
       "</tr>\n",
       "<tr>\n",
       "  <th>df['SAT_Scores']</th> <td>    0.0003</td> <td> 7.38e-05</td> <td>    4.373</td> <td> 0.000</td> <td>    0.000</td> <td>    0.000</td>\n",
       "</tr>\n",
       "</table>\n",
       "<table class=\"simpletable\">\n",
       "<tr>\n",
       "  <th>Omnibus:</th>       <td>10.630</td> <th>  Durbin-Watson:     </th> <td>   1.402</td>\n",
       "</tr>\n",
       "<tr>\n",
       "  <th>Prob(Omnibus):</th> <td> 0.005</td> <th>  Jarque-Bera (JB):  </th> <td>   4.667</td>\n",
       "</tr>\n",
       "<tr>\n",
       "  <th>Skew:</th>          <td> 0.055</td> <th>  Prob(JB):          </th> <td>  0.0969</td>\n",
       "</tr>\n",
       "<tr>\n",
       "  <th>Kurtosis:</th>      <td> 2.256</td> <th>  Cond. No.          </th> <td>1.58e+03</td>\n",
       "</tr>\n",
       "</table><br/><br/>Notes:<br/>[1] Standard Errors assume that the covariance matrix of the errors is correctly specified.<br/>[2] The condition number is large, 1.58e+03. This might indicate that there are<br/>strong multicollinearity or other numerical problems."
      ],
      "text/plain": [
       "<class 'statsmodels.iolib.summary.Summary'>\n",
       "\"\"\"\n",
       "                            OLS Regression Results                            \n",
       "==============================================================================\n",
       "Dep. Variable:      np.log(df['GPA'])   R-squared:                       0.089\n",
       "Model:                            OLS   Adj. R-squared:                  0.084\n",
       "Method:                 Least Squares   F-statistic:                     19.13\n",
       "Date:                Sat, 05 Nov 2022   Prob (F-statistic):           1.98e-05\n",
       "Time:                        12:08:36   Log-Likelihood:                 58.937\n",
       "No. Observations:                 198   AIC:                            -113.9\n",
       "Df Residuals:                     196   BIC:                            -107.3\n",
       "Df Model:                           1                                         \n",
       "Covariance Type:            nonrobust                                         \n",
       "====================================================================================\n",
       "                       coef    std err          t      P>|t|      [0.025      0.975]\n",
       "------------------------------------------------------------------------------------\n",
       "Intercept            0.8692      0.039     22.505      0.000       0.793       0.945\n",
       "df['SAT_Scores']     0.0003   7.38e-05      4.373      0.000       0.000       0.000\n",
       "==============================================================================\n",
       "Omnibus:                       10.630   Durbin-Watson:                   1.402\n",
       "Prob(Omnibus):                  0.005   Jarque-Bera (JB):                4.667\n",
       "Skew:                           0.055   Prob(JB):                       0.0969\n",
       "Kurtosis:                       2.256   Cond. No.                     1.58e+03\n",
       "==============================================================================\n",
       "\n",
       "Notes:\n",
       "[1] Standard Errors assume that the covariance matrix of the errors is correctly specified.\n",
       "[2] The condition number is large, 1.58e+03. This might indicate that there are\n",
       "strong multicollinearity or other numerical problems.\n",
       "\"\"\""
      ]
     },
     "execution_count": 36,
     "metadata": {},
     "output_type": "execute_result"
    }
   ],
   "source": [
    "model3 = smf.ols(\"np.log(df['GPA']) ~ df['SAT_Scores']\", data = df).fit()\n",
    "model3.summary()"
   ]
  },
  {
   "cell_type": "code",
   "execution_count": 37,
   "id": "8acc39e5",
   "metadata": {},
   "outputs": [],
   "source": [
    "pred3 = model3.predict(pd.DataFrame(df['SAT_Scores']))\n",
    "pred3_at = np.exp(pred3)"
   ]
  },
  {
   "cell_type": "markdown",
   "id": "7df92320",
   "metadata": {},
   "source": [
    "Visualization to see how well the model fit the data."
   ]
  },
  {
   "cell_type": "code",
   "execution_count": 38,
   "id": "4d0fe16c",
   "metadata": {},
   "outputs": [
    {
     "data": {
      "image/png": "[encoded data removed]",
      "text/plain": [
       "<Figure size 432x288 with 1 Axes>"
      ]
     },
     "metadata": {
      "needs_background": "light"
     },
     "output_type": "display_data"
    }
   ],
   "source": [
    "# Regression Line\n",
    "plt.scatter(df['SAT_Scores'], np.log(df['GPA']))\n",
    "plt.plot(df['SAT_Scores'], pred3, \"r\")\n",
    "plt.legend(['Predicted line', 'Observed data'])\n",
    "plt.show()"
   ]
  },
  {
   "cell_type": "markdown",
   "id": "3dc2f01f",
   "metadata": {},
   "source": [
    "Error calculation"
   ]
  },
  {
   "cell_type": "code",
   "execution_count": 39,
   "id": "846a5ce7",
   "metadata": {},
   "outputs": [
    {
     "data": {
      "text/plain": [
       "0.5143520706362247"
      ]
     },
     "execution_count": 39,
     "metadata": {},
     "output_type": "execute_result"
    }
   ],
   "source": [
    "res3 = df['GPA'] - pred3_at\n",
    "res_sqr3 = res3 * res3\n",
    "mse3 = np.mean(res_sqr3)\n",
    "rmse3 = np.sqrt(mse3)\n",
    "rmse3"
   ]
  },
  {
   "cell_type": "markdown",
   "id": "a38e9e66",
   "metadata": {},
   "source": [
    "* __Polynomial transformation__"
   ]
  },
  {
   "cell_type": "markdown",
   "id": "10e2baf5",
   "metadata": {},
   "source": [
    "Fitting the model on the regression line"
   ]
  },
  {
   "cell_type": "code",
   "execution_count": 40,
   "id": "2733b293",
   "metadata": {},
   "outputs": [
    {
     "data": {
      "text/html": [
       "<table class=\"simpletable\">\n",
       "<caption>OLS Regression Results</caption>\n",
       "<tr>\n",
       "  <th>Dep. Variable:</th>    <td>np.log(df['GPA'])</td> <th>  R-squared:         </th> <td>   0.098</td>\n",
       "</tr>\n",
       "<tr>\n",
       "  <th>Model:</th>                   <td>OLS</td>        <th>  Adj. R-squared:    </th> <td>   0.089</td>\n",
       "</tr>\n",
       "<tr>\n",
       "  <th>Method:</th>             <td>Least Squares</td>   <th>  F-statistic:       </th> <td>   10.62</td>\n",
       "</tr>\n",
       "<tr>\n",
       "  <th>Date:</th>             <td>Sat, 05 Nov 2022</td>  <th>  Prob (F-statistic):</th> <td>4.19e-05</td>\n",
       "</tr>\n",
       "<tr>\n",
       "  <th>Time:</th>                 <td>12:08:43</td>      <th>  Log-Likelihood:    </th> <td>  59.954</td>\n",
       "</tr>\n",
       "<tr>\n",
       "  <th>No. Observations:</th>      <td>   198</td>       <th>  AIC:               </th> <td>  -113.9</td>\n",
       "</tr>\n",
       "<tr>\n",
       "  <th>Df Residuals:</th>          <td>   195</td>       <th>  BIC:               </th> <td>  -104.0</td>\n",
       "</tr>\n",
       "<tr>\n",
       "  <th>Df Model:</th>              <td>     2</td>       <th>                     </th>     <td> </td>   \n",
       "</tr>\n",
       "<tr>\n",
       "  <th>Covariance Type:</th>      <td>nonrobust</td>     <th>                     </th>     <td> </td>   \n",
       "</tr>\n",
       "</table>\n",
       "<table class=\"simpletable\">\n",
       "<tr>\n",
       "                     <td></td>                       <th>coef</th>     <th>std err</th>      <th>t</th>      <th>P>|t|</th>  <th>[0.025</th>    <th>0.975]</th>  \n",
       "</tr>\n",
       "<tr>\n",
       "  <th>Intercept</th>                              <td>    1.0174</td> <td>    0.111</td> <td>    9.138</td> <td> 0.000</td> <td>    0.798</td> <td>    1.237</td>\n",
       "</tr>\n",
       "<tr>\n",
       "  <th>df['SAT_Scores']</th>                       <td>   -0.0004</td> <td>    0.000</td> <td>   -0.736</td> <td> 0.463</td> <td>   -0.001</td> <td>    0.001</td>\n",
       "</tr>\n",
       "<tr>\n",
       "  <th>I(df['SAT_Scores'] * df['SAT_Scores'])</th> <td> 6.816e-07</td> <td>  4.8e-07</td> <td>    1.419</td> <td> 0.158</td> <td>-2.66e-07</td> <td> 1.63e-06</td>\n",
       "</tr>\n",
       "</table>\n",
       "<table class=\"simpletable\">\n",
       "<tr>\n",
       "  <th>Omnibus:</th>       <td> 8.058</td> <th>  Durbin-Watson:     </th> <td>   1.385</td>\n",
       "</tr>\n",
       "<tr>\n",
       "  <th>Prob(Omnibus):</th> <td> 0.018</td> <th>  Jarque-Bera (JB):  </th> <td>   3.921</td>\n",
       "</tr>\n",
       "<tr>\n",
       "  <th>Skew:</th>          <td> 0.028</td> <th>  Prob(JB):          </th> <td>   0.141</td>\n",
       "</tr>\n",
       "<tr>\n",
       "  <th>Kurtosis:</th>      <td> 2.313</td> <th>  Cond. No.          </th> <td>2.83e+06</td>\n",
       "</tr>\n",
       "</table><br/><br/>Notes:<br/>[1] Standard Errors assume that the covariance matrix of the errors is correctly specified.<br/>[2] The condition number is large, 2.83e+06. This might indicate that there are<br/>strong multicollinearity or other numerical problems."
      ],
      "text/plain": [
       "<class 'statsmodels.iolib.summary.Summary'>\n",
       "\"\"\"\n",
       "                            OLS Regression Results                            \n",
       "==============================================================================\n",
       "Dep. Variable:      np.log(df['GPA'])   R-squared:                       0.098\n",
       "Model:                            OLS   Adj. R-squared:                  0.089\n",
       "Method:                 Least Squares   F-statistic:                     10.62\n",
       "Date:                Sat, 05 Nov 2022   Prob (F-statistic):           4.19e-05\n",
       "Time:                        12:08:43   Log-Likelihood:                 59.954\n",
       "No. Observations:                 198   AIC:                            -113.9\n",
       "Df Residuals:                     195   BIC:                            -104.0\n",
       "Df Model:                           2                                         \n",
       "Covariance Type:            nonrobust                                         \n",
       "==========================================================================================================\n",
       "                                             coef    std err          t      P>|t|      [0.025      0.975]\n",
       "----------------------------------------------------------------------------------------------------------\n",
       "Intercept                                  1.0174      0.111      9.138      0.000       0.798       1.237\n",
       "df['SAT_Scores']                          -0.0004      0.000     -0.736      0.463      -0.001       0.001\n",
       "I(df['SAT_Scores'] * df['SAT_Scores'])  6.816e-07    4.8e-07      1.419      0.158   -2.66e-07    1.63e-06\n",
       "==============================================================================\n",
       "Omnibus:                        8.058   Durbin-Watson:                   1.385\n",
       "Prob(Omnibus):                  0.018   Jarque-Bera (JB):                3.921\n",
       "Skew:                           0.028   Prob(JB):                        0.141\n",
       "Kurtosis:                       2.313   Cond. No.                     2.83e+06\n",
       "==============================================================================\n",
       "\n",
       "Notes:\n",
       "[1] Standard Errors assume that the covariance matrix of the errors is correctly specified.\n",
       "[2] The condition number is large, 2.83e+06. This might indicate that there are\n",
       "strong multicollinearity or other numerical problems.\n",
       "\"\"\""
      ]
     },
     "execution_count": 40,
     "metadata": {},
     "output_type": "execute_result"
    }
   ],
   "source": [
    "model4 = smf.ols(\"np.log(df['GPA']) ~ df['SAT_Scores'] + I(df['SAT_Scores']*df['SAT_Scores'])\", data = df).fit()\n",
    "model4.summary()"
   ]
  },
  {
   "cell_type": "code",
   "execution_count": 41,
   "id": "dd0e4918",
   "metadata": {},
   "outputs": [],
   "source": [
    "pred4 = model4.predict(pd.DataFrame(df))\n",
    "pred4_at = np.exp(pred4)"
   ]
  },
  {
   "cell_type": "markdown",
   "id": "0f1b245f",
   "metadata": {},
   "source": [
    "Visualization to see how well the model fit the data."
   ]
  },
  {
   "cell_type": "code",
   "execution_count": 42,
   "id": "2f4395ba",
   "metadata": {},
   "outputs": [
    {
     "data": {
      "image/png": "[encoded data removed]",
      "text/plain": [
       "<Figure size 432x288 with 1 Axes>"
      ]
     },
     "metadata": {
      "needs_background": "light"
     },
     "output_type": "display_data"
    }
   ],
   "source": [
    "# Regression line\n",
    "from sklearn.preprocessing import PolynomialFeatures\n",
    "poly_reg = PolynomialFeatures(degree = 2)\n",
    "X = df.iloc[:, 0:1].values\n",
    "X_poly = poly_reg.fit_transform(X)\n",
    "# y = wcat.iloc[:, 1].values\n",
    "\n",
    "\n",
    "plt.scatter(df['SAT_Scores'], np.log(df['GPA']))\n",
    "plt.plot(X, pred4, color = 'red')\n",
    "plt.legend(['Predicted line', 'Observed data'])\n",
    "plt.show()"
   ]
  },
  {
   "cell_type": "markdown",
   "id": "a4a3cca4",
   "metadata": {},
   "source": [
    "Error calculation"
   ]
  },
  {
   "cell_type": "code",
   "execution_count": 43,
   "id": "92dbbe82",
   "metadata": {},
   "outputs": [
    {
     "data": {
      "text/plain": [
       "0.5106520912740431"
      ]
     },
     "execution_count": 43,
     "metadata": {},
     "output_type": "execute_result"
    }
   ],
   "source": [
    "res4 = df['GPA']- pred4_at\n",
    "res_sqr4 = res4 * res4\n",
    "mse4 = np.mean(res_sqr4)\n",
    "rmse4 = np.sqrt(mse4)\n",
    "rmse4"
   ]
  },
  {
   "cell_type": "markdown",
   "id": "413a3944",
   "metadata": {},
   "source": [
    "__Log Transformation on both the variables__"
   ]
  },
  {
   "cell_type": "markdown",
   "id": "e69ac859",
   "metadata": {},
   "source": [
    "Plotting the scatter plot to understand the correlation between the transformed variables."
   ]
  },
  {
   "cell_type": "code",
   "execution_count": 44,
   "id": "d45ad49d",
   "metadata": {},
   "outputs": [
    {
     "data": {
      "text/plain": [
       "array([[1.        , 0.28319888],\n",
       "       [0.28319888, 1.        ]])"
      ]
     },
     "execution_count": 44,
     "metadata": {},
     "output_type": "execute_result"
    },
    {
     "data": {
      "image/png": "[encoded data removed]",
      "text/plain": [
       "<Figure size 432x288 with 1 Axes>"
      ]
     },
     "metadata": {
      "needs_background": "light"
     },
     "output_type": "display_data"
    }
   ],
   "source": [
    "plt.scatter(x = np.log(df['SAT_Scores']), y = np.log(df['GPA']), color = 'orange')\n",
    "np.corrcoef(np.log(df['SAT_Scores']), np.log(df['GPA'])) #correlation"
   ]
  },
  {
   "cell_type": "markdown",
   "id": "2c0eead4",
   "metadata": {},
   "source": [
    "Fitting the model"
   ]
  },
  {
   "cell_type": "code",
   "execution_count": 45,
   "id": "6ca337dd",
   "metadata": {},
   "outputs": [
    {
     "data": {
      "text/html": [
       "<table class=\"simpletable\">\n",
       "<caption>OLS Regression Results</caption>\n",
       "<tr>\n",
       "  <th>Dep. Variable:</th>    <td>np.log(df['GPA'])</td> <th>  R-squared:         </th> <td>   0.080</td>\n",
       "</tr>\n",
       "<tr>\n",
       "  <th>Model:</th>                   <td>OLS</td>        <th>  Adj. R-squared:    </th> <td>   0.076</td>\n",
       "</tr>\n",
       "<tr>\n",
       "  <th>Method:</th>             <td>Least Squares</td>   <th>  F-statistic:       </th> <td>   17.09</td>\n",
       "</tr>\n",
       "<tr>\n",
       "  <th>Date:</th>             <td>Sat, 05 Nov 2022</td>  <th>  Prob (F-statistic):</th> <td>5.28e-05</td>\n",
       "</tr>\n",
       "<tr>\n",
       "  <th>Time:</th>                 <td>12:08:57</td>      <th>  Log-Likelihood:    </th> <td>  57.996</td>\n",
       "</tr>\n",
       "<tr>\n",
       "  <th>No. Observations:</th>      <td>   198</td>       <th>  AIC:               </th> <td>  -112.0</td>\n",
       "</tr>\n",
       "<tr>\n",
       "  <th>Df Residuals:</th>          <td>   196</td>       <th>  BIC:               </th> <td>  -105.4</td>\n",
       "</tr>\n",
       "<tr>\n",
       "  <th>Df Model:</th>              <td>     1</td>       <th>                     </th>     <td> </td>   \n",
       "</tr>\n",
       "<tr>\n",
       "  <th>Covariance Type:</th>      <td>nonrobust</td>     <th>                     </th>     <td> </td>   \n",
       "</tr>\n",
       "</table>\n",
       "<table class=\"simpletable\">\n",
       "<tr>\n",
       "              <td></td>                <th>coef</th>     <th>std err</th>      <th>t</th>      <th>P>|t|</th>  <th>[0.025</th>    <th>0.975]</th>  \n",
       "</tr>\n",
       "<tr>\n",
       "  <th>Intercept</th>                <td>    0.1802</td> <td>    0.206</td> <td>    0.876</td> <td> 0.382</td> <td>   -0.225</td> <td>    0.586</td>\n",
       "</tr>\n",
       "<tr>\n",
       "  <th>np.log(df['SAT_Scores'])</th> <td>    0.1383</td> <td>    0.033</td> <td>    4.134</td> <td> 0.000</td> <td>    0.072</td> <td>    0.204</td>\n",
       "</tr>\n",
       "</table>\n",
       "<table class=\"simpletable\">\n",
       "<tr>\n",
       "  <th>Omnibus:</th>       <td>13.897</td> <th>  Durbin-Watson:     </th> <td>   1.410</td>\n",
       "</tr>\n",
       "<tr>\n",
       "  <th>Prob(Omnibus):</th> <td> 0.001</td> <th>  Jarque-Bera (JB):  </th> <td>   5.443</td>\n",
       "</tr>\n",
       "<tr>\n",
       "  <th>Skew:</th>          <td> 0.064</td> <th>  Prob(JB):          </th> <td>  0.0658</td>\n",
       "</tr>\n",
       "<tr>\n",
       "  <th>Kurtosis:</th>      <td> 2.198</td> <th>  Cond. No.          </th> <td>    101.</td>\n",
       "</tr>\n",
       "</table><br/><br/>Notes:<br/>[1] Standard Errors assume that the covariance matrix of the errors is correctly specified."
      ],
      "text/plain": [
       "<class 'statsmodels.iolib.summary.Summary'>\n",
       "\"\"\"\n",
       "                            OLS Regression Results                            \n",
       "==============================================================================\n",
       "Dep. Variable:      np.log(df['GPA'])   R-squared:                       0.080\n",
       "Model:                            OLS   Adj. R-squared:                  0.076\n",
       "Method:                 Least Squares   F-statistic:                     17.09\n",
       "Date:                Sat, 05 Nov 2022   Prob (F-statistic):           5.28e-05\n",
       "Time:                        12:08:57   Log-Likelihood:                 57.996\n",
       "No. Observations:                 198   AIC:                            -112.0\n",
       "Df Residuals:                     196   BIC:                            -105.4\n",
       "Df Model:                           1                                         \n",
       "Covariance Type:            nonrobust                                         \n",
       "============================================================================================\n",
       "                               coef    std err          t      P>|t|      [0.025      0.975]\n",
       "--------------------------------------------------------------------------------------------\n",
       "Intercept                    0.1802      0.206      0.876      0.382      -0.225       0.586\n",
       "np.log(df['SAT_Scores'])     0.1383      0.033      4.134      0.000       0.072       0.204\n",
       "==============================================================================\n",
       "Omnibus:                       13.897   Durbin-Watson:                   1.410\n",
       "Prob(Omnibus):                  0.001   Jarque-Bera (JB):                5.443\n",
       "Skew:                           0.064   Prob(JB):                       0.0658\n",
       "Kurtosis:                       2.198   Cond. No.                         101.\n",
       "==============================================================================\n",
       "\n",
       "Notes:\n",
       "[1] Standard Errors assume that the covariance matrix of the errors is correctly specified.\n",
       "\"\"\""
      ]
     },
     "execution_count": 45,
     "metadata": {},
     "output_type": "execute_result"
    }
   ],
   "source": [
    "model5 = smf.ols(\"np.log(df['GPA']) ~ np.log(df['SAT_Scores'])\", data = df).fit()\n",
    "model5.summary()"
   ]
  },
  {
   "cell_type": "code",
   "execution_count": 46,
   "id": "bef74988",
   "metadata": {},
   "outputs": [],
   "source": [
    "pred5 = model5.predict(pd.DataFrame(df['SAT_Scores']))\n",
    "pred5_at = np.exp(pred5)"
   ]
  },
  {
   "cell_type": "markdown",
   "id": "ab007749",
   "metadata": {},
   "source": [
    "Visualization to see how well the model fit the data."
   ]
  },
  {
   "cell_type": "code",
   "execution_count": 47,
   "id": "cd3701a2",
   "metadata": {},
   "outputs": [
    {
     "data": {
      "image/png": "[encoded data removed]",
      "text/plain": [
       "<Figure size 432x288 with 1 Axes>"
      ]
     },
     "metadata": {
      "needs_background": "light"
     },
     "output_type": "display_data"
    }
   ],
   "source": [
    "# Regression Line\n",
    "plt.scatter(np.log(df['SAT_Scores']), np.log(df['GPA']))\n",
    "plt.plot(np.log(df['SAT_Scores']), pred5, \"r\")\n",
    "plt.legend(['Predicted line', 'Observed data'])\n",
    "plt.show()"
   ]
  },
  {
   "cell_type": "markdown",
   "id": "e6c7e1bb",
   "metadata": {},
   "source": [
    "Error Calculation"
   ]
  },
  {
   "cell_type": "code",
   "execution_count": 48,
   "id": "810601da",
   "metadata": {},
   "outputs": [
    {
     "data": {
      "text/plain": [
       "0.5173814711966994"
      ]
     },
     "execution_count": 48,
     "metadata": {},
     "output_type": "execute_result"
    }
   ],
   "source": [
    "res5 = df['GPA'] - pred5_at\n",
    "res_sqr5 = res5 * res5\n",
    "mse5 = np.mean(res_sqr5)\n",
    "rmse5 = np.sqrt(mse5)\n",
    "rmse5"
   ]
  },
  {
   "cell_type": "markdown",
   "id": "b5b42fb6",
   "metadata": {},
   "source": [
    "                   ** COMPARING THE IMPORTANT VALUES FOR ALL THE DIFFERENT MODELS TO SELECT THE BEST MODEL **"
   ]
  },
  {
   "cell_type": "markdown",
   "id": "d2be49bf",
   "metadata": {},
   "source": [
    "|               **OUTPUT**               |               **INPUT**              | **R VALUE** | **R^2 VALUE** | **RMSE VALUE** |\n",
    "|:--------------------------------------:|:------------------------------------:|:------------|:-------------:|:--------------:|\n",
    "|GPA                           |SAT_Scores                        | 0.3        | 0.089         | 0.5128         |\n",
    "|GPA                           |log(SAT_Scores)                   | 0.28       | 0.079        | 0.5157         |\n",
    "|log(GPA)                      |SAT_Scores                       | 0.298      | 0.089        | 0.514       |\n",
    "|log(GPA)                      |SAT_Scores,SAT_Scores^2         |             | 0.098         | 0.510    |\n",
    "|log(GPA)                      |log(SAT_Scores)                   |  0.283         | 0.08       | 0.517      |"
   ]
  },
  {
   "cell_type": "markdown",
   "id": "c98aad06",
   "metadata": {},
   "source": [
    "#### CONCLUSION\n",
    "From all the different models although the polynomial model had better values the p value were very high so considering that the simple model is the best.<br>\n",
    "__So from the above information the simple linear regression model is the best model.__"
   ]
  },
  {
   "cell_type": "code",
   "execution_count": null,
   "id": "bf964bf0",
   "metadata": {},
   "outputs": [],
   "source": []
  }
 ],
 "metadata": {
  "kernelspec": {
   "display_name": "Python 3 (ipykernel)",
   "language": "python",
   "name": "python3"
  },
  "language_info": {
   "codemirror_mode": {
    "name": "ipython",
    "version": 3
   },
   "file_extension": ".py",
   "mimetype": "text/x-python",
   "name": "python",
   "nbconvert_exporter": "python",
   "pygments_lexer": "ipython3",
   "version": "3.9.12"
  }
 },
 "nbformat": 4,
 "nbformat_minor": 5
}
