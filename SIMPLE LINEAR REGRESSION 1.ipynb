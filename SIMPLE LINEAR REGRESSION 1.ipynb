{
 "cells": [
  {
   "cell_type": "markdown",
   "id": "3b87ef03",
   "metadata": {},
   "source": [
    "# CALORIES CONSUMED DATASET\n",
    "Using the above dataset to build a Model using Simple Linear Regression the predict the calories consumed. "
   ]
  },
  {
   "cell_type": "markdown",
   "id": "862d5061",
   "metadata": {},
   "source": [
    "## BUSINESS OBJECTIVE\n",
    "* Maximize Accurate prediction\n",
    "* Minimize unhealthy food\n",
    "* Maximize Exercise activities. "
   ]
  },
  {
   "cell_type": "markdown",
   "id": "13ec6d84",
   "metadata": {},
   "source": [
    "## CONSTRAINTS\n",
    "* Work commitments.\n",
    "* personal commitments. \n",
    "* Injuries. "
   ]
  },
  {
   "cell_type": "markdown",
   "id": "070c9b64",
   "metadata": {},
   "source": [
    "## DATA DICTIONARY"
   ]
  },
  {
   "cell_type": "markdown",
   "id": "1a47d442",
   "metadata": {},
   "source": [
    "| **slno** |      **Name of Feature**     | **Description**                                                          | **Type** | **Relevance** |\n",
    "|:--------:|:----------------------------|:--------------------------------------------------------------------------|:--------:|:-------------:|\n",
    "| 1        | Weight gained (grams)     | Weight gained by the individual in grams.                                               | Ratio    | Relevant      |\n",
    "| 2        | Calories Consumed | Calories consumed by the individual  | Ratio    | Relevant      |"
   ]
  },
  {
   "cell_type": "markdown",
   "id": "46e5d637",
   "metadata": {},
   "source": [
    "Importing the required libraries."
   ]
  },
  {
   "cell_type": "code",
   "execution_count": 1,
   "id": "17e87c30",
   "metadata": {},
   "outputs": [],
   "source": [
    "import pandas as pd\n",
    "import numpy as np\n",
    "import matplotlib.pyplot as plt\n",
    "import seaborn as sns\n",
    "from scipy import stats\n",
    "from termcolor import colored\n",
    "from sklearn.model_selection import train_test_split"
   ]
  },
  {
   "cell_type": "markdown",
   "id": "e26adb47",
   "metadata": {},
   "source": [
    "Loading the dataset using the pandas library and confirming the dataset has been loaded properly using the 'head' function"
   ]
  },
  {
   "cell_type": "code",
   "execution_count": 2,
   "id": "3fd16244",
   "metadata": {},
   "outputs": [
    {
     "data": {
      "text/html": [
       "<div>\n",
       "<style scoped>\n",
       "    .dataframe tbody tr th:only-of-type {\n",
       "        vertical-align: middle;\n",
       "    }\n",
       "\n",
       "    .dataframe tbody tr th {\n",
       "        vertical-align: top;\n",
       "    }\n",
       "\n",
       "    .dataframe thead th {\n",
       "        text-align: right;\n",
       "    }\n",
       "</style>\n",
       "<table border=\"1\" class=\"dataframe\">\n",
       "  <thead>\n",
       "    <tr style=\"text-align: right;\">\n",
       "      <th></th>\n",
       "      <th>Weight gained (grams)</th>\n",
       "      <th>Calories Consumed</th>\n",
       "    </tr>\n",
       "  </thead>\n",
       "  <tbody>\n",
       "    <tr>\n",
       "      <th>0</th>\n",
       "      <td>108</td>\n",
       "      <td>1500</td>\n",
       "    </tr>\n",
       "    <tr>\n",
       "      <th>1</th>\n",
       "      <td>200</td>\n",
       "      <td>2300</td>\n",
       "    </tr>\n",
       "    <tr>\n",
       "      <th>2</th>\n",
       "      <td>900</td>\n",
       "      <td>3400</td>\n",
       "    </tr>\n",
       "    <tr>\n",
       "      <th>3</th>\n",
       "      <td>200</td>\n",
       "      <td>2200</td>\n",
       "    </tr>\n",
       "    <tr>\n",
       "      <th>4</th>\n",
       "      <td>300</td>\n",
       "      <td>2500</td>\n",
       "    </tr>\n",
       "  </tbody>\n",
       "</table>\n",
       "</div>"
      ],
      "text/plain": [
       "   Weight gained (grams)  Calories Consumed\n",
       "0                    108               1500\n",
       "1                    200               2300\n",
       "2                    900               3400\n",
       "3                    200               2200\n",
       "4                    300               2500"
      ]
     },
     "execution_count": 2,
     "metadata": {},
     "output_type": "execute_result"
    }
   ],
   "source": [
    "df0 = pd.read_csv(r\"D:\\360Digitmg\\ASSIGNMENTS\\Ass21\\calories_consumed.csv\")\n",
    "df=df0.copy()\n",
    "df.head()"
   ]
  },
  {
   "cell_type": "markdown",
   "id": "6b969727",
   "metadata": {},
   "source": [
    "### EXPLORATORY DATA ANALYSIS & FEATURE ENGINEERING"
   ]
  },
  {
   "cell_type": "markdown",
   "id": "89606ccd",
   "metadata": {},
   "source": [
    "The below three lines give a general idea about the dataset like the shape, type and non null values."
   ]
  },
  {
   "cell_type": "code",
   "execution_count": 3,
   "id": "46c129c5",
   "metadata": {},
   "outputs": [
    {
     "data": {
      "text/plain": [
       "(14, 2)"
      ]
     },
     "execution_count": 3,
     "metadata": {},
     "output_type": "execute_result"
    }
   ],
   "source": [
    "df.shape"
   ]
  },
  {
   "cell_type": "code",
   "execution_count": 4,
   "id": "16c1f67c",
   "metadata": {},
   "outputs": [
    {
     "data": {
      "text/plain": [
       "Weight gained (grams)    int64\n",
       "Calories Consumed        int64\n",
       "dtype: object"
      ]
     },
     "execution_count": 4,
     "metadata": {},
     "output_type": "execute_result"
    }
   ],
   "source": [
    "df.dtypes"
   ]
  },
  {
   "cell_type": "code",
   "execution_count": 5,
   "id": "414ae339",
   "metadata": {},
   "outputs": [
    {
     "name": "stdout",
     "output_type": "stream",
     "text": [
      "<class 'pandas.core.frame.DataFrame'>\n",
      "RangeIndex: 14 entries, 0 to 13\n",
      "Data columns (total 2 columns):\n",
      " #   Column                 Non-Null Count  Dtype\n",
      "---  ------                 --------------  -----\n",
      " 0   Weight gained (grams)  14 non-null     int64\n",
      " 1   Calories Consumed      14 non-null     int64\n",
      "dtypes: int64(2)\n",
      "memory usage: 352.0 bytes\n"
     ]
    }
   ],
   "source": [
    "df.info()"
   ]
  },
  {
   "cell_type": "markdown",
   "id": "78ee999b",
   "metadata": {},
   "source": [
    "The describe function gives the count, min, max, mean, standard deviation and quantile values of the dataset."
   ]
  },
  {
   "cell_type": "code",
   "execution_count": 6,
   "id": "12c467cc",
   "metadata": {},
   "outputs": [
    {
     "data": {
      "text/html": [
       "<div>\n",
       "<style scoped>\n",
       "    .dataframe tbody tr th:only-of-type {\n",
       "        vertical-align: middle;\n",
       "    }\n",
       "\n",
       "    .dataframe tbody tr th {\n",
       "        vertical-align: top;\n",
       "    }\n",
       "\n",
       "    .dataframe thead th {\n",
       "        text-align: right;\n",
       "    }\n",
       "</style>\n",
       "<table border=\"1\" class=\"dataframe\">\n",
       "  <thead>\n",
       "    <tr style=\"text-align: right;\">\n",
       "      <th></th>\n",
       "      <th>Weight gained (grams)</th>\n",
       "      <th>Calories Consumed</th>\n",
       "    </tr>\n",
       "  </thead>\n",
       "  <tbody>\n",
       "    <tr>\n",
       "      <th>count</th>\n",
       "      <td>14.000000</td>\n",
       "      <td>14.000000</td>\n",
       "    </tr>\n",
       "    <tr>\n",
       "      <th>mean</th>\n",
       "      <td>357.714286</td>\n",
       "      <td>2340.714286</td>\n",
       "    </tr>\n",
       "    <tr>\n",
       "      <th>std</th>\n",
       "      <td>333.692495</td>\n",
       "      <td>752.109488</td>\n",
       "    </tr>\n",
       "    <tr>\n",
       "      <th>min</th>\n",
       "      <td>62.000000</td>\n",
       "      <td>1400.000000</td>\n",
       "    </tr>\n",
       "    <tr>\n",
       "      <th>25%</th>\n",
       "      <td>114.500000</td>\n",
       "      <td>1727.500000</td>\n",
       "    </tr>\n",
       "    <tr>\n",
       "      <th>50%</th>\n",
       "      <td>200.000000</td>\n",
       "      <td>2250.000000</td>\n",
       "    </tr>\n",
       "    <tr>\n",
       "      <th>75%</th>\n",
       "      <td>537.500000</td>\n",
       "      <td>2775.000000</td>\n",
       "    </tr>\n",
       "    <tr>\n",
       "      <th>max</th>\n",
       "      <td>1100.000000</td>\n",
       "      <td>3900.000000</td>\n",
       "    </tr>\n",
       "  </tbody>\n",
       "</table>\n",
       "</div>"
      ],
      "text/plain": [
       "       Weight gained (grams)  Calories Consumed\n",
       "count              14.000000          14.000000\n",
       "mean              357.714286        2340.714286\n",
       "std               333.692495         752.109488\n",
       "min                62.000000        1400.000000\n",
       "25%               114.500000        1727.500000\n",
       "50%               200.000000        2250.000000\n",
       "75%               537.500000        2775.000000\n",
       "max              1100.000000        3900.000000"
      ]
     },
     "execution_count": 6,
     "metadata": {},
     "output_type": "execute_result"
    }
   ],
   "source": [
    "df.describe()"
   ]
  },
  {
   "cell_type": "markdown",
   "id": "f7717389",
   "metadata": {},
   "source": [
    "Checking the Number of Duplicates in the Dataset."
   ]
  },
  {
   "cell_type": "code",
   "execution_count": 7,
   "id": "7e5d1006",
   "metadata": {},
   "outputs": [
    {
     "name": "stdout",
     "output_type": "stream",
     "text": [
      "\u001b[1m\u001b[34m Number of Duplicate values: \u001b[0m 0\n"
     ]
    }
   ],
   "source": [
    "duplicate_values=df.duplicated(subset=None,keep='first').sum()\n",
    "print(colored(' Number of Duplicate values: ','blue',attrs=['bold']),duplicate_values)"
   ]
  },
  {
   "cell_type": "markdown",
   "id": "596b1b85",
   "metadata": {},
   "source": [
    "Checking the Number and Percentage of Missing Values in the Dataset."
   ]
  },
  {
   "cell_type": "code",
   "execution_count": 8,
   "id": "72d872c0",
   "metadata": {},
   "outputs": [
    {
     "name": "stdout",
     "output_type": "stream",
     "text": [
      "\u001b[1m\u001b[34mNumber of Missing Values\n",
      "\n",
      "\u001b[0m Weight gained (grams)    0\n",
      "Calories Consumed        0\n",
      "dtype: int64\n"
     ]
    }
   ],
   "source": [
    "missing=df.isna().sum().sort_values(ascending=False)\n",
    "print(colored(\"Number of Missing Values\\n\\n\",'blue',attrs=['bold']),missing)"
   ]
  },
  {
   "cell_type": "code",
   "execution_count": 9,
   "id": "422f0bc7",
   "metadata": {},
   "outputs": [
    {
     "name": "stdout",
     "output_type": "stream",
     "text": [
      "\u001b[1m\u001b[34mNumber of Unique Values:\n",
      "\n",
      "\u001b[0m Weight gained (grams)    13\n",
      "Calories Consumed        13\n",
      "dtype: int64\n"
     ]
    }
   ],
   "source": [
    "print(colored('Number of Unique Values:\\n\\n','blue',attrs=['bold']),df.nunique())"
   ]
  },
  {
   "cell_type": "markdown",
   "id": "f658e768",
   "metadata": {},
   "source": [
    "### First Moment Business Decision or Measures of Central Tendency.\n",
    "* It gives the mean, median and mode values of the dataset.\n",
    "* Mean is the average of the data and it easily gets influenced by the outliers.\n",
    "* Median is the middle most value of the dataset.\n",
    "* Mode is the most repeated value of the dataset.\n",
    "* If the mean, median & mode are same then the data has normal distribution otherwise the distribution is not normal."
   ]
  },
  {
   "cell_type": "code",
   "execution_count": 10,
   "id": "c8ffae12",
   "metadata": {},
   "outputs": [
    {
     "data": {
      "text/plain": [
       "Weight gained (grams)     357.714286\n",
       "Calories Consumed        2340.714286\n",
       "dtype: float64"
      ]
     },
     "execution_count": 10,
     "metadata": {},
     "output_type": "execute_result"
    }
   ],
   "source": [
    "df.mean()"
   ]
  },
  {
   "cell_type": "code",
   "execution_count": 11,
   "id": "457e7aa8",
   "metadata": {},
   "outputs": [
    {
     "data": {
      "text/plain": [
       "Weight gained (grams)     200.0\n",
       "Calories Consumed        2250.0\n",
       "dtype: float64"
      ]
     },
     "execution_count": 11,
     "metadata": {},
     "output_type": "execute_result"
    }
   ],
   "source": [
    "df.median()"
   ]
  },
  {
   "cell_type": "code",
   "execution_count": 12,
   "id": "b828d378",
   "metadata": {},
   "outputs": [
    {
     "name": "stderr",
     "output_type": "stream",
     "text": [
      "C:\\Users\\lenny\\AppData\\Local\\Temp\\ipykernel_24364\\4235401754.py:1: FutureWarning: Unlike other reduction functions (e.g. `skew`, `kurtosis`), the default behavior of `mode` typically preserves the axis it acts along. In SciPy 1.11.0, this behavior will change: the default value of `keepdims` will become False, the `axis` over which the statistic is taken will be eliminated, and the value None will no longer be accepted. Set `keepdims` to True or False to avoid this warning.\n",
      "  stats.mode(df)\n"
     ]
    },
    {
     "data": {
      "text/plain": [
       "ModeResult(mode=array([[ 200, 1900]], dtype=int64), count=array([[2, 2]]))"
      ]
     },
     "execution_count": 12,
     "metadata": {},
     "output_type": "execute_result"
    }
   ],
   "source": [
    "stats.mode(df)"
   ]
  },
  {
   "cell_type": "markdown",
   "id": "ff80d2c1",
   "metadata": {},
   "source": [
    "### Second Moment Business Decision or Measures of Dispersion\n",
    "* It contains Variance, Standard Deviation & Range.\n",
    "* It gives a general idea about the spread of data in the dataset.\n",
    "* Variance is the average squared distance of each data point from the mean.\n",
    "* Standard deviation is the root of the variance.\n",
    "* Range is the difference between the max and min data point of the dataset."
   ]
  },
  {
   "cell_type": "code",
   "execution_count": 13,
   "id": "437c14a9",
   "metadata": {},
   "outputs": [
    {
     "data": {
      "text/plain": [
       "Weight gained (grams)    111350.681319\n",
       "Calories Consumed        565668.681319\n",
       "dtype: float64"
      ]
     },
     "execution_count": 13,
     "metadata": {},
     "output_type": "execute_result"
    }
   ],
   "source": [
    "df.var()"
   ]
  },
  {
   "cell_type": "code",
   "execution_count": 14,
   "id": "f2adb8c6",
   "metadata": {},
   "outputs": [
    {
     "data": {
      "text/plain": [
       "Weight gained (grams)    333.692495\n",
       "Calories Consumed        752.109488\n",
       "dtype: float64"
      ]
     },
     "execution_count": 14,
     "metadata": {},
     "output_type": "execute_result"
    }
   ],
   "source": [
    "df.std()"
   ]
  },
  {
   "cell_type": "markdown",
   "id": "28a243e8",
   "metadata": {},
   "source": [
    "### THIRD MOMENT BUSINESS DECISION OR SKEWNESS\n",
    "* Skewness gives the measure of asymmetry in a data.\n",
    "* The types of skewness are as follows:\n",
    "    * Negative skewness or left skewed.\n",
    "    * Positive skewness or right skewed.\n",
    "    * If skewness = 0 then it is normally distributed."
   ]
  },
  {
   "cell_type": "code",
   "execution_count": 15,
   "id": "4a418d49",
   "metadata": {},
   "outputs": [
    {
     "data": {
      "text/plain": [
       "Weight gained (grams)    1.255737\n",
       "Calories Consumed        0.654930\n",
       "dtype: float64"
      ]
     },
     "execution_count": 15,
     "metadata": {},
     "output_type": "execute_result"
    }
   ],
   "source": [
    "df.skew()"
   ]
  },
  {
   "cell_type": "markdown",
   "id": "66e9277b",
   "metadata": {},
   "source": [
    "### FOURTH MOMENT BUSINESS DECISION OR KURTOSIS\n",
    "* Kurtosis is the peakedness of the distribution.\n",
    "* Negative kurtosis implies a wider peak and thinner tails.\n",
    "* Positive kurtosis implies a narrow peak and wider tails."
   ]
  },
  {
   "cell_type": "code",
   "execution_count": 16,
   "id": "488baf39",
   "metadata": {
    "scrolled": true
   },
   "outputs": [
    {
     "data": {
      "text/plain": [
       "Weight gained (grams)    0.431272\n",
       "Calories Consumed       -0.290481\n",
       "dtype: float64"
      ]
     },
     "execution_count": 16,
     "metadata": {},
     "output_type": "execute_result"
    }
   ],
   "source": [
    "df.kurt()"
   ]
  },
  {
   "cell_type": "markdown",
   "id": "55e7aebe",
   "metadata": {},
   "source": [
    "### GRAPHICAL REPRESENTATION"
   ]
  },
  {
   "cell_type": "markdown",
   "id": "7f7befb7",
   "metadata": {},
   "source": [
    "Plotting histograms of each variable."
   ]
  },
  {
   "cell_type": "code",
   "execution_count": 17,
   "id": "e440e9fa",
   "metadata": {},
   "outputs": [
    {
     "name": "stderr",
     "output_type": "stream",
     "text": [
      "C:\\Users\\lenny\\AppData\\Local\\Temp\\ipykernel_24364\\522995607.py:3: UserWarning: To output multiple subplots, the figure containing the passed axes is being cleared.\n",
      "  df.hist(ax=ax)\n"
     ]
    },
    {
     "data": {
      "text/plain": [
       "<function matplotlib.pyplot.show(close=None, block=None)>"
      ]
     },
     "execution_count": 17,
     "metadata": {},
     "output_type": "execute_result"
    },
    {
     "data": {
      "image/png": "[encoded data removed]",
      "text/plain": [
       "<Figure size 1080x576 with 2 Axes>"
      ]
     },
     "metadata": {
      "needs_background": "light"
     },
     "output_type": "display_data"
    }
   ],
   "source": [
    "fig=plt.figure(figsize=(15,8))\n",
    "ax=fig.gca()\n",
    "df.hist(ax=ax)\n",
    "plt.show"
   ]
  },
  {
   "cell_type": "code",
   "execution_count": 18,
   "id": "1e37118b",
   "metadata": {},
   "outputs": [
    {
     "name": "stderr",
     "output_type": "stream",
     "text": [
      "C:\\Users\\lenny\\anaconda3\\lib\\site-packages\\seaborn\\_decorators.py:36: FutureWarning: Pass the following variables as keyword args: x, y. From version 0.12, the only valid positional argument will be `data`, and passing other arguments without an explicit keyword will result in an error or misinterpretation.\n",
      "  warnings.warn(\n"
     ]
    },
    {
     "data": {
      "image/png": "[encoded data removed]",
      "text/plain": [
       "<Figure size 1080x576 with 1 Axes>"
      ]
     },
     "metadata": {
      "needs_background": "light"
     },
     "output_type": "display_data"
    }
   ],
   "source": [
    "plt.figure(figsize=(15,8))\n",
    "sns.scatterplot(df['Weight gained (grams)'],df['Calories Consumed'])\n",
    "plt.title(\"Bivariate Analysis using Scatterplot\")\n",
    "plt.show()"
   ]
  },
  {
   "cell_type": "markdown",
   "id": "728e8a4d",
   "metadata": {},
   "source": [
    "Plotting boxplots of each variable."
   ]
  },
  {
   "cell_type": "code",
   "execution_count": 19,
   "id": "06dd1769",
   "metadata": {},
   "outputs": [
    {
     "data": {
      "text/plain": [
       "Index(['Weight gained (grams)', 'Calories Consumed'], dtype='object')"
      ]
     },
     "execution_count": 19,
     "metadata": {},
     "output_type": "execute_result"
    }
   ],
   "source": [
    "df.columns"
   ]
  },
  {
   "cell_type": "code",
   "execution_count": 20,
   "id": "21a9db01",
   "metadata": {},
   "outputs": [
    {
     "name": "stderr",
     "output_type": "stream",
     "text": [
      "C:\\Users\\lenny\\anaconda3\\lib\\site-packages\\seaborn\\_decorators.py:36: FutureWarning: Pass the following variable as a keyword arg: x. From version 0.12, the only valid positional argument will be `data`, and passing other arguments without an explicit keyword will result in an error or misinterpretation.\n",
      "  warnings.warn(\n"
     ]
    },
    {
     "data": {
      "text/plain": [
       "<AxesSubplot:xlabel='Weight gained (grams)'>"
      ]
     },
     "execution_count": 20,
     "metadata": {},
     "output_type": "execute_result"
    },
    {
     "data": {
      "image/png": "[encoded data removed]",
      "text/plain": [
       "<Figure size 432x288 with 1 Axes>"
      ]
     },
     "metadata": {
      "needs_background": "light"
     },
     "output_type": "display_data"
    }
   ],
   "source": [
    "sns.boxplot(df[\"Weight gained (grams)\"])"
   ]
  },
  {
   "cell_type": "code",
   "execution_count": 21,
   "id": "0471ff5f",
   "metadata": {
    "scrolled": true
   },
   "outputs": [
    {
     "name": "stderr",
     "output_type": "stream",
     "text": [
      "C:\\Users\\lenny\\anaconda3\\lib\\site-packages\\seaborn\\_decorators.py:36: FutureWarning: Pass the following variable as a keyword arg: x. From version 0.12, the only valid positional argument will be `data`, and passing other arguments without an explicit keyword will result in an error or misinterpretation.\n",
      "  warnings.warn(\n"
     ]
    },
    {
     "data": {
      "text/plain": [
       "<AxesSubplot:xlabel='Calories Consumed'>"
      ]
     },
     "execution_count": 21,
     "metadata": {},
     "output_type": "execute_result"
    },
    {
     "data": {
      "image/png": "[encoded data removed]",
      "text/plain": [
       "<Figure size 432x288 with 1 Axes>"
      ]
     },
     "metadata": {
      "needs_background": "light"
     },
     "output_type": "display_data"
    }
   ],
   "source": [
    "sns.boxplot(df['Calories Consumed'])"
   ]
  },
  {
   "cell_type": "markdown",
   "id": "ed11551a",
   "metadata": {},
   "source": [
    "from the boxplots it is evident that there are no outliers in both the variables. "
   ]
  },
  {
   "cell_type": "markdown",
   "id": "1258845a",
   "metadata": {},
   "source": [
    "__CORRELATION CHART__"
   ]
  },
  {
   "cell_type": "code",
   "execution_count": 22,
   "id": "c7e00a65",
   "metadata": {},
   "outputs": [
    {
     "data": {
      "text/plain": [
       "<AxesSubplot:>"
      ]
     },
     "execution_count": 22,
     "metadata": {},
     "output_type": "execute_result"
    },
    {
     "data": {
      "image/png": "[encoded data removed]",
      "text/plain": [
       "<Figure size 720x576 with 2 Axes>"
      ]
     },
     "metadata": {
      "needs_background": "light"
     },
     "output_type": "display_data"
    }
   ],
   "source": [
    "plt.figure(figsize=(10,8))\n",
    "sns.heatmap(df.corr(),annot=True)"
   ]
  },
  {
   "cell_type": "markdown",
   "id": "ac3f771f",
   "metadata": {},
   "source": [
    "from the correlation chart it is clear that the weight gained has a very strong positive correlation with calories consumed as it is greater than 0.85."
   ]
  },
  {
   "cell_type": "code",
   "execution_count": 23,
   "id": "4ba499e5",
   "metadata": {},
   "outputs": [
    {
     "data": {
      "text/plain": [
       "237669.4505494506"
      ]
     },
     "execution_count": 23,
     "metadata": {},
     "output_type": "execute_result"
    }
   ],
   "source": [
    "cov_output = np.cov(df[\"Weight gained (grams)\"], df['Calories Consumed'])[0, 1]\n",
    "cov_output"
   ]
  },
  {
   "cell_type": "markdown",
   "id": "b904ea3d",
   "metadata": {},
   "source": [
    "A positive covariance indicates that the two variables tend to move together and with the same sign, a negative covariance indicates that the two variables tend to move in the opposite direction.<br>\n",
    "__From the covariance value we can infer that the variables move in the same direction.__"
   ]
  },
  {
   "cell_type": "markdown",
   "id": "2b7cb5a8",
   "metadata": {},
   "source": [
    "#### EVALUATING DIFFERENT  MODELS FOR  MODEL BUILDING"
   ]
  },
  {
   "cell_type": "markdown",
   "id": "d3f334e3",
   "metadata": {},
   "source": [
    "Importing the library required for evaluating the models. "
   ]
  },
  {
   "cell_type": "code",
   "execution_count": 24,
   "id": "dae39481",
   "metadata": {},
   "outputs": [],
   "source": [
    "import statsmodels.formula.api as smf"
   ]
  },
  {
   "cell_type": "markdown",
   "id": "5ba45a9f",
   "metadata": {},
   "source": [
    "__Simple Linear Regression__"
   ]
  },
  {
   "cell_type": "markdown",
   "id": "54f2a1c5",
   "metadata": {},
   "source": [
    "Fitting the model"
   ]
  },
  {
   "cell_type": "code",
   "execution_count": 25,
   "id": "9bd7ce52",
   "metadata": {},
   "outputs": [
    {
     "name": "stderr",
     "output_type": "stream",
     "text": [
      "C:\\Users\\lenny\\anaconda3\\lib\\site-packages\\scipy\\stats\\_stats_py.py:1769: UserWarning: kurtosistest only valid for n>=20 ... continuing anyway, n=14\n",
      "  warnings.warn(\"kurtosistest only valid for n>=20 ... continuing \"\n"
     ]
    },
    {
     "data": {
      "text/html": [
       "<table class=\"simpletable\">\n",
       "<caption>OLS Regression Results</caption>\n",
       "<tr>\n",
       "  <th>Dep. Variable:</th>    <td>df['Calories Consumed']</td> <th>  R-squared:         </th> <td>   0.897</td>\n",
       "</tr>\n",
       "<tr>\n",
       "  <th>Model:</th>                      <td>OLS</td>           <th>  Adj. R-squared:    </th> <td>   0.888</td>\n",
       "</tr>\n",
       "<tr>\n",
       "  <th>Method:</th>                <td>Least Squares</td>      <th>  F-statistic:       </th> <td>   104.3</td>\n",
       "</tr>\n",
       "<tr>\n",
       "  <th>Date:</th>                <td>Fri, 04 Nov 2022</td>     <th>  Prob (F-statistic):</th> <td>2.86e-07</td>\n",
       "</tr>\n",
       "<tr>\n",
       "  <th>Time:</th>                    <td>01:08:52</td>         <th>  Log-Likelihood:    </th> <td> -96.170</td>\n",
       "</tr>\n",
       "<tr>\n",
       "  <th>No. Observations:</th>         <td>    14</td>          <th>  AIC:               </th> <td>   196.3</td>\n",
       "</tr>\n",
       "<tr>\n",
       "  <th>Df Residuals:</th>             <td>    12</td>          <th>  BIC:               </th> <td>   197.6</td>\n",
       "</tr>\n",
       "<tr>\n",
       "  <th>Df Model:</th>                 <td>     1</td>          <th>                     </th>     <td> </td>   \n",
       "</tr>\n",
       "<tr>\n",
       "  <th>Covariance Type:</th>         <td>nonrobust</td>        <th>                     </th>     <td> </td>   \n",
       "</tr>\n",
       "</table>\n",
       "<table class=\"simpletable\">\n",
       "<tr>\n",
       "               <td></td>                  <th>coef</th>     <th>std err</th>      <th>t</th>      <th>P>|t|</th>  <th>[0.025</th>    <th>0.975]</th>  \n",
       "</tr>\n",
       "<tr>\n",
       "  <th>Intercept</th>                   <td> 1577.2007</td> <td>  100.541</td> <td>   15.687</td> <td> 0.000</td> <td> 1358.141</td> <td> 1796.260</td>\n",
       "</tr>\n",
       "<tr>\n",
       "  <th>df['Weight gained (grams)']</th> <td>    2.1344</td> <td>    0.209</td> <td>   10.211</td> <td> 0.000</td> <td>    1.679</td> <td>    2.590</td>\n",
       "</tr>\n",
       "</table>\n",
       "<table class=\"simpletable\">\n",
       "<tr>\n",
       "  <th>Omnibus:</th>       <td> 0.254</td> <th>  Durbin-Watson:     </th> <td>   2.308</td>\n",
       "</tr>\n",
       "<tr>\n",
       "  <th>Prob(Omnibus):</th> <td> 0.881</td> <th>  Jarque-Bera (JB):  </th> <td>   0.425</td>\n",
       "</tr>\n",
       "<tr>\n",
       "  <th>Skew:</th>          <td>-0.098</td> <th>  Prob(JB):          </th> <td>   0.808</td>\n",
       "</tr>\n",
       "<tr>\n",
       "  <th>Kurtosis:</th>      <td> 2.169</td> <th>  Cond. No.          </th> <td>    719.</td>\n",
       "</tr>\n",
       "</table><br/><br/>Notes:<br/>[1] Standard Errors assume that the covariance matrix of the errors is correctly specified."
      ],
      "text/plain": [
       "<class 'statsmodels.iolib.summary.Summary'>\n",
       "\"\"\"\n",
       "                               OLS Regression Results                              \n",
       "===================================================================================\n",
       "Dep. Variable:     df['Calories Consumed']   R-squared:                       0.897\n",
       "Model:                                 OLS   Adj. R-squared:                  0.888\n",
       "Method:                      Least Squares   F-statistic:                     104.3\n",
       "Date:                     Fri, 04 Nov 2022   Prob (F-statistic):           2.86e-07\n",
       "Time:                             01:08:52   Log-Likelihood:                -96.170\n",
       "No. Observations:                       14   AIC:                             196.3\n",
       "Df Residuals:                           12   BIC:                             197.6\n",
       "Df Model:                                1                                         \n",
       "Covariance Type:                 nonrobust                                         \n",
       "===============================================================================================\n",
       "                                  coef    std err          t      P>|t|      [0.025      0.975]\n",
       "-----------------------------------------------------------------------------------------------\n",
       "Intercept                    1577.2007    100.541     15.687      0.000    1358.141    1796.260\n",
       "df['Weight gained (grams)']     2.1344      0.209     10.211      0.000       1.679       2.590\n",
       "==============================================================================\n",
       "Omnibus:                        0.254   Durbin-Watson:                   2.308\n",
       "Prob(Omnibus):                  0.881   Jarque-Bera (JB):                0.425\n",
       "Skew:                          -0.098   Prob(JB):                        0.808\n",
       "Kurtosis:                       2.169   Cond. No.                         719.\n",
       "==============================================================================\n",
       "\n",
       "Notes:\n",
       "[1] Standard Errors assume that the covariance matrix of the errors is correctly specified.\n",
       "\"\"\""
      ]
     },
     "execution_count": 25,
     "metadata": {},
     "output_type": "execute_result"
    }
   ],
   "source": [
    "model1 = smf.ols(\"df['Calories Consumed'] ~ df['Weight gained (grams)']\", data = df).fit()\n",
    "model1.summary()"
   ]
  },
  {
   "cell_type": "markdown",
   "id": "64710828",
   "metadata": {},
   "source": [
    "Visualization to see how well the model fit the data."
   ]
  },
  {
   "cell_type": "code",
   "execution_count": 26,
   "id": "aad19556",
   "metadata": {},
   "outputs": [
    {
     "data": {
      "image/png": "[encoded data removed]",
      "text/plain": [
       "<Figure size 432x288 with 1 Axes>"
      ]
     },
     "metadata": {
      "needs_background": "light"
     },
     "output_type": "display_data"
    }
   ],
   "source": [
    "pred1 = model1.predict(pd.DataFrame(df['Weight gained (grams)']))\n",
    "\n",
    "# Regression Line\n",
    "plt.scatter(df['Weight gained (grams)'], df['Calories Consumed'])\n",
    "plt.plot(df['Weight gained (grams)'], pred1, \"r\")\n",
    "plt.legend(['Predicted line', 'Observed data'])\n",
    "plt.show()"
   ]
  },
  {
   "cell_type": "markdown",
   "id": "c590c1ee",
   "metadata": {},
   "source": [
    "Error Calculation"
   ]
  },
  {
   "cell_type": "code",
   "execution_count": 27,
   "id": "6850ff82",
   "metadata": {},
   "outputs": [
    {
     "data": {
      "text/plain": [
       "232.8335007096089"
      ]
     },
     "execution_count": 27,
     "metadata": {},
     "output_type": "execute_result"
    }
   ],
   "source": [
    "res1 = df['Calories Consumed'] - pred1\n",
    "res_sqr1 = res1 * res1\n",
    "mse1 = np.mean(res_sqr1)\n",
    "rmse1 = np.sqrt(mse1)\n",
    "rmse1"
   ]
  },
  {
   "cell_type": "markdown",
   "id": "172945b4",
   "metadata": {},
   "source": [
    "__Model building on Transformed Data__<br>\n",
    "* __Log Transformation__"
   ]
  },
  {
   "cell_type": "markdown",
   "id": "dceb34f1",
   "metadata": {},
   "source": [
    "Plotting the scatter plot to understand the correlation and regression line between the transformed variables. "
   ]
  },
  {
   "cell_type": "code",
   "execution_count": 28,
   "id": "15709ddd",
   "metadata": {},
   "outputs": [
    {
     "data": {
      "text/plain": [
       "array([[1.        , 0.93680369],\n",
       "       [0.93680369, 1.        ]])"
      ]
     },
     "execution_count": 28,
     "metadata": {},
     "output_type": "execute_result"
    },
    {
     "data": {
      "image/png": "[encoded data removed]",
      "text/plain": [
       "<Figure size 432x288 with 1 Axes>"
      ]
     },
     "metadata": {
      "needs_background": "light"
     },
     "output_type": "display_data"
    }
   ],
   "source": [
    "plt.scatter(x = np.log(df['Weight gained (grams)']), y = df['Calories Consumed'], color = 'brown')\n",
    "np.corrcoef(np.log(df['Weight gained (grams)']), df['Calories Consumed']) #correlation"
   ]
  },
  {
   "cell_type": "markdown",
   "id": "46e0fcab",
   "metadata": {},
   "source": [
    "Fitting the model on the regression line"
   ]
  },
  {
   "cell_type": "code",
   "execution_count": 29,
   "id": "a86fd90a",
   "metadata": {},
   "outputs": [
    {
     "name": "stderr",
     "output_type": "stream",
     "text": [
      "C:\\Users\\lenny\\anaconda3\\lib\\site-packages\\scipy\\stats\\_stats_py.py:1769: UserWarning: kurtosistest only valid for n>=20 ... continuing anyway, n=14\n",
      "  warnings.warn(\"kurtosistest only valid for n>=20 ... continuing \"\n"
     ]
    },
    {
     "data": {
      "text/html": [
       "<table class=\"simpletable\">\n",
       "<caption>OLS Regression Results</caption>\n",
       "<tr>\n",
       "  <th>Dep. Variable:</th>    <td>df['Calories Consumed']</td> <th>  R-squared:         </th> <td>   0.878</td>\n",
       "</tr>\n",
       "<tr>\n",
       "  <th>Model:</th>                      <td>OLS</td>           <th>  Adj. R-squared:    </th> <td>   0.867</td>\n",
       "</tr>\n",
       "<tr>\n",
       "  <th>Method:</th>                <td>Least Squares</td>      <th>  F-statistic:       </th> <td>   86.04</td>\n",
       "</tr>\n",
       "<tr>\n",
       "  <th>Date:</th>                <td>Fri, 04 Nov 2022</td>     <th>  Prob (F-statistic):</th> <td>8.02e-07</td>\n",
       "</tr>\n",
       "<tr>\n",
       "  <th>Time:</th>                    <td>01:08:56</td>         <th>  Log-Likelihood:    </th> <td> -97.363</td>\n",
       "</tr>\n",
       "<tr>\n",
       "  <th>No. Observations:</th>         <td>    14</td>          <th>  AIC:               </th> <td>   198.7</td>\n",
       "</tr>\n",
       "<tr>\n",
       "  <th>Df Residuals:</th>             <td>    12</td>          <th>  BIC:               </th> <td>   200.0</td>\n",
       "</tr>\n",
       "<tr>\n",
       "  <th>Df Model:</th>                 <td>     1</td>          <th>                     </th>     <td> </td>   \n",
       "</tr>\n",
       "<tr>\n",
       "  <th>Covariance Type:</th>         <td>nonrobust</td>        <th>                     </th>     <td> </td>   \n",
       "</tr>\n",
       "</table>\n",
       "<table class=\"simpletable\">\n",
       "<tr>\n",
       "                   <td></td>                      <th>coef</th>     <th>std err</th>      <th>t</th>      <th>P>|t|</th>  <th>[0.025</th>    <th>0.975]</th>  \n",
       "</tr>\n",
       "<tr>\n",
       "  <th>Intercept</th>                           <td>-1911.1244</td> <td>  464.188</td> <td>   -4.117</td> <td> 0.001</td> <td>-2922.503</td> <td> -899.746</td>\n",
       "</tr>\n",
       "<tr>\n",
       "  <th>np.log(df['Weight gained (grams)'])</th> <td>  774.1735</td> <td>   83.462</td> <td>    9.276</td> <td> 0.000</td> <td>  592.326</td> <td>  956.021</td>\n",
       "</tr>\n",
       "</table>\n",
       "<table class=\"simpletable\">\n",
       "<tr>\n",
       "  <th>Omnibus:</th>       <td> 4.026</td> <th>  Durbin-Watson:     </th> <td>   3.009</td>\n",
       "</tr>\n",
       "<tr>\n",
       "  <th>Prob(Omnibus):</th> <td> 0.134</td> <th>  Jarque-Bera (JB):  </th> <td>   1.659</td>\n",
       "</tr>\n",
       "<tr>\n",
       "  <th>Skew:</th>          <td> 0.772</td> <th>  Prob(JB):          </th> <td>   0.436</td>\n",
       "</tr>\n",
       "<tr>\n",
       "  <th>Kurtosis:</th>      <td> 3.679</td> <th>  Cond. No.          </th> <td>    36.4</td>\n",
       "</tr>\n",
       "</table><br/><br/>Notes:<br/>[1] Standard Errors assume that the covariance matrix of the errors is correctly specified."
      ],
      "text/plain": [
       "<class 'statsmodels.iolib.summary.Summary'>\n",
       "\"\"\"\n",
       "                               OLS Regression Results                              \n",
       "===================================================================================\n",
       "Dep. Variable:     df['Calories Consumed']   R-squared:                       0.878\n",
       "Model:                                 OLS   Adj. R-squared:                  0.867\n",
       "Method:                      Least Squares   F-statistic:                     86.04\n",
       "Date:                     Fri, 04 Nov 2022   Prob (F-statistic):           8.02e-07\n",
       "Time:                             01:08:56   Log-Likelihood:                -97.363\n",
       "No. Observations:                       14   AIC:                             198.7\n",
       "Df Residuals:                           12   BIC:                             200.0\n",
       "Df Model:                                1                                         \n",
       "Covariance Type:                 nonrobust                                         \n",
       "=======================================================================================================\n",
       "                                          coef    std err          t      P>|t|      [0.025      0.975]\n",
       "-------------------------------------------------------------------------------------------------------\n",
       "Intercept                           -1911.1244    464.188     -4.117      0.001   -2922.503    -899.746\n",
       "np.log(df['Weight gained (grams)'])   774.1735     83.462      9.276      0.000     592.326     956.021\n",
       "==============================================================================\n",
       "Omnibus:                        4.026   Durbin-Watson:                   3.009\n",
       "Prob(Omnibus):                  0.134   Jarque-Bera (JB):                1.659\n",
       "Skew:                           0.772   Prob(JB):                        0.436\n",
       "Kurtosis:                       3.679   Cond. No.                         36.4\n",
       "==============================================================================\n",
       "\n",
       "Notes:\n",
       "[1] Standard Errors assume that the covariance matrix of the errors is correctly specified.\n",
       "\"\"\""
      ]
     },
     "execution_count": 29,
     "metadata": {},
     "output_type": "execute_result"
    }
   ],
   "source": [
    "model2 = smf.ols(\"df['Calories Consumed'] ~ np.log(df['Weight gained (grams)'])\", data = df).fit()\n",
    "model2.summary()"
   ]
  },
  {
   "cell_type": "markdown",
   "id": "3fc98584",
   "metadata": {},
   "source": [
    "Visualization to see how well the model fit the data. "
   ]
  },
  {
   "cell_type": "code",
   "execution_count": 30,
   "id": "fcbf0ccf",
   "metadata": {},
   "outputs": [
    {
     "data": {
      "image/png": "[encoded data removed]",
      "text/plain": [
       "<Figure size 432x288 with 1 Axes>"
      ]
     },
     "metadata": {
      "needs_background": "light"
     },
     "output_type": "display_data"
    }
   ],
   "source": [
    "pred2 = model2.predict(pd.DataFrame(df['Weight gained (grams)']))\n",
    "\n",
    "# Regression Line\n",
    "plt.scatter(np.log(df['Weight gained (grams)']), df['Calories Consumed'])\n",
    "plt.plot(np.log(df['Weight gained (grams)']), pred2, \"r\")\n",
    "plt.legend(['Predicted line', 'Observed data'])\n",
    "plt.show()"
   ]
  },
  {
   "cell_type": "markdown",
   "id": "152e62e5",
   "metadata": {},
   "source": [
    "Error calculation"
   ]
  },
  {
   "cell_type": "code",
   "execution_count": 31,
   "id": "1dc6aaf6",
   "metadata": {},
   "outputs": [
    {
     "data": {
      "text/plain": [
       "253.55804039366257"
      ]
     },
     "execution_count": 31,
     "metadata": {},
     "output_type": "execute_result"
    }
   ],
   "source": [
    "res2 = df['Calories Consumed'] - pred2\n",
    "res_sqr2 = res2 * res2\n",
    "mse2 = np.mean(res_sqr2)\n",
    "rmse2 = np.sqrt(mse2)\n",
    "rmse2"
   ]
  },
  {
   "cell_type": "markdown",
   "id": "7a7deccd",
   "metadata": {},
   "source": [
    "* __Exponential transformation__"
   ]
  },
  {
   "cell_type": "markdown",
   "id": "a91fe39f",
   "metadata": {},
   "source": [
    "Plotting the scatter plot to understand the correlation between the transformed variables."
   ]
  },
  {
   "cell_type": "code",
   "execution_count": 32,
   "id": "1ff30cdc",
   "metadata": {},
   "outputs": [
    {
     "data": {
      "text/plain": [
       "array([[1.        , 0.89872528],\n",
       "       [0.89872528, 1.        ]])"
      ]
     },
     "execution_count": 32,
     "metadata": {},
     "output_type": "execute_result"
    },
    {
     "data": {
      "image/png": "[encoded data removed]",
      "text/plain": [
       "<Figure size 432x288 with 1 Axes>"
      ]
     },
     "metadata": {
      "needs_background": "light"
     },
     "output_type": "display_data"
    }
   ],
   "source": [
    "plt.scatter(x = df['Weight gained (grams)'], y = np.log(df['Calories Consumed']), color = 'orange')\n",
    "np.corrcoef(df['Weight gained (grams)'], np.log(df['Calories Consumed'])) #correlation"
   ]
  },
  {
   "cell_type": "markdown",
   "id": "7c4c2b90",
   "metadata": {},
   "source": [
    "Fitting the model on the regression line"
   ]
  },
  {
   "cell_type": "code",
   "execution_count": 33,
   "id": "b6909b70",
   "metadata": {},
   "outputs": [
    {
     "name": "stderr",
     "output_type": "stream",
     "text": [
      "C:\\Users\\lenny\\anaconda3\\lib\\site-packages\\scipy\\stats\\_stats_py.py:1769: UserWarning: kurtosistest only valid for n>=20 ... continuing anyway, n=14\n",
      "  warnings.warn(\"kurtosistest only valid for n>=20 ... continuing \"\n"
     ]
    },
    {
     "data": {
      "text/html": [
       "<table class=\"simpletable\">\n",
       "<caption>OLS Regression Results</caption>\n",
       "<tr>\n",
       "  <th>Dep. Variable:</th>    <td>np.log(df['Calories Consumed'])</td> <th>  R-squared:         </th> <td>   0.808</td>\n",
       "</tr>\n",
       "<tr>\n",
       "  <th>Model:</th>                          <td>OLS</td>               <th>  Adj. R-squared:    </th> <td>   0.792</td>\n",
       "</tr>\n",
       "<tr>\n",
       "  <th>Method:</th>                    <td>Least Squares</td>          <th>  F-statistic:       </th> <td>   50.40</td>\n",
       "</tr>\n",
       "<tr>\n",
       "  <th>Date:</th>                    <td>Fri, 04 Nov 2022</td>         <th>  Prob (F-statistic):</th> <td>1.25e-05</td>\n",
       "</tr>\n",
       "<tr>\n",
       "  <th>Time:</th>                        <td>01:09:01</td>             <th>  Log-Likelihood:    </th> <td>  8.3130</td>\n",
       "</tr>\n",
       "<tr>\n",
       "  <th>No. Observations:</th>             <td>    14</td>              <th>  AIC:               </th> <td>  -12.63</td>\n",
       "</tr>\n",
       "<tr>\n",
       "  <th>Df Residuals:</th>                 <td>    12</td>              <th>  BIC:               </th> <td>  -11.35</td>\n",
       "</tr>\n",
       "<tr>\n",
       "  <th>Df Model:</th>                     <td>     1</td>              <th>                     </th>     <td> </td>   \n",
       "</tr>\n",
       "<tr>\n",
       "  <th>Covariance Type:</th>             <td>nonrobust</td>            <th>                     </th>     <td> </td>   \n",
       "</tr>\n",
       "</table>\n",
       "<table class=\"simpletable\">\n",
       "<tr>\n",
       "               <td></td>                  <th>coef</th>     <th>std err</th>      <th>t</th>      <th>P>|t|</th>  <th>[0.025</th>    <th>0.975]</th>  \n",
       "</tr>\n",
       "<tr>\n",
       "  <th>Intercept</th>                   <td>    7.4068</td> <td>    0.058</td> <td>  128.367</td> <td> 0.000</td> <td>    7.281</td> <td>    7.533</td>\n",
       "</tr>\n",
       "<tr>\n",
       "  <th>df['Weight gained (grams)']</th> <td>    0.0009</td> <td>    0.000</td> <td>    7.100</td> <td> 0.000</td> <td>    0.001</td> <td>    0.001</td>\n",
       "</tr>\n",
       "</table>\n",
       "<table class=\"simpletable\">\n",
       "<tr>\n",
       "  <th>Omnibus:</th>       <td> 0.488</td> <th>  Durbin-Watson:     </th> <td>   2.068</td>\n",
       "</tr>\n",
       "<tr>\n",
       "  <th>Prob(Omnibus):</th> <td> 0.783</td> <th>  Jarque-Bera (JB):  </th> <td>   0.559</td>\n",
       "</tr>\n",
       "<tr>\n",
       "  <th>Skew:</th>          <td>-0.317</td> <th>  Prob(JB):          </th> <td>   0.756</td>\n",
       "</tr>\n",
       "<tr>\n",
       "  <th>Kurtosis:</th>      <td> 2.254</td> <th>  Cond. No.          </th> <td>    719.</td>\n",
       "</tr>\n",
       "</table><br/><br/>Notes:<br/>[1] Standard Errors assume that the covariance matrix of the errors is correctly specified."
      ],
      "text/plain": [
       "<class 'statsmodels.iolib.summary.Summary'>\n",
       "\"\"\"\n",
       "                                   OLS Regression Results                                  \n",
       "===========================================================================================\n",
       "Dep. Variable:     np.log(df['Calories Consumed'])   R-squared:                       0.808\n",
       "Model:                                         OLS   Adj. R-squared:                  0.792\n",
       "Method:                              Least Squares   F-statistic:                     50.40\n",
       "Date:                             Fri, 04 Nov 2022   Prob (F-statistic):           1.25e-05\n",
       "Time:                                     01:09:01   Log-Likelihood:                 8.3130\n",
       "No. Observations:                               14   AIC:                            -12.63\n",
       "Df Residuals:                                   12   BIC:                            -11.35\n",
       "Df Model:                                        1                                         \n",
       "Covariance Type:                         nonrobust                                         \n",
       "===============================================================================================\n",
       "                                  coef    std err          t      P>|t|      [0.025      0.975]\n",
       "-----------------------------------------------------------------------------------------------\n",
       "Intercept                       7.4068      0.058    128.367      0.000       7.281       7.533\n",
       "df['Weight gained (grams)']     0.0009      0.000      7.100      0.000       0.001       0.001\n",
       "==============================================================================\n",
       "Omnibus:                        0.488   Durbin-Watson:                   2.068\n",
       "Prob(Omnibus):                  0.783   Jarque-Bera (JB):                0.559\n",
       "Skew:                          -0.317   Prob(JB):                        0.756\n",
       "Kurtosis:                       2.254   Cond. No.                         719.\n",
       "==============================================================================\n",
       "\n",
       "Notes:\n",
       "[1] Standard Errors assume that the covariance matrix of the errors is correctly specified.\n",
       "\"\"\""
      ]
     },
     "execution_count": 33,
     "metadata": {},
     "output_type": "execute_result"
    }
   ],
   "source": [
    "model3 = smf.ols(\"np.log(df['Calories Consumed']) ~ df['Weight gained (grams)']\", data = df).fit()\n",
    "model3.summary()"
   ]
  },
  {
   "cell_type": "code",
   "execution_count": 34,
   "id": "8acc39e5",
   "metadata": {},
   "outputs": [],
   "source": [
    "pred3 = model3.predict(pd.DataFrame(df['Weight gained (grams)']))\n",
    "pred3_at = np.exp(pred3)"
   ]
  },
  {
   "cell_type": "markdown",
   "id": "7df92320",
   "metadata": {},
   "source": [
    "Visualization to see how well the model fit the data."
   ]
  },
  {
   "cell_type": "code",
   "execution_count": 35,
   "id": "4d0fe16c",
   "metadata": {},
   "outputs": [
    {
     "data": {
      "image/png": "[encoded data removed]",
      "text/plain": [
       "<Figure size 432x288 with 1 Axes>"
      ]
     },
     "metadata": {
      "needs_background": "light"
     },
     "output_type": "display_data"
    }
   ],
   "source": [
    "# Regression Line\n",
    "plt.scatter(df['Weight gained (grams)'], np.log(df['Calories Consumed']))\n",
    "plt.plot(df['Weight gained (grams)'], pred3, \"r\")\n",
    "plt.legend(['Predicted line', 'Observed data'])\n",
    "plt.show()"
   ]
  },
  {
   "cell_type": "markdown",
   "id": "3dc2f01f",
   "metadata": {},
   "source": [
    "Error calculation"
   ]
  },
  {
   "cell_type": "code",
   "execution_count": 36,
   "id": "846a5ce7",
   "metadata": {},
   "outputs": [
    {
     "data": {
      "text/plain": [
       "272.4207117048493"
      ]
     },
     "execution_count": 36,
     "metadata": {},
     "output_type": "execute_result"
    }
   ],
   "source": [
    "res3 = df['Calories Consumed'] - pred3_at\n",
    "res_sqr3 = res3 * res3\n",
    "mse3 = np.mean(res_sqr3)\n",
    "rmse3 = np.sqrt(mse3)\n",
    "rmse3"
   ]
  },
  {
   "cell_type": "markdown",
   "id": "a38e9e66",
   "metadata": {},
   "source": [
    "* __Polynomial transformation__"
   ]
  },
  {
   "cell_type": "markdown",
   "id": "10e2baf5",
   "metadata": {},
   "source": [
    "Fitting the model on the regression line"
   ]
  },
  {
   "cell_type": "code",
   "execution_count": 37,
   "id": "2733b293",
   "metadata": {},
   "outputs": [
    {
     "name": "stderr",
     "output_type": "stream",
     "text": [
      "C:\\Users\\lenny\\anaconda3\\lib\\site-packages\\scipy\\stats\\_stats_py.py:1769: UserWarning: kurtosistest only valid for n>=20 ... continuing anyway, n=14\n",
      "  warnings.warn(\"kurtosistest only valid for n>=20 ... continuing \"\n"
     ]
    },
    {
     "data": {
      "text/html": [
       "<table class=\"simpletable\">\n",
       "<caption>OLS Regression Results</caption>\n",
       "<tr>\n",
       "  <th>Dep. Variable:</th>    <td>np.log(df['Calories Consumed'])</td> <th>  R-squared:         </th> <td>   0.852</td>\n",
       "</tr>\n",
       "<tr>\n",
       "  <th>Model:</th>                          <td>OLS</td>               <th>  Adj. R-squared:    </th> <td>   0.825</td>\n",
       "</tr>\n",
       "<tr>\n",
       "  <th>Method:</th>                    <td>Least Squares</td>          <th>  F-statistic:       </th> <td>   31.55</td>\n",
       "</tr>\n",
       "<tr>\n",
       "  <th>Date:</th>                    <td>Fri, 04 Nov 2022</td>         <th>  Prob (F-statistic):</th> <td>2.78e-05</td>\n",
       "</tr>\n",
       "<tr>\n",
       "  <th>Time:</th>                        <td>01:09:04</td>             <th>  Log-Likelihood:    </th> <td>  10.125</td>\n",
       "</tr>\n",
       "<tr>\n",
       "  <th>No. Observations:</th>             <td>    14</td>              <th>  AIC:               </th> <td>  -14.25</td>\n",
       "</tr>\n",
       "<tr>\n",
       "  <th>Df Residuals:</th>                 <td>    11</td>              <th>  BIC:               </th> <td>  -12.33</td>\n",
       "</tr>\n",
       "<tr>\n",
       "  <th>Df Model:</th>                     <td>     2</td>              <th>                     </th>     <td> </td>   \n",
       "</tr>\n",
       "<tr>\n",
       "  <th>Covariance Type:</th>             <td>nonrobust</td>            <th>                     </th>     <td> </td>   \n",
       "</tr>\n",
       "</table>\n",
       "<table class=\"simpletable\">\n",
       "<tr>\n",
       "                                <td></td>                                  <th>coef</th>     <th>std err</th>      <th>t</th>      <th>P>|t|</th>  <th>[0.025</th>    <th>0.975]</th>  \n",
       "</tr>\n",
       "<tr>\n",
       "  <th>Intercept</th>                                                    <td>    7.2892</td> <td>    0.084</td> <td>   86.724</td> <td> 0.000</td> <td>    7.104</td> <td>    7.474</td>\n",
       "</tr>\n",
       "<tr>\n",
       "  <th>df['Weight gained (grams)']</th>                                  <td>    0.0017</td> <td>    0.000</td> <td>    3.560</td> <td> 0.004</td> <td>    0.001</td> <td>    0.003</td>\n",
       "</tr>\n",
       "<tr>\n",
       "  <th>I(df['Weight gained (grams)'] * df['Weight gained (grams)'])</th> <td>-7.689e-07</td> <td> 4.27e-07</td> <td>   -1.803</td> <td> 0.099</td> <td>-1.71e-06</td> <td>  1.7e-07</td>\n",
       "</tr>\n",
       "</table>\n",
       "<table class=\"simpletable\">\n",
       "<tr>\n",
       "  <th>Omnibus:</th>       <td> 0.744</td> <th>  Durbin-Watson:     </th> <td>   2.647</td>\n",
       "</tr>\n",
       "<tr>\n",
       "  <th>Prob(Omnibus):</th> <td> 0.689</td> <th>  Jarque-Bera (JB):  </th> <td>   0.721</td>\n",
       "</tr>\n",
       "<tr>\n",
       "  <th>Skew:</th>          <td>-0.394</td> <th>  Prob(JB):          </th> <td>   0.697</td>\n",
       "</tr>\n",
       "<tr>\n",
       "  <th>Kurtosis:</th>      <td> 2.217</td> <th>  Cond. No.          </th> <td>1.01e+06</td>\n",
       "</tr>\n",
       "</table><br/><br/>Notes:<br/>[1] Standard Errors assume that the covariance matrix of the errors is correctly specified.<br/>[2] The condition number is large, 1.01e+06. This might indicate that there are<br/>strong multicollinearity or other numerical problems."
      ],
      "text/plain": [
       "<class 'statsmodels.iolib.summary.Summary'>\n",
       "\"\"\"\n",
       "                                   OLS Regression Results                                  \n",
       "===========================================================================================\n",
       "Dep. Variable:     np.log(df['Calories Consumed'])   R-squared:                       0.852\n",
       "Model:                                         OLS   Adj. R-squared:                  0.825\n",
       "Method:                              Least Squares   F-statistic:                     31.55\n",
       "Date:                             Fri, 04 Nov 2022   Prob (F-statistic):           2.78e-05\n",
       "Time:                                     01:09:04   Log-Likelihood:                 10.125\n",
       "No. Observations:                               14   AIC:                            -14.25\n",
       "Df Residuals:                                   11   BIC:                            -12.33\n",
       "Df Model:                                        2                                         \n",
       "Covariance Type:                         nonrobust                                         \n",
       "================================================================================================================================\n",
       "                                                                   coef    std err          t      P>|t|      [0.025      0.975]\n",
       "--------------------------------------------------------------------------------------------------------------------------------\n",
       "Intercept                                                        7.2892      0.084     86.724      0.000       7.104       7.474\n",
       "df['Weight gained (grams)']                                      0.0017      0.000      3.560      0.004       0.001       0.003\n",
       "I(df['Weight gained (grams)'] * df['Weight gained (grams)']) -7.689e-07   4.27e-07     -1.803      0.099   -1.71e-06     1.7e-07\n",
       "==============================================================================\n",
       "Omnibus:                        0.744   Durbin-Watson:                   2.647\n",
       "Prob(Omnibus):                  0.689   Jarque-Bera (JB):                0.721\n",
       "Skew:                          -0.394   Prob(JB):                        0.697\n",
       "Kurtosis:                       2.217   Cond. No.                     1.01e+06\n",
       "==============================================================================\n",
       "\n",
       "Notes:\n",
       "[1] Standard Errors assume that the covariance matrix of the errors is correctly specified.\n",
       "[2] The condition number is large, 1.01e+06. This might indicate that there are\n",
       "strong multicollinearity or other numerical problems.\n",
       "\"\"\""
      ]
     },
     "execution_count": 37,
     "metadata": {},
     "output_type": "execute_result"
    }
   ],
   "source": [
    "model4 = smf.ols(\"np.log(df['Calories Consumed']) ~ df['Weight gained (grams)'] + I(df['Weight gained (grams)']*df['Weight gained (grams)'])\", data = df).fit()\n",
    "model4.summary()"
   ]
  },
  {
   "cell_type": "code",
   "execution_count": 38,
   "id": "dd0e4918",
   "metadata": {},
   "outputs": [],
   "source": [
    "pred4 = model4.predict(pd.DataFrame(df))\n",
    "pred4_at = np.exp(pred4)"
   ]
  },
  {
   "cell_type": "markdown",
   "id": "0f1b245f",
   "metadata": {},
   "source": [
    "Visualization to see how well the model fit the data."
   ]
  },
  {
   "cell_type": "code",
   "execution_count": 39,
   "id": "2f4395ba",
   "metadata": {},
   "outputs": [
    {
     "data": {
      "image/png": "[encoded data removed]",
      "text/plain": [
       "<Figure size 432x288 with 1 Axes>"
      ]
     },
     "metadata": {
      "needs_background": "light"
     },
     "output_type": "display_data"
    }
   ],
   "source": [
    "# Regression line\n",
    "from sklearn.preprocessing import PolynomialFeatures\n",
    "poly_reg = PolynomialFeatures(degree = 2)\n",
    "X = df.iloc[:, 0:1].values\n",
    "X_poly = poly_reg.fit_transform(X)\n",
    "# y = wcat.iloc[:, 1].values\n",
    "\n",
    "\n",
    "plt.scatter(df['Weight gained (grams)'], np.log(df['Calories Consumed']))\n",
    "plt.plot(X, pred4, color = 'red')\n",
    "plt.legend(['Predicted line', 'Observed data'])\n",
    "plt.show()"
   ]
  },
  {
   "cell_type": "markdown",
   "id": "a4a3cca4",
   "metadata": {},
   "source": [
    "Error calculation"
   ]
  },
  {
   "cell_type": "code",
   "execution_count": 40,
   "id": "92dbbe82",
   "metadata": {},
   "outputs": [
    {
     "data": {
      "text/plain": [
       "240.82777570404062"
      ]
     },
     "execution_count": 40,
     "metadata": {},
     "output_type": "execute_result"
    }
   ],
   "source": [
    "res4 = df['Calories Consumed']- pred4_at\n",
    "res_sqr4 = res4 * res4\n",
    "mse4 = np.mean(res_sqr4)\n",
    "rmse4 = np.sqrt(mse4)\n",
    "rmse4"
   ]
  },
  {
   "cell_type": "markdown",
   "id": "b5b42fb6",
   "metadata": {},
   "source": [
    "                   ** COMPARING THE IMPORTANT VALUES FOR ALL THE DIFFERENT MODELS TO SELECT THE BEST MODEL **"
   ]
  },
  {
   "cell_type": "markdown",
   "id": "d2be49bf",
   "metadata": {},
   "source": [
    "|               **OUTPUT**               |               **INPUT**              | **R VALUE** | **R^2 VALUE** | **RMSE VALUE** |\n",
    "|:--------------------------------------:|:------------------------------------:|:------------|:-------------:|:--------------:|\n",
    "| Calories Consumed                      | Weight gained                        | 0.95        | 0.897         | 232.83         |\n",
    "| Calories Consumed                      | log(Weight gained)                   | 0.937       | 0.878         | 253.55         |\n",
    "|log(Calories Consumed)                  | Weight gained                        | 0.898       | 0.808         | 272.42         |\n",
    "|log(Calories Consumed)                  | Weight gained, Weight gained^2       |             | 0.852         | 240.8277       |"
   ]
  },
  {
   "cell_type": "markdown",
   "id": "c98aad06",
   "metadata": {},
   "source": [
    "From all the different models the first model had the best of all the values so model building will be done using that model. "
   ]
  },
  {
   "cell_type": "markdown",
   "id": "03aa2356",
   "metadata": {},
   "source": [
    "### MODEL BUILDING"
   ]
  },
  {
   "cell_type": "markdown",
   "id": "17cf3e07",
   "metadata": {},
   "source": [
    "__Performing Simple Linear Regression__"
   ]
  },
  {
   "cell_type": "markdown",
   "id": "2bd148c5",
   "metadata": {},
   "source": [
    "Equation of linear regression<br>\n",
    "y=c+m1x1+m2x2+...+mnxn<br>\n",
    "y is the response<br>\n",
    "c is the intercept<br>\n",
    "m1 is the coefficient for the first feature<br>\n",
    "mn is the coefficient for the nth feature<br>"
   ]
  },
  {
   "cell_type": "markdown",
   "id": "45e3a055",
   "metadata": {},
   "source": [
    "In our case:<br>\n",
    "y=c+m1×WG  where WG is Weight Gained (grams)<br>\n",
    "The m values are called the model coefficients or model parameters.<br>"
   ]
  },
  {
   "cell_type": "markdown",
   "id": "5672117b",
   "metadata": {},
   "source": [
    "Assigning the feature variable __'Weight gained (grams)'__ to X variable and the label variable __'Calories Consumed'__ to Y variable. "
   ]
  },
  {
   "cell_type": "code",
   "execution_count": 41,
   "id": "fd1b157a",
   "metadata": {},
   "outputs": [],
   "source": [
    "X = df[\"Weight gained (grams)\"]\n",
    "Y = df['Calories Consumed']"
   ]
  },
  {
   "cell_type": "markdown",
   "id": "02486fea",
   "metadata": {},
   "source": [
    "Splitting the variables into train and test sets. "
   ]
  },
  {
   "cell_type": "code",
   "execution_count": 42,
   "id": "ef379797",
   "metadata": {},
   "outputs": [],
   "source": [
    "from sklearn.model_selection import train_test_split\n",
    "X_train, X_test, Y_train, Y_test = train_test_split(X, Y, train_size = 0.7, test_size = 0.3, random_state = 100)"
   ]
  },
  {
   "cell_type": "markdown",
   "id": "bf9ce643",
   "metadata": {},
   "source": [
    "Importing the library required for building the model. "
   ]
  },
  {
   "cell_type": "code",
   "execution_count": 43,
   "id": "7ba75647",
   "metadata": {},
   "outputs": [],
   "source": [
    "import statsmodels.api as sm"
   ]
  },
  {
   "cell_type": "markdown",
   "id": "ca814190",
   "metadata": {},
   "source": [
    "By default, the statsmodels library fits a line on the dataset which passes through the origin. But in order to have an intercept, we need to manually use the add_constant attribute of statsmodels. And once we've added the constant to our X_train dataset, we can go ahead and fit a regression line using the OLS (Ordinary Least Squares) attribute of statsmodels as shown below"
   ]
  },
  {
   "cell_type": "code",
   "execution_count": 45,
   "id": "8a71a9a7",
   "metadata": {},
   "outputs": [],
   "source": [
    "X_train_sm=sm.add_constant(X_train)"
   ]
  },
  {
   "cell_type": "code",
   "execution_count": 46,
   "id": "6f55bc96",
   "metadata": {},
   "outputs": [],
   "source": [
    "model = sm.OLS( Y_train,X_train_sm ).fit()"
   ]
  },
  {
   "cell_type": "markdown",
   "id": "0948ed74",
   "metadata": {},
   "source": [
    "Performing a summary operation lists out all the different parameters of the regression line fitted"
   ]
  },
  {
   "cell_type": "code",
   "execution_count": 47,
   "id": "b31c5f33",
   "metadata": {
    "scrolled": true
   },
   "outputs": [
    {
     "name": "stderr",
     "output_type": "stream",
     "text": [
      "C:\\Users\\lenny\\anaconda3\\lib\\site-packages\\scipy\\stats\\_stats_py.py:1769: UserWarning: kurtosistest only valid for n>=20 ... continuing anyway, n=9\n",
      "  warnings.warn(\"kurtosistest only valid for n>=20 ... continuing \"\n"
     ]
    },
    {
     "data": {
      "text/html": [
       "<table class=\"simpletable\">\n",
       "<caption>OLS Regression Results</caption>\n",
       "<tr>\n",
       "  <th>Dep. Variable:</th>    <td>Calories Consumed</td> <th>  R-squared:         </th> <td>   0.884</td>\n",
       "</tr>\n",
       "<tr>\n",
       "  <th>Model:</th>                   <td>OLS</td>        <th>  Adj. R-squared:    </th> <td>   0.867</td>\n",
       "</tr>\n",
       "<tr>\n",
       "  <th>Method:</th>             <td>Least Squares</td>   <th>  F-statistic:       </th> <td>   53.36</td>\n",
       "</tr>\n",
       "<tr>\n",
       "  <th>Date:</th>             <td>Fri, 04 Nov 2022</td>  <th>  Prob (F-statistic):</th> <td>0.000162</td>\n",
       "</tr>\n",
       "<tr>\n",
       "  <th>Time:</th>                 <td>01:11:36</td>      <th>  Log-Likelihood:    </th> <td> -61.590</td>\n",
       "</tr>\n",
       "<tr>\n",
       "  <th>No. Observations:</th>      <td>     9</td>       <th>  AIC:               </th> <td>   127.2</td>\n",
       "</tr>\n",
       "<tr>\n",
       "  <th>Df Residuals:</th>          <td>     7</td>       <th>  BIC:               </th> <td>   127.6</td>\n",
       "</tr>\n",
       "<tr>\n",
       "  <th>Df Model:</th>              <td>     1</td>       <th>                     </th>     <td> </td>   \n",
       "</tr>\n",
       "<tr>\n",
       "  <th>Covariance Type:</th>      <td>nonrobust</td>     <th>                     </th>     <td> </td>   \n",
       "</tr>\n",
       "</table>\n",
       "<table class=\"simpletable\">\n",
       "<tr>\n",
       "            <td></td>               <th>coef</th>     <th>std err</th>      <th>t</th>      <th>P>|t|</th>  <th>[0.025</th>    <th>0.975]</th>  \n",
       "</tr>\n",
       "<tr>\n",
       "  <th>const</th>                 <td> 1523.9811</td> <td>  132.653</td> <td>   11.488</td> <td> 0.000</td> <td> 1210.307</td> <td> 1837.656</td>\n",
       "</tr>\n",
       "<tr>\n",
       "  <th>Weight gained (grams)</th> <td>    2.1479</td> <td>    0.294</td> <td>    7.305</td> <td> 0.000</td> <td>    1.453</td> <td>    2.843</td>\n",
       "</tr>\n",
       "</table>\n",
       "<table class=\"simpletable\">\n",
       "<tr>\n",
       "  <th>Omnibus:</th>       <td> 0.195</td> <th>  Durbin-Watson:     </th> <td>   1.937</td>\n",
       "</tr>\n",
       "<tr>\n",
       "  <th>Prob(Omnibus):</th> <td> 0.907</td> <th>  Jarque-Bera (JB):  </th> <td>   0.368</td>\n",
       "</tr>\n",
       "<tr>\n",
       "  <th>Skew:</th>          <td>-0.143</td> <th>  Prob(JB):          </th> <td>   0.832</td>\n",
       "</tr>\n",
       "<tr>\n",
       "  <th>Kurtosis:</th>      <td> 2.051</td> <th>  Cond. No.          </th> <td>    698.</td>\n",
       "</tr>\n",
       "</table><br/><br/>Notes:<br/>[1] Standard Errors assume that the covariance matrix of the errors is correctly specified."
      ],
      "text/plain": [
       "<class 'statsmodels.iolib.summary.Summary'>\n",
       "\"\"\"\n",
       "                            OLS Regression Results                            \n",
       "==============================================================================\n",
       "Dep. Variable:      Calories Consumed   R-squared:                       0.884\n",
       "Model:                            OLS   Adj. R-squared:                  0.867\n",
       "Method:                 Least Squares   F-statistic:                     53.36\n",
       "Date:                Fri, 04 Nov 2022   Prob (F-statistic):           0.000162\n",
       "Time:                        01:11:36   Log-Likelihood:                -61.590\n",
       "No. Observations:                   9   AIC:                             127.2\n",
       "Df Residuals:                       7   BIC:                             127.6\n",
       "Df Model:                           1                                         \n",
       "Covariance Type:            nonrobust                                         \n",
       "=========================================================================================\n",
       "                            coef    std err          t      P>|t|      [0.025      0.975]\n",
       "-----------------------------------------------------------------------------------------\n",
       "const                  1523.9811    132.653     11.488      0.000    1210.307    1837.656\n",
       "Weight gained (grams)     2.1479      0.294      7.305      0.000       1.453       2.843\n",
       "==============================================================================\n",
       "Omnibus:                        0.195   Durbin-Watson:                   1.937\n",
       "Prob(Omnibus):                  0.907   Jarque-Bera (JB):                0.368\n",
       "Skew:                          -0.143   Prob(JB):                        0.832\n",
       "Kurtosis:                       2.051   Cond. No.                         698.\n",
       "==============================================================================\n",
       "\n",
       "Notes:\n",
       "[1] Standard Errors assume that the covariance matrix of the errors is correctly specified.\n",
       "\"\"\""
      ]
     },
     "execution_count": 47,
     "metadata": {},
     "output_type": "execute_result"
    }
   ],
   "source": [
    "model.summary()"
   ]
  },
  {
   "cell_type": "markdown",
   "id": "497c367d",
   "metadata": {},
   "source": [
    "Looking at some key statistics from the summary\n",
    "\n",
    "The values we are concerned with are -<br>\n",
    "\n",
    "* __R-squared__<br>\n",
    "    R-squared value is 0.884. This shows that 88.4% of the variance in the weight can be explained by height.<br>\n",
    "* __F statistic  p value and its significance__<br>\n",
    "    F statistic has a very low p value (practically low) Meaning that the model fit is statistically significant, and the explained variance isn't purely by chance.<br>\n",
    "* __The coefficients and significance (p-values)__<br>\n",
    "    The coefficient for weight gained is 2.15 and P-value is close to 0. This shows that the coefficient is statistically significant.<br>\n",
    "\n",
    "The fit is significant.<br>\n",
    "From the parameters that we get, our linear regression equation becomes:<br>\n",
    "\n",
    "#### Calories consumed=1523.98+ 2.15×Weight Gained"
   ]
  },
  {
   "cell_type": "markdown",
   "id": "d8ff9a36",
   "metadata": {},
   "source": [
    "Let's visualize how well the model fit the data."
   ]
  },
  {
   "cell_type": "code",
   "execution_count": 48,
   "id": "fbb432a7",
   "metadata": {},
   "outputs": [
    {
     "data": {
      "image/png": "[encoded data removed]",
      "text/plain": [
       "<Figure size 720x576 with 1 Axes>"
      ]
     },
     "metadata": {
      "needs_background": "light"
     },
     "output_type": "display_data"
    }
   ],
   "source": [
    "plt.figure(figsize=(10,8))\n",
    "plt.scatter(X_train, Y_train)\n",
    "plt.plot(X_train, 1523.9811 + 2.1479*X_train, 'r')\n",
    "plt.show()"
   ]
  },
  {
   "cell_type": "markdown",
   "id": "b26225b3",
   "metadata": {},
   "source": [
    "In order to have an intercept, we need to manually use the add_constant attribute of statsmodels"
   ]
  },
  {
   "cell_type": "code",
   "execution_count": 49,
   "id": "3c4d98d6",
   "metadata": {},
   "outputs": [],
   "source": [
    "X_test_sm=sm.add_constant(X_test)"
   ]
  },
  {
   "cell_type": "markdown",
   "id": "dcee77ca",
   "metadata": {},
   "source": [
    "Predicting the dependent variable of the test dataset. "
   ]
  },
  {
   "cell_type": "code",
   "execution_count": 51,
   "id": "64fe13c0",
   "metadata": {},
   "outputs": [],
   "source": [
    "Y_test_pred=model.predict(X_test_sm)"
   ]
  },
  {
   "cell_type": "markdown",
   "id": "d8c187d7",
   "metadata": {},
   "source": [
    "Importing the required libraries to calculate the RMSE value and R^2 value. "
   ]
  },
  {
   "cell_type": "code",
   "execution_count": 52,
   "id": "dbe9adfe",
   "metadata": {},
   "outputs": [],
   "source": [
    "from sklearn.metrics import mean_squared_error\n",
    "from sklearn.metrics import r2_score"
   ]
  },
  {
   "cell_type": "markdown",
   "id": "b1f04818",
   "metadata": {},
   "source": [
    "Returns the mean squared error; we'll take a square root to get the RMSE value"
   ]
  },
  {
   "cell_type": "code",
   "execution_count": 53,
   "id": "76ea0cd6",
   "metadata": {},
   "outputs": [
    {
     "data": {
      "text/plain": [
       "256.4256590928381"
      ]
     },
     "execution_count": 53,
     "metadata": {},
     "output_type": "execute_result"
    }
   ],
   "source": [
    "np.sqrt(mean_squared_error(Y_test, Y_test_pred))"
   ]
  },
  {
   "cell_type": "markdown",
   "id": "98993827",
   "metadata": {},
   "source": [
    "finding the r^2 value of the test dataset. "
   ]
  },
  {
   "cell_type": "code",
   "execution_count": 55,
   "id": "c2728b19",
   "metadata": {},
   "outputs": [
    {
     "data": {
      "text/plain": [
       "0.8975154011203298"
      ]
     },
     "execution_count": 55,
     "metadata": {},
     "output_type": "execute_result"
    }
   ],
   "source": [
    "r_squared = r2_score(Y_test, Y_test_pred)\n",
    "r_squared"
   ]
  },
  {
   "cell_type": "markdown",
   "id": "d48d82ef",
   "metadata": {},
   "source": [
    "Evaluating the train dataset by predicting to get the RMSE value for the dataset. "
   ]
  },
  {
   "cell_type": "code",
   "execution_count": 56,
   "id": "5a6d44b4",
   "metadata": {},
   "outputs": [],
   "source": [
    "Y_train_pred=model.predict(X_train_sm)"
   ]
  },
  {
   "cell_type": "code",
   "execution_count": 57,
   "id": "537da069",
   "metadata": {},
   "outputs": [
    {
     "data": {
      "text/plain": [
       "226.8748997542767"
      ]
     },
     "execution_count": 57,
     "metadata": {},
     "output_type": "execute_result"
    }
   ],
   "source": [
    "np.sqrt(mean_squared_error(Y_train, Y_train_pred))"
   ]
  },
  {
   "cell_type": "code",
   "execution_count": 58,
   "id": "02284a06",
   "metadata": {},
   "outputs": [
    {
     "data": {
      "text/plain": [
       "0.884036752466552"
      ]
     },
     "execution_count": 58,
     "metadata": {},
     "output_type": "execute_result"
    }
   ],
   "source": [
    "r_squared = r2_score(Y_train, Y_train_pred)\n",
    "r_squared"
   ]
  },
  {
   "cell_type": "markdown",
   "id": "4d1b253c",
   "metadata": {},
   "source": [
    "### CONCLUSION"
   ]
  },
  {
   "cell_type": "markdown",
   "id": "ac38c572",
   "metadata": {},
   "source": [
    "From all the models, the simple linear regression model is best model as it has comparatively best r-square value and r value. "
   ]
  },
  {
   "cell_type": "code",
   "execution_count": null,
   "id": "e43ee578",
   "metadata": {},
   "outputs": [],
   "source": []
  }
 ],
 "metadata": {
  "kernelspec": {
   "display_name": "Python 3 (ipykernel)",
   "language": "python",
   "name": "python3"
  },
  "language_info": {
   "codemirror_mode": {
    "name": "ipython",
    "version": 3
   },
   "file_extension": ".py",
   "mimetype": "text/x-python",
   "name": "python",
   "nbconvert_exporter": "python",
   "pygments_lexer": "ipython3",
   "version": "3.9.12"
  }
 },
 "nbformat": 4,
 "nbformat_minor": 5
}
